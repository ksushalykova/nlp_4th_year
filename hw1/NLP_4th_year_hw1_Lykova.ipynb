{
  "nbformat": 4,
  "nbformat_minor": 0,
  "metadata": {
    "colab": {
      "provenance": []
    },
    "kernelspec": {
      "name": "python3",
      "display_name": "Python 3"
    },
    "language_info": {
      "name": "python"
    },
    "widgets": {
      "application/vnd.jupyter.widget-state+json": {
        "b54430b805f9424c8488ee80551b6ab4": {
          "model_module": "@jupyter-widgets/controls",
          "model_name": "HBoxModel",
          "model_module_version": "1.5.0",
          "state": {
            "_dom_classes": [],
            "_model_module": "@jupyter-widgets/controls",
            "_model_module_version": "1.5.0",
            "_model_name": "HBoxModel",
            "_view_count": null,
            "_view_module": "@jupyter-widgets/controls",
            "_view_module_version": "1.5.0",
            "_view_name": "HBoxView",
            "box_style": "",
            "children": [
              "IPY_MODEL_b77a46796f184a1c9d618446915b7317",
              "IPY_MODEL_05cc3261761647bc9fd35bf14f072f88",
              "IPY_MODEL_9c6daff0b0ef43d5b3f733d56a4c4b91"
            ],
            "layout": "IPY_MODEL_39be57603e7a4ea4a8634fa6c4a8271d"
          }
        },
        "b77a46796f184a1c9d618446915b7317": {
          "model_module": "@jupyter-widgets/controls",
          "model_name": "HTMLModel",
          "model_module_version": "1.5.0",
          "state": {
            "_dom_classes": [],
            "_model_module": "@jupyter-widgets/controls",
            "_model_module_version": "1.5.0",
            "_model_name": "HTMLModel",
            "_view_count": null,
            "_view_module": "@jupyter-widgets/controls",
            "_view_module_version": "1.5.0",
            "_view_name": "HTMLView",
            "description": "",
            "description_tooltip": null,
            "layout": "IPY_MODEL_be3a02a16f424289b9b8e0604da9dfcd",
            "placeholder": "​",
            "style": "IPY_MODEL_8bf1cc83a66d442ebabbb05157078f72",
            "value": "Downloading: 100%"
          }
        },
        "05cc3261761647bc9fd35bf14f072f88": {
          "model_module": "@jupyter-widgets/controls",
          "model_name": "FloatProgressModel",
          "model_module_version": "1.5.0",
          "state": {
            "_dom_classes": [],
            "_model_module": "@jupyter-widgets/controls",
            "_model_module_version": "1.5.0",
            "_model_name": "FloatProgressModel",
            "_view_count": null,
            "_view_module": "@jupyter-widgets/controls",
            "_view_module_version": "1.5.0",
            "_view_name": "ProgressView",
            "bar_style": "success",
            "description": "",
            "description_tooltip": null,
            "layout": "IPY_MODEL_90ce644b39a54c339ac8963a56b9f9d5",
            "max": 1652,
            "min": 0,
            "orientation": "horizontal",
            "style": "IPY_MODEL_013919bc55e14e2dbe4aa5e6e1b86a2d",
            "value": 1652
          }
        },
        "9c6daff0b0ef43d5b3f733d56a4c4b91": {
          "model_module": "@jupyter-widgets/controls",
          "model_name": "HTMLModel",
          "model_module_version": "1.5.0",
          "state": {
            "_dom_classes": [],
            "_model_module": "@jupyter-widgets/controls",
            "_model_module_version": "1.5.0",
            "_model_name": "HTMLModel",
            "_view_count": null,
            "_view_module": "@jupyter-widgets/controls",
            "_view_module_version": "1.5.0",
            "_view_name": "HTMLView",
            "description": "",
            "description_tooltip": null,
            "layout": "IPY_MODEL_e21f50ebecb848678151ad35a992f2ec",
            "placeholder": "​",
            "style": "IPY_MODEL_0698984114224fd2a1669dd0d0e548b5",
            "value": " 1.65k/1.65k [00:00&lt;00:00, 43.6kB/s]"
          }
        },
        "39be57603e7a4ea4a8634fa6c4a8271d": {
          "model_module": "@jupyter-widgets/base",
          "model_name": "LayoutModel",
          "model_module_version": "1.2.0",
          "state": {
            "_model_module": "@jupyter-widgets/base",
            "_model_module_version": "1.2.0",
            "_model_name": "LayoutModel",
            "_view_count": null,
            "_view_module": "@jupyter-widgets/base",
            "_view_module_version": "1.2.0",
            "_view_name": "LayoutView",
            "align_content": null,
            "align_items": null,
            "align_self": null,
            "border": null,
            "bottom": null,
            "display": null,
            "flex": null,
            "flex_flow": null,
            "grid_area": null,
            "grid_auto_columns": null,
            "grid_auto_flow": null,
            "grid_auto_rows": null,
            "grid_column": null,
            "grid_gap": null,
            "grid_row": null,
            "grid_template_areas": null,
            "grid_template_columns": null,
            "grid_template_rows": null,
            "height": null,
            "justify_content": null,
            "justify_items": null,
            "left": null,
            "margin": null,
            "max_height": null,
            "max_width": null,
            "min_height": null,
            "min_width": null,
            "object_fit": null,
            "object_position": null,
            "order": null,
            "overflow": null,
            "overflow_x": null,
            "overflow_y": null,
            "padding": null,
            "right": null,
            "top": null,
            "visibility": null,
            "width": null
          }
        },
        "be3a02a16f424289b9b8e0604da9dfcd": {
          "model_module": "@jupyter-widgets/base",
          "model_name": "LayoutModel",
          "model_module_version": "1.2.0",
          "state": {
            "_model_module": "@jupyter-widgets/base",
            "_model_module_version": "1.2.0",
            "_model_name": "LayoutModel",
            "_view_count": null,
            "_view_module": "@jupyter-widgets/base",
            "_view_module_version": "1.2.0",
            "_view_name": "LayoutView",
            "align_content": null,
            "align_items": null,
            "align_self": null,
            "border": null,
            "bottom": null,
            "display": null,
            "flex": null,
            "flex_flow": null,
            "grid_area": null,
            "grid_auto_columns": null,
            "grid_auto_flow": null,
            "grid_auto_rows": null,
            "grid_column": null,
            "grid_gap": null,
            "grid_row": null,
            "grid_template_areas": null,
            "grid_template_columns": null,
            "grid_template_rows": null,
            "height": null,
            "justify_content": null,
            "justify_items": null,
            "left": null,
            "margin": null,
            "max_height": null,
            "max_width": null,
            "min_height": null,
            "min_width": null,
            "object_fit": null,
            "object_position": null,
            "order": null,
            "overflow": null,
            "overflow_x": null,
            "overflow_y": null,
            "padding": null,
            "right": null,
            "top": null,
            "visibility": null,
            "width": null
          }
        },
        "8bf1cc83a66d442ebabbb05157078f72": {
          "model_module": "@jupyter-widgets/controls",
          "model_name": "DescriptionStyleModel",
          "model_module_version": "1.5.0",
          "state": {
            "_model_module": "@jupyter-widgets/controls",
            "_model_module_version": "1.5.0",
            "_model_name": "DescriptionStyleModel",
            "_view_count": null,
            "_view_module": "@jupyter-widgets/base",
            "_view_module_version": "1.2.0",
            "_view_name": "StyleView",
            "description_width": ""
          }
        },
        "90ce644b39a54c339ac8963a56b9f9d5": {
          "model_module": "@jupyter-widgets/base",
          "model_name": "LayoutModel",
          "model_module_version": "1.2.0",
          "state": {
            "_model_module": "@jupyter-widgets/base",
            "_model_module_version": "1.2.0",
            "_model_name": "LayoutModel",
            "_view_count": null,
            "_view_module": "@jupyter-widgets/base",
            "_view_module_version": "1.2.0",
            "_view_name": "LayoutView",
            "align_content": null,
            "align_items": null,
            "align_self": null,
            "border": null,
            "bottom": null,
            "display": null,
            "flex": null,
            "flex_flow": null,
            "grid_area": null,
            "grid_auto_columns": null,
            "grid_auto_flow": null,
            "grid_auto_rows": null,
            "grid_column": null,
            "grid_gap": null,
            "grid_row": null,
            "grid_template_areas": null,
            "grid_template_columns": null,
            "grid_template_rows": null,
            "height": null,
            "justify_content": null,
            "justify_items": null,
            "left": null,
            "margin": null,
            "max_height": null,
            "max_width": null,
            "min_height": null,
            "min_width": null,
            "object_fit": null,
            "object_position": null,
            "order": null,
            "overflow": null,
            "overflow_x": null,
            "overflow_y": null,
            "padding": null,
            "right": null,
            "top": null,
            "visibility": null,
            "width": null
          }
        },
        "013919bc55e14e2dbe4aa5e6e1b86a2d": {
          "model_module": "@jupyter-widgets/controls",
          "model_name": "ProgressStyleModel",
          "model_module_version": "1.5.0",
          "state": {
            "_model_module": "@jupyter-widgets/controls",
            "_model_module_version": "1.5.0",
            "_model_name": "ProgressStyleModel",
            "_view_count": null,
            "_view_module": "@jupyter-widgets/base",
            "_view_module_version": "1.2.0",
            "_view_name": "StyleView",
            "bar_color": null,
            "description_width": ""
          }
        },
        "e21f50ebecb848678151ad35a992f2ec": {
          "model_module": "@jupyter-widgets/base",
          "model_name": "LayoutModel",
          "model_module_version": "1.2.0",
          "state": {
            "_model_module": "@jupyter-widgets/base",
            "_model_module_version": "1.2.0",
            "_model_name": "LayoutModel",
            "_view_count": null,
            "_view_module": "@jupyter-widgets/base",
            "_view_module_version": "1.2.0",
            "_view_name": "LayoutView",
            "align_content": null,
            "align_items": null,
            "align_self": null,
            "border": null,
            "bottom": null,
            "display": null,
            "flex": null,
            "flex_flow": null,
            "grid_area": null,
            "grid_auto_columns": null,
            "grid_auto_flow": null,
            "grid_auto_rows": null,
            "grid_column": null,
            "grid_gap": null,
            "grid_row": null,
            "grid_template_areas": null,
            "grid_template_columns": null,
            "grid_template_rows": null,
            "height": null,
            "justify_content": null,
            "justify_items": null,
            "left": null,
            "margin": null,
            "max_height": null,
            "max_width": null,
            "min_height": null,
            "min_width": null,
            "object_fit": null,
            "object_position": null,
            "order": null,
            "overflow": null,
            "overflow_x": null,
            "overflow_y": null,
            "padding": null,
            "right": null,
            "top": null,
            "visibility": null,
            "width": null
          }
        },
        "0698984114224fd2a1669dd0d0e548b5": {
          "model_module": "@jupyter-widgets/controls",
          "model_name": "DescriptionStyleModel",
          "model_module_version": "1.5.0",
          "state": {
            "_model_module": "@jupyter-widgets/controls",
            "_model_module_version": "1.5.0",
            "_model_name": "DescriptionStyleModel",
            "_view_count": null,
            "_view_module": "@jupyter-widgets/base",
            "_view_module_version": "1.2.0",
            "_view_name": "StyleView",
            "description_width": ""
          }
        },
        "05b3ccf8049c462d9ccd3b6725738143": {
          "model_module": "@jupyter-widgets/controls",
          "model_name": "HBoxModel",
          "model_module_version": "1.5.0",
          "state": {
            "_dom_classes": [],
            "_model_module": "@jupyter-widgets/controls",
            "_model_module_version": "1.5.0",
            "_model_name": "HBoxModel",
            "_view_count": null,
            "_view_module": "@jupyter-widgets/controls",
            "_view_module_version": "1.5.0",
            "_view_name": "HBoxView",
            "box_style": "",
            "children": [
              "IPY_MODEL_277a883976f74ea0931b492e03333180",
              "IPY_MODEL_804bdef939994165afa88962b9f796e5",
              "IPY_MODEL_0946b0d11e614da797af0189bad15eb0"
            ],
            "layout": "IPY_MODEL_fcece20736624922965f288f154bd78c"
          }
        },
        "277a883976f74ea0931b492e03333180": {
          "model_module": "@jupyter-widgets/controls",
          "model_name": "HTMLModel",
          "model_module_version": "1.5.0",
          "state": {
            "_dom_classes": [],
            "_model_module": "@jupyter-widgets/controls",
            "_model_module_version": "1.5.0",
            "_model_name": "HTMLModel",
            "_view_count": null,
            "_view_module": "@jupyter-widgets/controls",
            "_view_module_version": "1.5.0",
            "_view_name": "HTMLView",
            "description": "",
            "description_tooltip": null,
            "layout": "IPY_MODEL_fbef2798a6154821bcebb4dd1ae64c3a",
            "placeholder": "​",
            "style": "IPY_MODEL_46e73fae7e0c4a88bb4cbed6bfc99e27",
            "value": "Downloading: 100%"
          }
        },
        "804bdef939994165afa88962b9f796e5": {
          "model_module": "@jupyter-widgets/controls",
          "model_name": "FloatProgressModel",
          "model_module_version": "1.5.0",
          "state": {
            "_dom_classes": [],
            "_model_module": "@jupyter-widgets/controls",
            "_model_module_version": "1.5.0",
            "_model_name": "FloatProgressModel",
            "_view_count": null,
            "_view_module": "@jupyter-widgets/controls",
            "_view_module_version": "1.5.0",
            "_view_name": "ProgressView",
            "bar_style": "success",
            "description": "",
            "description_tooltip": null,
            "layout": "IPY_MODEL_d112b72b24b8486ca30c8267766e57c9",
            "max": 190,
            "min": 0,
            "orientation": "horizontal",
            "style": "IPY_MODEL_ab31d6718bbc47a183c764756edfcf07",
            "value": 190
          }
        },
        "0946b0d11e614da797af0189bad15eb0": {
          "model_module": "@jupyter-widgets/controls",
          "model_name": "HTMLModel",
          "model_module_version": "1.5.0",
          "state": {
            "_dom_classes": [],
            "_model_module": "@jupyter-widgets/controls",
            "_model_module_version": "1.5.0",
            "_model_name": "HTMLModel",
            "_view_count": null,
            "_view_module": "@jupyter-widgets/controls",
            "_view_module_version": "1.5.0",
            "_view_name": "HTMLView",
            "description": "",
            "description_tooltip": null,
            "layout": "IPY_MODEL_4e119f0975e04e0a9c4d5bdbab2e7fcb",
            "placeholder": "​",
            "style": "IPY_MODEL_a55674af72894822973d751f29d95056",
            "value": " 190/190 [00:00&lt;00:00, 5.36kB/s]"
          }
        },
        "fcece20736624922965f288f154bd78c": {
          "model_module": "@jupyter-widgets/base",
          "model_name": "LayoutModel",
          "model_module_version": "1.2.0",
          "state": {
            "_model_module": "@jupyter-widgets/base",
            "_model_module_version": "1.2.0",
            "_model_name": "LayoutModel",
            "_view_count": null,
            "_view_module": "@jupyter-widgets/base",
            "_view_module_version": "1.2.0",
            "_view_name": "LayoutView",
            "align_content": null,
            "align_items": null,
            "align_self": null,
            "border": null,
            "bottom": null,
            "display": null,
            "flex": null,
            "flex_flow": null,
            "grid_area": null,
            "grid_auto_columns": null,
            "grid_auto_flow": null,
            "grid_auto_rows": null,
            "grid_column": null,
            "grid_gap": null,
            "grid_row": null,
            "grid_template_areas": null,
            "grid_template_columns": null,
            "grid_template_rows": null,
            "height": null,
            "justify_content": null,
            "justify_items": null,
            "left": null,
            "margin": null,
            "max_height": null,
            "max_width": null,
            "min_height": null,
            "min_width": null,
            "object_fit": null,
            "object_position": null,
            "order": null,
            "overflow": null,
            "overflow_x": null,
            "overflow_y": null,
            "padding": null,
            "right": null,
            "top": null,
            "visibility": null,
            "width": null
          }
        },
        "fbef2798a6154821bcebb4dd1ae64c3a": {
          "model_module": "@jupyter-widgets/base",
          "model_name": "LayoutModel",
          "model_module_version": "1.2.0",
          "state": {
            "_model_module": "@jupyter-widgets/base",
            "_model_module_version": "1.2.0",
            "_model_name": "LayoutModel",
            "_view_count": null,
            "_view_module": "@jupyter-widgets/base",
            "_view_module_version": "1.2.0",
            "_view_name": "LayoutView",
            "align_content": null,
            "align_items": null,
            "align_self": null,
            "border": null,
            "bottom": null,
            "display": null,
            "flex": null,
            "flex_flow": null,
            "grid_area": null,
            "grid_auto_columns": null,
            "grid_auto_flow": null,
            "grid_auto_rows": null,
            "grid_column": null,
            "grid_gap": null,
            "grid_row": null,
            "grid_template_areas": null,
            "grid_template_columns": null,
            "grid_template_rows": null,
            "height": null,
            "justify_content": null,
            "justify_items": null,
            "left": null,
            "margin": null,
            "max_height": null,
            "max_width": null,
            "min_height": null,
            "min_width": null,
            "object_fit": null,
            "object_position": null,
            "order": null,
            "overflow": null,
            "overflow_x": null,
            "overflow_y": null,
            "padding": null,
            "right": null,
            "top": null,
            "visibility": null,
            "width": null
          }
        },
        "46e73fae7e0c4a88bb4cbed6bfc99e27": {
          "model_module": "@jupyter-widgets/controls",
          "model_name": "DescriptionStyleModel",
          "model_module_version": "1.5.0",
          "state": {
            "_model_module": "@jupyter-widgets/controls",
            "_model_module_version": "1.5.0",
            "_model_name": "DescriptionStyleModel",
            "_view_count": null,
            "_view_module": "@jupyter-widgets/base",
            "_view_module_version": "1.2.0",
            "_view_name": "StyleView",
            "description_width": ""
          }
        },
        "d112b72b24b8486ca30c8267766e57c9": {
          "model_module": "@jupyter-widgets/base",
          "model_name": "LayoutModel",
          "model_module_version": "1.2.0",
          "state": {
            "_model_module": "@jupyter-widgets/base",
            "_model_module_version": "1.2.0",
            "_model_name": "LayoutModel",
            "_view_count": null,
            "_view_module": "@jupyter-widgets/base",
            "_view_module_version": "1.2.0",
            "_view_name": "LayoutView",
            "align_content": null,
            "align_items": null,
            "align_self": null,
            "border": null,
            "bottom": null,
            "display": null,
            "flex": null,
            "flex_flow": null,
            "grid_area": null,
            "grid_auto_columns": null,
            "grid_auto_flow": null,
            "grid_auto_rows": null,
            "grid_column": null,
            "grid_gap": null,
            "grid_row": null,
            "grid_template_areas": null,
            "grid_template_columns": null,
            "grid_template_rows": null,
            "height": null,
            "justify_content": null,
            "justify_items": null,
            "left": null,
            "margin": null,
            "max_height": null,
            "max_width": null,
            "min_height": null,
            "min_width": null,
            "object_fit": null,
            "object_position": null,
            "order": null,
            "overflow": null,
            "overflow_x": null,
            "overflow_y": null,
            "padding": null,
            "right": null,
            "top": null,
            "visibility": null,
            "width": null
          }
        },
        "ab31d6718bbc47a183c764756edfcf07": {
          "model_module": "@jupyter-widgets/controls",
          "model_name": "ProgressStyleModel",
          "model_module_version": "1.5.0",
          "state": {
            "_model_module": "@jupyter-widgets/controls",
            "_model_module_version": "1.5.0",
            "_model_name": "ProgressStyleModel",
            "_view_count": null,
            "_view_module": "@jupyter-widgets/base",
            "_view_module_version": "1.2.0",
            "_view_name": "StyleView",
            "bar_color": null,
            "description_width": ""
          }
        },
        "4e119f0975e04e0a9c4d5bdbab2e7fcb": {
          "model_module": "@jupyter-widgets/base",
          "model_name": "LayoutModel",
          "model_module_version": "1.2.0",
          "state": {
            "_model_module": "@jupyter-widgets/base",
            "_model_module_version": "1.2.0",
            "_model_name": "LayoutModel",
            "_view_count": null,
            "_view_module": "@jupyter-widgets/base",
            "_view_module_version": "1.2.0",
            "_view_name": "LayoutView",
            "align_content": null,
            "align_items": null,
            "align_self": null,
            "border": null,
            "bottom": null,
            "display": null,
            "flex": null,
            "flex_flow": null,
            "grid_area": null,
            "grid_auto_columns": null,
            "grid_auto_flow": null,
            "grid_auto_rows": null,
            "grid_column": null,
            "grid_gap": null,
            "grid_row": null,
            "grid_template_areas": null,
            "grid_template_columns": null,
            "grid_template_rows": null,
            "height": null,
            "justify_content": null,
            "justify_items": null,
            "left": null,
            "margin": null,
            "max_height": null,
            "max_width": null,
            "min_height": null,
            "min_width": null,
            "object_fit": null,
            "object_position": null,
            "order": null,
            "overflow": null,
            "overflow_x": null,
            "overflow_y": null,
            "padding": null,
            "right": null,
            "top": null,
            "visibility": null,
            "width": null
          }
        },
        "a55674af72894822973d751f29d95056": {
          "model_module": "@jupyter-widgets/controls",
          "model_name": "DescriptionStyleModel",
          "model_module_version": "1.5.0",
          "state": {
            "_model_module": "@jupyter-widgets/controls",
            "_model_module_version": "1.5.0",
            "_model_name": "DescriptionStyleModel",
            "_view_count": null,
            "_view_module": "@jupyter-widgets/base",
            "_view_module_version": "1.2.0",
            "_view_name": "StyleView",
            "description_width": ""
          }
        },
        "4ca3c14302374560a166bb969a2f962a": {
          "model_module": "@jupyter-widgets/controls",
          "model_name": "HBoxModel",
          "model_module_version": "1.5.0",
          "state": {
            "_dom_classes": [],
            "_model_module": "@jupyter-widgets/controls",
            "_model_module_version": "1.5.0",
            "_model_name": "HBoxModel",
            "_view_count": null,
            "_view_module": "@jupyter-widgets/controls",
            "_view_module_version": "1.5.0",
            "_view_name": "HBoxView",
            "box_style": "",
            "children": [
              "IPY_MODEL_8b9454b54c66484a806cda0570cedb56",
              "IPY_MODEL_caee0271586f441d893ca29711d75d13",
              "IPY_MODEL_9225ca364b504d5da8faf9641b94144c"
            ],
            "layout": "IPY_MODEL_fe7d4dc928b14f488ec1ba91271e5434"
          }
        },
        "8b9454b54c66484a806cda0570cedb56": {
          "model_module": "@jupyter-widgets/controls",
          "model_name": "HTMLModel",
          "model_module_version": "1.5.0",
          "state": {
            "_dom_classes": [],
            "_model_module": "@jupyter-widgets/controls",
            "_model_module_version": "1.5.0",
            "_model_name": "HTMLModel",
            "_view_count": null,
            "_view_module": "@jupyter-widgets/controls",
            "_view_module_version": "1.5.0",
            "_view_name": "HTMLView",
            "description": "",
            "description_tooltip": null,
            "layout": "IPY_MODEL_c4ca992e73e14a75b3012bf7d82559cf",
            "placeholder": "​",
            "style": "IPY_MODEL_248b268e0fa94fb38b3ff4a458ef8f8b",
            "value": "Downloading: 100%"
          }
        },
        "caee0271586f441d893ca29711d75d13": {
          "model_module": "@jupyter-widgets/controls",
          "model_name": "FloatProgressModel",
          "model_module_version": "1.5.0",
          "state": {
            "_dom_classes": [],
            "_model_module": "@jupyter-widgets/controls",
            "_model_module_version": "1.5.0",
            "_model_name": "FloatProgressModel",
            "_view_count": null,
            "_view_module": "@jupyter-widgets/controls",
            "_view_module_version": "1.5.0",
            "_view_name": "ProgressView",
            "bar_style": "success",
            "description": "",
            "description_tooltip": null,
            "layout": "IPY_MODEL_32018de784854dac91ff72cc729d744c",
            "max": 3743,
            "min": 0,
            "orientation": "horizontal",
            "style": "IPY_MODEL_b23a3a033a9248fa8e90683b6f70a293",
            "value": 3743
          }
        },
        "9225ca364b504d5da8faf9641b94144c": {
          "model_module": "@jupyter-widgets/controls",
          "model_name": "HTMLModel",
          "model_module_version": "1.5.0",
          "state": {
            "_dom_classes": [],
            "_model_module": "@jupyter-widgets/controls",
            "_model_module_version": "1.5.0",
            "_model_name": "HTMLModel",
            "_view_count": null,
            "_view_module": "@jupyter-widgets/controls",
            "_view_module_version": "1.5.0",
            "_view_name": "HTMLView",
            "description": "",
            "description_tooltip": null,
            "layout": "IPY_MODEL_02e5471a1f6a49969e7073585addf21c",
            "placeholder": "​",
            "style": "IPY_MODEL_46251a871fc342ddb84483522c92ad97",
            "value": " 3.74k/3.74k [00:00&lt;00:00, 106kB/s]"
          }
        },
        "fe7d4dc928b14f488ec1ba91271e5434": {
          "model_module": "@jupyter-widgets/base",
          "model_name": "LayoutModel",
          "model_module_version": "1.2.0",
          "state": {
            "_model_module": "@jupyter-widgets/base",
            "_model_module_version": "1.2.0",
            "_model_name": "LayoutModel",
            "_view_count": null,
            "_view_module": "@jupyter-widgets/base",
            "_view_module_version": "1.2.0",
            "_view_name": "LayoutView",
            "align_content": null,
            "align_items": null,
            "align_self": null,
            "border": null,
            "bottom": null,
            "display": null,
            "flex": null,
            "flex_flow": null,
            "grid_area": null,
            "grid_auto_columns": null,
            "grid_auto_flow": null,
            "grid_auto_rows": null,
            "grid_column": null,
            "grid_gap": null,
            "grid_row": null,
            "grid_template_areas": null,
            "grid_template_columns": null,
            "grid_template_rows": null,
            "height": null,
            "justify_content": null,
            "justify_items": null,
            "left": null,
            "margin": null,
            "max_height": null,
            "max_width": null,
            "min_height": null,
            "min_width": null,
            "object_fit": null,
            "object_position": null,
            "order": null,
            "overflow": null,
            "overflow_x": null,
            "overflow_y": null,
            "padding": null,
            "right": null,
            "top": null,
            "visibility": null,
            "width": null
          }
        },
        "c4ca992e73e14a75b3012bf7d82559cf": {
          "model_module": "@jupyter-widgets/base",
          "model_name": "LayoutModel",
          "model_module_version": "1.2.0",
          "state": {
            "_model_module": "@jupyter-widgets/base",
            "_model_module_version": "1.2.0",
            "_model_name": "LayoutModel",
            "_view_count": null,
            "_view_module": "@jupyter-widgets/base",
            "_view_module_version": "1.2.0",
            "_view_name": "LayoutView",
            "align_content": null,
            "align_items": null,
            "align_self": null,
            "border": null,
            "bottom": null,
            "display": null,
            "flex": null,
            "flex_flow": null,
            "grid_area": null,
            "grid_auto_columns": null,
            "grid_auto_flow": null,
            "grid_auto_rows": null,
            "grid_column": null,
            "grid_gap": null,
            "grid_row": null,
            "grid_template_areas": null,
            "grid_template_columns": null,
            "grid_template_rows": null,
            "height": null,
            "justify_content": null,
            "justify_items": null,
            "left": null,
            "margin": null,
            "max_height": null,
            "max_width": null,
            "min_height": null,
            "min_width": null,
            "object_fit": null,
            "object_position": null,
            "order": null,
            "overflow": null,
            "overflow_x": null,
            "overflow_y": null,
            "padding": null,
            "right": null,
            "top": null,
            "visibility": null,
            "width": null
          }
        },
        "248b268e0fa94fb38b3ff4a458ef8f8b": {
          "model_module": "@jupyter-widgets/controls",
          "model_name": "DescriptionStyleModel",
          "model_module_version": "1.5.0",
          "state": {
            "_model_module": "@jupyter-widgets/controls",
            "_model_module_version": "1.5.0",
            "_model_name": "DescriptionStyleModel",
            "_view_count": null,
            "_view_module": "@jupyter-widgets/base",
            "_view_module_version": "1.2.0",
            "_view_name": "StyleView",
            "description_width": ""
          }
        },
        "32018de784854dac91ff72cc729d744c": {
          "model_module": "@jupyter-widgets/base",
          "model_name": "LayoutModel",
          "model_module_version": "1.2.0",
          "state": {
            "_model_module": "@jupyter-widgets/base",
            "_model_module_version": "1.2.0",
            "_model_name": "LayoutModel",
            "_view_count": null,
            "_view_module": "@jupyter-widgets/base",
            "_view_module_version": "1.2.0",
            "_view_name": "LayoutView",
            "align_content": null,
            "align_items": null,
            "align_self": null,
            "border": null,
            "bottom": null,
            "display": null,
            "flex": null,
            "flex_flow": null,
            "grid_area": null,
            "grid_auto_columns": null,
            "grid_auto_flow": null,
            "grid_auto_rows": null,
            "grid_column": null,
            "grid_gap": null,
            "grid_row": null,
            "grid_template_areas": null,
            "grid_template_columns": null,
            "grid_template_rows": null,
            "height": null,
            "justify_content": null,
            "justify_items": null,
            "left": null,
            "margin": null,
            "max_height": null,
            "max_width": null,
            "min_height": null,
            "min_width": null,
            "object_fit": null,
            "object_position": null,
            "order": null,
            "overflow": null,
            "overflow_x": null,
            "overflow_y": null,
            "padding": null,
            "right": null,
            "top": null,
            "visibility": null,
            "width": null
          }
        },
        "b23a3a033a9248fa8e90683b6f70a293": {
          "model_module": "@jupyter-widgets/controls",
          "model_name": "ProgressStyleModel",
          "model_module_version": "1.5.0",
          "state": {
            "_model_module": "@jupyter-widgets/controls",
            "_model_module_version": "1.5.0",
            "_model_name": "ProgressStyleModel",
            "_view_count": null,
            "_view_module": "@jupyter-widgets/base",
            "_view_module_version": "1.2.0",
            "_view_name": "StyleView",
            "bar_color": null,
            "description_width": ""
          }
        },
        "02e5471a1f6a49969e7073585addf21c": {
          "model_module": "@jupyter-widgets/base",
          "model_name": "LayoutModel",
          "model_module_version": "1.2.0",
          "state": {
            "_model_module": "@jupyter-widgets/base",
            "_model_module_version": "1.2.0",
            "_model_name": "LayoutModel",
            "_view_count": null,
            "_view_module": "@jupyter-widgets/base",
            "_view_module_version": "1.2.0",
            "_view_name": "LayoutView",
            "align_content": null,
            "align_items": null,
            "align_self": null,
            "border": null,
            "bottom": null,
            "display": null,
            "flex": null,
            "flex_flow": null,
            "grid_area": null,
            "grid_auto_columns": null,
            "grid_auto_flow": null,
            "grid_auto_rows": null,
            "grid_column": null,
            "grid_gap": null,
            "grid_row": null,
            "grid_template_areas": null,
            "grid_template_columns": null,
            "grid_template_rows": null,
            "height": null,
            "justify_content": null,
            "justify_items": null,
            "left": null,
            "margin": null,
            "max_height": null,
            "max_width": null,
            "min_height": null,
            "min_width": null,
            "object_fit": null,
            "object_position": null,
            "order": null,
            "overflow": null,
            "overflow_x": null,
            "overflow_y": null,
            "padding": null,
            "right": null,
            "top": null,
            "visibility": null,
            "width": null
          }
        },
        "46251a871fc342ddb84483522c92ad97": {
          "model_module": "@jupyter-widgets/controls",
          "model_name": "DescriptionStyleModel",
          "model_module_version": "1.5.0",
          "state": {
            "_model_module": "@jupyter-widgets/controls",
            "_model_module_version": "1.5.0",
            "_model_name": "DescriptionStyleModel",
            "_view_count": null,
            "_view_module": "@jupyter-widgets/base",
            "_view_module_version": "1.2.0",
            "_view_name": "StyleView",
            "description_width": ""
          }
        },
        "86c8c4818e484a11b3b318546082032c": {
          "model_module": "@jupyter-widgets/controls",
          "model_name": "HBoxModel",
          "model_module_version": "1.5.0",
          "state": {
            "_dom_classes": [],
            "_model_module": "@jupyter-widgets/controls",
            "_model_module_version": "1.5.0",
            "_model_name": "HBoxModel",
            "_view_count": null,
            "_view_module": "@jupyter-widgets/controls",
            "_view_module_version": "1.5.0",
            "_view_name": "HBoxView",
            "box_style": "",
            "children": [
              "IPY_MODEL_1ed7c0eb2ca24d658d4934c22158db3a",
              "IPY_MODEL_38937651829f4437b5fd39c914514bd2",
              "IPY_MODEL_8bcd536997d14e1aae8f2df23000570d"
            ],
            "layout": "IPY_MODEL_ac509f2bac61409cb91527e5b32b27ef"
          }
        },
        "1ed7c0eb2ca24d658d4934c22158db3a": {
          "model_module": "@jupyter-widgets/controls",
          "model_name": "HTMLModel",
          "model_module_version": "1.5.0",
          "state": {
            "_dom_classes": [],
            "_model_module": "@jupyter-widgets/controls",
            "_model_module_version": "1.5.0",
            "_model_name": "HTMLModel",
            "_view_count": null,
            "_view_module": "@jupyter-widgets/controls",
            "_view_module_version": "1.5.0",
            "_view_name": "HTMLView",
            "description": "",
            "description_tooltip": null,
            "layout": "IPY_MODEL_cba1ea9546e74ad0a7f6c51599bff050",
            "placeholder": "​",
            "style": "IPY_MODEL_fad46896a98a40beb5c641d7337f5336",
            "value": "Downloading: 100%"
          }
        },
        "38937651829f4437b5fd39c914514bd2": {
          "model_module": "@jupyter-widgets/controls",
          "model_name": "FloatProgressModel",
          "model_module_version": "1.5.0",
          "state": {
            "_dom_classes": [],
            "_model_module": "@jupyter-widgets/controls",
            "_model_module_version": "1.5.0",
            "_model_name": "FloatProgressModel",
            "_view_count": null,
            "_view_module": "@jupyter-widgets/controls",
            "_view_module_version": "1.5.0",
            "_view_name": "ProgressView",
            "bar_style": "success",
            "description": "",
            "description_tooltip": null,
            "layout": "IPY_MODEL_09d3e2d4d99547f3bf4990d2be523ff2",
            "max": 48,
            "min": 0,
            "orientation": "horizontal",
            "style": "IPY_MODEL_ff5f20c166114545aed12b3cba99e3c4",
            "value": 48
          }
        },
        "8bcd536997d14e1aae8f2df23000570d": {
          "model_module": "@jupyter-widgets/controls",
          "model_name": "HTMLModel",
          "model_module_version": "1.5.0",
          "state": {
            "_dom_classes": [],
            "_model_module": "@jupyter-widgets/controls",
            "_model_module_version": "1.5.0",
            "_model_name": "HTMLModel",
            "_view_count": null,
            "_view_module": "@jupyter-widgets/controls",
            "_view_module_version": "1.5.0",
            "_view_name": "HTMLView",
            "description": "",
            "description_tooltip": null,
            "layout": "IPY_MODEL_573d774500e74d54a44a71cb0b483c71",
            "placeholder": "​",
            "style": "IPY_MODEL_59d16343e7854c3bb9e68c5c1d1e4282",
            "value": " 48.0/48.0 [00:00&lt;00:00, 952B/s]"
          }
        },
        "ac509f2bac61409cb91527e5b32b27ef": {
          "model_module": "@jupyter-widgets/base",
          "model_name": "LayoutModel",
          "model_module_version": "1.2.0",
          "state": {
            "_model_module": "@jupyter-widgets/base",
            "_model_module_version": "1.2.0",
            "_model_name": "LayoutModel",
            "_view_count": null,
            "_view_module": "@jupyter-widgets/base",
            "_view_module_version": "1.2.0",
            "_view_name": "LayoutView",
            "align_content": null,
            "align_items": null,
            "align_self": null,
            "border": null,
            "bottom": null,
            "display": null,
            "flex": null,
            "flex_flow": null,
            "grid_area": null,
            "grid_auto_columns": null,
            "grid_auto_flow": null,
            "grid_auto_rows": null,
            "grid_column": null,
            "grid_gap": null,
            "grid_row": null,
            "grid_template_areas": null,
            "grid_template_columns": null,
            "grid_template_rows": null,
            "height": null,
            "justify_content": null,
            "justify_items": null,
            "left": null,
            "margin": null,
            "max_height": null,
            "max_width": null,
            "min_height": null,
            "min_width": null,
            "object_fit": null,
            "object_position": null,
            "order": null,
            "overflow": null,
            "overflow_x": null,
            "overflow_y": null,
            "padding": null,
            "right": null,
            "top": null,
            "visibility": null,
            "width": null
          }
        },
        "cba1ea9546e74ad0a7f6c51599bff050": {
          "model_module": "@jupyter-widgets/base",
          "model_name": "LayoutModel",
          "model_module_version": "1.2.0",
          "state": {
            "_model_module": "@jupyter-widgets/base",
            "_model_module_version": "1.2.0",
            "_model_name": "LayoutModel",
            "_view_count": null,
            "_view_module": "@jupyter-widgets/base",
            "_view_module_version": "1.2.0",
            "_view_name": "LayoutView",
            "align_content": null,
            "align_items": null,
            "align_self": null,
            "border": null,
            "bottom": null,
            "display": null,
            "flex": null,
            "flex_flow": null,
            "grid_area": null,
            "grid_auto_columns": null,
            "grid_auto_flow": null,
            "grid_auto_rows": null,
            "grid_column": null,
            "grid_gap": null,
            "grid_row": null,
            "grid_template_areas": null,
            "grid_template_columns": null,
            "grid_template_rows": null,
            "height": null,
            "justify_content": null,
            "justify_items": null,
            "left": null,
            "margin": null,
            "max_height": null,
            "max_width": null,
            "min_height": null,
            "min_width": null,
            "object_fit": null,
            "object_position": null,
            "order": null,
            "overflow": null,
            "overflow_x": null,
            "overflow_y": null,
            "padding": null,
            "right": null,
            "top": null,
            "visibility": null,
            "width": null
          }
        },
        "fad46896a98a40beb5c641d7337f5336": {
          "model_module": "@jupyter-widgets/controls",
          "model_name": "DescriptionStyleModel",
          "model_module_version": "1.5.0",
          "state": {
            "_model_module": "@jupyter-widgets/controls",
            "_model_module_version": "1.5.0",
            "_model_name": "DescriptionStyleModel",
            "_view_count": null,
            "_view_module": "@jupyter-widgets/base",
            "_view_module_version": "1.2.0",
            "_view_name": "StyleView",
            "description_width": ""
          }
        },
        "09d3e2d4d99547f3bf4990d2be523ff2": {
          "model_module": "@jupyter-widgets/base",
          "model_name": "LayoutModel",
          "model_module_version": "1.2.0",
          "state": {
            "_model_module": "@jupyter-widgets/base",
            "_model_module_version": "1.2.0",
            "_model_name": "LayoutModel",
            "_view_count": null,
            "_view_module": "@jupyter-widgets/base",
            "_view_module_version": "1.2.0",
            "_view_name": "LayoutView",
            "align_content": null,
            "align_items": null,
            "align_self": null,
            "border": null,
            "bottom": null,
            "display": null,
            "flex": null,
            "flex_flow": null,
            "grid_area": null,
            "grid_auto_columns": null,
            "grid_auto_flow": null,
            "grid_auto_rows": null,
            "grid_column": null,
            "grid_gap": null,
            "grid_row": null,
            "grid_template_areas": null,
            "grid_template_columns": null,
            "grid_template_rows": null,
            "height": null,
            "justify_content": null,
            "justify_items": null,
            "left": null,
            "margin": null,
            "max_height": null,
            "max_width": null,
            "min_height": null,
            "min_width": null,
            "object_fit": null,
            "object_position": null,
            "order": null,
            "overflow": null,
            "overflow_x": null,
            "overflow_y": null,
            "padding": null,
            "right": null,
            "top": null,
            "visibility": null,
            "width": null
          }
        },
        "ff5f20c166114545aed12b3cba99e3c4": {
          "model_module": "@jupyter-widgets/controls",
          "model_name": "ProgressStyleModel",
          "model_module_version": "1.5.0",
          "state": {
            "_model_module": "@jupyter-widgets/controls",
            "_model_module_version": "1.5.0",
            "_model_name": "ProgressStyleModel",
            "_view_count": null,
            "_view_module": "@jupyter-widgets/base",
            "_view_module_version": "1.2.0",
            "_view_name": "StyleView",
            "bar_color": null,
            "description_width": ""
          }
        },
        "573d774500e74d54a44a71cb0b483c71": {
          "model_module": "@jupyter-widgets/base",
          "model_name": "LayoutModel",
          "model_module_version": "1.2.0",
          "state": {
            "_model_module": "@jupyter-widgets/base",
            "_model_module_version": "1.2.0",
            "_model_name": "LayoutModel",
            "_view_count": null,
            "_view_module": "@jupyter-widgets/base",
            "_view_module_version": "1.2.0",
            "_view_name": "LayoutView",
            "align_content": null,
            "align_items": null,
            "align_self": null,
            "border": null,
            "bottom": null,
            "display": null,
            "flex": null,
            "flex_flow": null,
            "grid_area": null,
            "grid_auto_columns": null,
            "grid_auto_flow": null,
            "grid_auto_rows": null,
            "grid_column": null,
            "grid_gap": null,
            "grid_row": null,
            "grid_template_areas": null,
            "grid_template_columns": null,
            "grid_template_rows": null,
            "height": null,
            "justify_content": null,
            "justify_items": null,
            "left": null,
            "margin": null,
            "max_height": null,
            "max_width": null,
            "min_height": null,
            "min_width": null,
            "object_fit": null,
            "object_position": null,
            "order": null,
            "overflow": null,
            "overflow_x": null,
            "overflow_y": null,
            "padding": null,
            "right": null,
            "top": null,
            "visibility": null,
            "width": null
          }
        },
        "59d16343e7854c3bb9e68c5c1d1e4282": {
          "model_module": "@jupyter-widgets/controls",
          "model_name": "DescriptionStyleModel",
          "model_module_version": "1.5.0",
          "state": {
            "_model_module": "@jupyter-widgets/controls",
            "_model_module_version": "1.5.0",
            "_model_name": "DescriptionStyleModel",
            "_view_count": null,
            "_view_module": "@jupyter-widgets/base",
            "_view_module_version": "1.2.0",
            "_view_name": "StyleView",
            "description_width": ""
          }
        },
        "9cfba1bcb4b1498490049e9a6e13a465": {
          "model_module": "@jupyter-widgets/controls",
          "model_name": "HBoxModel",
          "model_module_version": "1.5.0",
          "state": {
            "_dom_classes": [],
            "_model_module": "@jupyter-widgets/controls",
            "_model_module_version": "1.5.0",
            "_model_name": "HBoxModel",
            "_view_count": null,
            "_view_module": "@jupyter-widgets/controls",
            "_view_module_version": "1.5.0",
            "_view_name": "HBoxView",
            "box_style": "",
            "children": [
              "IPY_MODEL_9df2c910243c4670b218660379de70dd",
              "IPY_MODEL_96dcf2fefa31485f9da2fd41c93e957f",
              "IPY_MODEL_1f5851e7088f4118a71186f7dec9eeb1"
            ],
            "layout": "IPY_MODEL_1e6b1986d0674ab58184809d7c1c87ae"
          }
        },
        "9df2c910243c4670b218660379de70dd": {
          "model_module": "@jupyter-widgets/controls",
          "model_name": "HTMLModel",
          "model_module_version": "1.5.0",
          "state": {
            "_dom_classes": [],
            "_model_module": "@jupyter-widgets/controls",
            "_model_module_version": "1.5.0",
            "_model_name": "HTMLModel",
            "_view_count": null,
            "_view_module": "@jupyter-widgets/controls",
            "_view_module_version": "1.5.0",
            "_view_name": "HTMLView",
            "description": "",
            "description_tooltip": null,
            "layout": "IPY_MODEL_86519204effd4cba99b2be759e2db492",
            "placeholder": "​",
            "style": "IPY_MODEL_ea28acc65ba8495c8eb13ea5b147a42d",
            "value": "Downloading: 100%"
          }
        },
        "96dcf2fefa31485f9da2fd41c93e957f": {
          "model_module": "@jupyter-widgets/controls",
          "model_name": "FloatProgressModel",
          "model_module_version": "1.5.0",
          "state": {
            "_dom_classes": [],
            "_model_module": "@jupyter-widgets/controls",
            "_model_module_version": "1.5.0",
            "_model_name": "FloatProgressModel",
            "_view_count": null,
            "_view_module": "@jupyter-widgets/controls",
            "_view_module_version": "1.5.0",
            "_view_name": "ProgressView",
            "bar_style": "success",
            "description": "",
            "description_tooltip": null,
            "layout": "IPY_MODEL_3cdf26a5573c451793ad25ab6b122dd5",
            "max": 778,
            "min": 0,
            "orientation": "horizontal",
            "style": "IPY_MODEL_3ae7b623d00b44509958ba1764963ad1",
            "value": 778
          }
        },
        "1f5851e7088f4118a71186f7dec9eeb1": {
          "model_module": "@jupyter-widgets/controls",
          "model_name": "HTMLModel",
          "model_module_version": "1.5.0",
          "state": {
            "_dom_classes": [],
            "_model_module": "@jupyter-widgets/controls",
            "_model_module_version": "1.5.0",
            "_model_name": "HTMLModel",
            "_view_count": null,
            "_view_module": "@jupyter-widgets/controls",
            "_view_module_version": "1.5.0",
            "_view_name": "HTMLView",
            "description": "",
            "description_tooltip": null,
            "layout": "IPY_MODEL_0dd5d298843a4a898c315ad7e8f08bea",
            "placeholder": "​",
            "style": "IPY_MODEL_b867a30233fb42439aabd11a7bff6628",
            "value": " 778/778 [00:00&lt;00:00, 19.6kB/s]"
          }
        },
        "1e6b1986d0674ab58184809d7c1c87ae": {
          "model_module": "@jupyter-widgets/base",
          "model_name": "LayoutModel",
          "model_module_version": "1.2.0",
          "state": {
            "_model_module": "@jupyter-widgets/base",
            "_model_module_version": "1.2.0",
            "_model_name": "LayoutModel",
            "_view_count": null,
            "_view_module": "@jupyter-widgets/base",
            "_view_module_version": "1.2.0",
            "_view_name": "LayoutView",
            "align_content": null,
            "align_items": null,
            "align_self": null,
            "border": null,
            "bottom": null,
            "display": null,
            "flex": null,
            "flex_flow": null,
            "grid_area": null,
            "grid_auto_columns": null,
            "grid_auto_flow": null,
            "grid_auto_rows": null,
            "grid_column": null,
            "grid_gap": null,
            "grid_row": null,
            "grid_template_areas": null,
            "grid_template_columns": null,
            "grid_template_rows": null,
            "height": null,
            "justify_content": null,
            "justify_items": null,
            "left": null,
            "margin": null,
            "max_height": null,
            "max_width": null,
            "min_height": null,
            "min_width": null,
            "object_fit": null,
            "object_position": null,
            "order": null,
            "overflow": null,
            "overflow_x": null,
            "overflow_y": null,
            "padding": null,
            "right": null,
            "top": null,
            "visibility": null,
            "width": null
          }
        },
        "86519204effd4cba99b2be759e2db492": {
          "model_module": "@jupyter-widgets/base",
          "model_name": "LayoutModel",
          "model_module_version": "1.2.0",
          "state": {
            "_model_module": "@jupyter-widgets/base",
            "_model_module_version": "1.2.0",
            "_model_name": "LayoutModel",
            "_view_count": null,
            "_view_module": "@jupyter-widgets/base",
            "_view_module_version": "1.2.0",
            "_view_name": "LayoutView",
            "align_content": null,
            "align_items": null,
            "align_self": null,
            "border": null,
            "bottom": null,
            "display": null,
            "flex": null,
            "flex_flow": null,
            "grid_area": null,
            "grid_auto_columns": null,
            "grid_auto_flow": null,
            "grid_auto_rows": null,
            "grid_column": null,
            "grid_gap": null,
            "grid_row": null,
            "grid_template_areas": null,
            "grid_template_columns": null,
            "grid_template_rows": null,
            "height": null,
            "justify_content": null,
            "justify_items": null,
            "left": null,
            "margin": null,
            "max_height": null,
            "max_width": null,
            "min_height": null,
            "min_width": null,
            "object_fit": null,
            "object_position": null,
            "order": null,
            "overflow": null,
            "overflow_x": null,
            "overflow_y": null,
            "padding": null,
            "right": null,
            "top": null,
            "visibility": null,
            "width": null
          }
        },
        "ea28acc65ba8495c8eb13ea5b147a42d": {
          "model_module": "@jupyter-widgets/controls",
          "model_name": "DescriptionStyleModel",
          "model_module_version": "1.5.0",
          "state": {
            "_model_module": "@jupyter-widgets/controls",
            "_model_module_version": "1.5.0",
            "_model_name": "DescriptionStyleModel",
            "_view_count": null,
            "_view_module": "@jupyter-widgets/base",
            "_view_module_version": "1.2.0",
            "_view_name": "StyleView",
            "description_width": ""
          }
        },
        "3cdf26a5573c451793ad25ab6b122dd5": {
          "model_module": "@jupyter-widgets/base",
          "model_name": "LayoutModel",
          "model_module_version": "1.2.0",
          "state": {
            "_model_module": "@jupyter-widgets/base",
            "_model_module_version": "1.2.0",
            "_model_name": "LayoutModel",
            "_view_count": null,
            "_view_module": "@jupyter-widgets/base",
            "_view_module_version": "1.2.0",
            "_view_name": "LayoutView",
            "align_content": null,
            "align_items": null,
            "align_self": null,
            "border": null,
            "bottom": null,
            "display": null,
            "flex": null,
            "flex_flow": null,
            "grid_area": null,
            "grid_auto_columns": null,
            "grid_auto_flow": null,
            "grid_auto_rows": null,
            "grid_column": null,
            "grid_gap": null,
            "grid_row": null,
            "grid_template_areas": null,
            "grid_template_columns": null,
            "grid_template_rows": null,
            "height": null,
            "justify_content": null,
            "justify_items": null,
            "left": null,
            "margin": null,
            "max_height": null,
            "max_width": null,
            "min_height": null,
            "min_width": null,
            "object_fit": null,
            "object_position": null,
            "order": null,
            "overflow": null,
            "overflow_x": null,
            "overflow_y": null,
            "padding": null,
            "right": null,
            "top": null,
            "visibility": null,
            "width": null
          }
        },
        "3ae7b623d00b44509958ba1764963ad1": {
          "model_module": "@jupyter-widgets/controls",
          "model_name": "ProgressStyleModel",
          "model_module_version": "1.5.0",
          "state": {
            "_model_module": "@jupyter-widgets/controls",
            "_model_module_version": "1.5.0",
            "_model_name": "ProgressStyleModel",
            "_view_count": null,
            "_view_module": "@jupyter-widgets/base",
            "_view_module_version": "1.2.0",
            "_view_name": "StyleView",
            "bar_color": null,
            "description_width": ""
          }
        },
        "0dd5d298843a4a898c315ad7e8f08bea": {
          "model_module": "@jupyter-widgets/base",
          "model_name": "LayoutModel",
          "model_module_version": "1.2.0",
          "state": {
            "_model_module": "@jupyter-widgets/base",
            "_model_module_version": "1.2.0",
            "_model_name": "LayoutModel",
            "_view_count": null,
            "_view_module": "@jupyter-widgets/base",
            "_view_module_version": "1.2.0",
            "_view_name": "LayoutView",
            "align_content": null,
            "align_items": null,
            "align_self": null,
            "border": null,
            "bottom": null,
            "display": null,
            "flex": null,
            "flex_flow": null,
            "grid_area": null,
            "grid_auto_columns": null,
            "grid_auto_flow": null,
            "grid_auto_rows": null,
            "grid_column": null,
            "grid_gap": null,
            "grid_row": null,
            "grid_template_areas": null,
            "grid_template_columns": null,
            "grid_template_rows": null,
            "height": null,
            "justify_content": null,
            "justify_items": null,
            "left": null,
            "margin": null,
            "max_height": null,
            "max_width": null,
            "min_height": null,
            "min_width": null,
            "object_fit": null,
            "object_position": null,
            "order": null,
            "overflow": null,
            "overflow_x": null,
            "overflow_y": null,
            "padding": null,
            "right": null,
            "top": null,
            "visibility": null,
            "width": null
          }
        },
        "b867a30233fb42439aabd11a7bff6628": {
          "model_module": "@jupyter-widgets/controls",
          "model_name": "DescriptionStyleModel",
          "model_module_version": "1.5.0",
          "state": {
            "_model_module": "@jupyter-widgets/controls",
            "_model_module_version": "1.5.0",
            "_model_name": "DescriptionStyleModel",
            "_view_count": null,
            "_view_module": "@jupyter-widgets/base",
            "_view_module_version": "1.2.0",
            "_view_name": "StyleView",
            "description_width": ""
          }
        },
        "089dbd1ff4064d40a34fa27c9a9891f7": {
          "model_module": "@jupyter-widgets/controls",
          "model_name": "HBoxModel",
          "model_module_version": "1.5.0",
          "state": {
            "_dom_classes": [],
            "_model_module": "@jupyter-widgets/controls",
            "_model_module_version": "1.5.0",
            "_model_name": "HBoxModel",
            "_view_count": null,
            "_view_module": "@jupyter-widgets/controls",
            "_view_module_version": "1.5.0",
            "_view_name": "HBoxView",
            "box_style": "",
            "children": [
              "IPY_MODEL_8e5f33d8fba24a46b9a0b5202abd64a5",
              "IPY_MODEL_17f404297c3641d28401bb122cdc88af",
              "IPY_MODEL_c513478671b24281a3fa9246e6779351"
            ],
            "layout": "IPY_MODEL_fb086a07b4f04eac9ae37a0df61fe96d"
          }
        },
        "8e5f33d8fba24a46b9a0b5202abd64a5": {
          "model_module": "@jupyter-widgets/controls",
          "model_name": "HTMLModel",
          "model_module_version": "1.5.0",
          "state": {
            "_dom_classes": [],
            "_model_module": "@jupyter-widgets/controls",
            "_model_module_version": "1.5.0",
            "_model_name": "HTMLModel",
            "_view_count": null,
            "_view_module": "@jupyter-widgets/controls",
            "_view_module_version": "1.5.0",
            "_view_name": "HTMLView",
            "description": "",
            "description_tooltip": null,
            "layout": "IPY_MODEL_a45bce80d6084d8a9dd410b051827413",
            "placeholder": "​",
            "style": "IPY_MODEL_c3f88521a21e44f4ba13bd7519b9fe2a",
            "value": "Downloading: 100%"
          }
        },
        "17f404297c3641d28401bb122cdc88af": {
          "model_module": "@jupyter-widgets/controls",
          "model_name": "FloatProgressModel",
          "model_module_version": "1.5.0",
          "state": {
            "_dom_classes": [],
            "_model_module": "@jupyter-widgets/controls",
            "_model_module_version": "1.5.0",
            "_model_name": "FloatProgressModel",
            "_view_count": null,
            "_view_module": "@jupyter-widgets/controls",
            "_view_module_version": "1.5.0",
            "_view_name": "ProgressView",
            "bar_style": "success",
            "description": "",
            "description_tooltip": null,
            "layout": "IPY_MODEL_c8b2bcc1b9e446808a23eec0091d1844",
            "max": 117,
            "min": 0,
            "orientation": "horizontal",
            "style": "IPY_MODEL_db59e27131fe4e2ebb600eacaabe9b69",
            "value": 117
          }
        },
        "c513478671b24281a3fa9246e6779351": {
          "model_module": "@jupyter-widgets/controls",
          "model_name": "HTMLModel",
          "model_module_version": "1.5.0",
          "state": {
            "_dom_classes": [],
            "_model_module": "@jupyter-widgets/controls",
            "_model_module_version": "1.5.0",
            "_model_name": "HTMLModel",
            "_view_count": null,
            "_view_module": "@jupyter-widgets/controls",
            "_view_module_version": "1.5.0",
            "_view_name": "HTMLView",
            "description": "",
            "description_tooltip": null,
            "layout": "IPY_MODEL_f1f294138b4048c79f1d41d1b52b9d28",
            "placeholder": "​",
            "style": "IPY_MODEL_78ad1d263dd443579014a84240b83b77",
            "value": " 117/117 [00:00&lt;00:00, 2.77kB/s]"
          }
        },
        "fb086a07b4f04eac9ae37a0df61fe96d": {
          "model_module": "@jupyter-widgets/base",
          "model_name": "LayoutModel",
          "model_module_version": "1.2.0",
          "state": {
            "_model_module": "@jupyter-widgets/base",
            "_model_module_version": "1.2.0",
            "_model_name": "LayoutModel",
            "_view_count": null,
            "_view_module": "@jupyter-widgets/base",
            "_view_module_version": "1.2.0",
            "_view_name": "LayoutView",
            "align_content": null,
            "align_items": null,
            "align_self": null,
            "border": null,
            "bottom": null,
            "display": null,
            "flex": null,
            "flex_flow": null,
            "grid_area": null,
            "grid_auto_columns": null,
            "grid_auto_flow": null,
            "grid_auto_rows": null,
            "grid_column": null,
            "grid_gap": null,
            "grid_row": null,
            "grid_template_areas": null,
            "grid_template_columns": null,
            "grid_template_rows": null,
            "height": null,
            "justify_content": null,
            "justify_items": null,
            "left": null,
            "margin": null,
            "max_height": null,
            "max_width": null,
            "min_height": null,
            "min_width": null,
            "object_fit": null,
            "object_position": null,
            "order": null,
            "overflow": null,
            "overflow_x": null,
            "overflow_y": null,
            "padding": null,
            "right": null,
            "top": null,
            "visibility": null,
            "width": null
          }
        },
        "a45bce80d6084d8a9dd410b051827413": {
          "model_module": "@jupyter-widgets/base",
          "model_name": "LayoutModel",
          "model_module_version": "1.2.0",
          "state": {
            "_model_module": "@jupyter-widgets/base",
            "_model_module_version": "1.2.0",
            "_model_name": "LayoutModel",
            "_view_count": null,
            "_view_module": "@jupyter-widgets/base",
            "_view_module_version": "1.2.0",
            "_view_name": "LayoutView",
            "align_content": null,
            "align_items": null,
            "align_self": null,
            "border": null,
            "bottom": null,
            "display": null,
            "flex": null,
            "flex_flow": null,
            "grid_area": null,
            "grid_auto_columns": null,
            "grid_auto_flow": null,
            "grid_auto_rows": null,
            "grid_column": null,
            "grid_gap": null,
            "grid_row": null,
            "grid_template_areas": null,
            "grid_template_columns": null,
            "grid_template_rows": null,
            "height": null,
            "justify_content": null,
            "justify_items": null,
            "left": null,
            "margin": null,
            "max_height": null,
            "max_width": null,
            "min_height": null,
            "min_width": null,
            "object_fit": null,
            "object_position": null,
            "order": null,
            "overflow": null,
            "overflow_x": null,
            "overflow_y": null,
            "padding": null,
            "right": null,
            "top": null,
            "visibility": null,
            "width": null
          }
        },
        "c3f88521a21e44f4ba13bd7519b9fe2a": {
          "model_module": "@jupyter-widgets/controls",
          "model_name": "DescriptionStyleModel",
          "model_module_version": "1.5.0",
          "state": {
            "_model_module": "@jupyter-widgets/controls",
            "_model_module_version": "1.5.0",
            "_model_name": "DescriptionStyleModel",
            "_view_count": null,
            "_view_module": "@jupyter-widgets/base",
            "_view_module_version": "1.2.0",
            "_view_name": "StyleView",
            "description_width": ""
          }
        },
        "c8b2bcc1b9e446808a23eec0091d1844": {
          "model_module": "@jupyter-widgets/base",
          "model_name": "LayoutModel",
          "model_module_version": "1.2.0",
          "state": {
            "_model_module": "@jupyter-widgets/base",
            "_model_module_version": "1.2.0",
            "_model_name": "LayoutModel",
            "_view_count": null,
            "_view_module": "@jupyter-widgets/base",
            "_view_module_version": "1.2.0",
            "_view_name": "LayoutView",
            "align_content": null,
            "align_items": null,
            "align_self": null,
            "border": null,
            "bottom": null,
            "display": null,
            "flex": null,
            "flex_flow": null,
            "grid_area": null,
            "grid_auto_columns": null,
            "grid_auto_flow": null,
            "grid_auto_rows": null,
            "grid_column": null,
            "grid_gap": null,
            "grid_row": null,
            "grid_template_areas": null,
            "grid_template_columns": null,
            "grid_template_rows": null,
            "height": null,
            "justify_content": null,
            "justify_items": null,
            "left": null,
            "margin": null,
            "max_height": null,
            "max_width": null,
            "min_height": null,
            "min_width": null,
            "object_fit": null,
            "object_position": null,
            "order": null,
            "overflow": null,
            "overflow_x": null,
            "overflow_y": null,
            "padding": null,
            "right": null,
            "top": null,
            "visibility": null,
            "width": null
          }
        },
        "db59e27131fe4e2ebb600eacaabe9b69": {
          "model_module": "@jupyter-widgets/controls",
          "model_name": "ProgressStyleModel",
          "model_module_version": "1.5.0",
          "state": {
            "_model_module": "@jupyter-widgets/controls",
            "_model_module_version": "1.5.0",
            "_model_name": "ProgressStyleModel",
            "_view_count": null,
            "_view_module": "@jupyter-widgets/base",
            "_view_module_version": "1.2.0",
            "_view_name": "StyleView",
            "bar_color": null,
            "description_width": ""
          }
        },
        "f1f294138b4048c79f1d41d1b52b9d28": {
          "model_module": "@jupyter-widgets/base",
          "model_name": "LayoutModel",
          "model_module_version": "1.2.0",
          "state": {
            "_model_module": "@jupyter-widgets/base",
            "_model_module_version": "1.2.0",
            "_model_name": "LayoutModel",
            "_view_count": null,
            "_view_module": "@jupyter-widgets/base",
            "_view_module_version": "1.2.0",
            "_view_name": "LayoutView",
            "align_content": null,
            "align_items": null,
            "align_self": null,
            "border": null,
            "bottom": null,
            "display": null,
            "flex": null,
            "flex_flow": null,
            "grid_area": null,
            "grid_auto_columns": null,
            "grid_auto_flow": null,
            "grid_auto_rows": null,
            "grid_column": null,
            "grid_gap": null,
            "grid_row": null,
            "grid_template_areas": null,
            "grid_template_columns": null,
            "grid_template_rows": null,
            "height": null,
            "justify_content": null,
            "justify_items": null,
            "left": null,
            "margin": null,
            "max_height": null,
            "max_width": null,
            "min_height": null,
            "min_width": null,
            "object_fit": null,
            "object_position": null,
            "order": null,
            "overflow": null,
            "overflow_x": null,
            "overflow_y": null,
            "padding": null,
            "right": null,
            "top": null,
            "visibility": null,
            "width": null
          }
        },
        "78ad1d263dd443579014a84240b83b77": {
          "model_module": "@jupyter-widgets/controls",
          "model_name": "DescriptionStyleModel",
          "model_module_version": "1.5.0",
          "state": {
            "_model_module": "@jupyter-widgets/controls",
            "_model_module_version": "1.5.0",
            "_model_name": "DescriptionStyleModel",
            "_view_count": null,
            "_view_module": "@jupyter-widgets/base",
            "_view_module_version": "1.2.0",
            "_view_name": "StyleView",
            "description_width": ""
          }
        },
        "d138e6fb6d5040158731c01b19c88026": {
          "model_module": "@jupyter-widgets/controls",
          "model_name": "HBoxModel",
          "model_module_version": "1.5.0",
          "state": {
            "_dom_classes": [],
            "_model_module": "@jupyter-widgets/controls",
            "_model_module_version": "1.5.0",
            "_model_name": "HBoxModel",
            "_view_count": null,
            "_view_module": "@jupyter-widgets/controls",
            "_view_module_version": "1.5.0",
            "_view_name": "HBoxView",
            "box_style": "",
            "children": [
              "IPY_MODEL_49a14d207ab647e58f2c832a45ef1418",
              "IPY_MODEL_0966a4168e434a0097c9e56298167c7f",
              "IPY_MODEL_4e80f6a7105f46f59095254ec3265ceb"
            ],
            "layout": "IPY_MODEL_d77d903df2d047cb8aaebdbc3b008af3"
          }
        },
        "49a14d207ab647e58f2c832a45ef1418": {
          "model_module": "@jupyter-widgets/controls",
          "model_name": "HTMLModel",
          "model_module_version": "1.5.0",
          "state": {
            "_dom_classes": [],
            "_model_module": "@jupyter-widgets/controls",
            "_model_module_version": "1.5.0",
            "_model_name": "HTMLModel",
            "_view_count": null,
            "_view_module": "@jupyter-widgets/controls",
            "_view_module_version": "1.5.0",
            "_view_name": "HTMLView",
            "description": "",
            "description_tooltip": null,
            "layout": "IPY_MODEL_a1ff55e7808441e9b1fd0358cba0c6c0",
            "placeholder": "​",
            "style": "IPY_MODEL_0f3d786741104b449e973ad9c426c1ce",
            "value": "Downloading: 100%"
          }
        },
        "0966a4168e434a0097c9e56298167c7f": {
          "model_module": "@jupyter-widgets/controls",
          "model_name": "FloatProgressModel",
          "model_module_version": "1.5.0",
          "state": {
            "_dom_classes": [],
            "_model_module": "@jupyter-widgets/controls",
            "_model_module_version": "1.5.0",
            "_model_name": "FloatProgressModel",
            "_view_count": null,
            "_view_module": "@jupyter-widgets/controls",
            "_view_module_version": "1.5.0",
            "_view_name": "ProgressView",
            "bar_style": "success",
            "description": "",
            "description_tooltip": null,
            "layout": "IPY_MODEL_c5b11474df5f4f2db02a16f44a9dfd21",
            "max": 1112262449,
            "min": 0,
            "orientation": "horizontal",
            "style": "IPY_MODEL_891b9ca9f97a48299ddec211a15637f2",
            "value": 1112262449
          }
        },
        "4e80f6a7105f46f59095254ec3265ceb": {
          "model_module": "@jupyter-widgets/controls",
          "model_name": "HTMLModel",
          "model_module_version": "1.5.0",
          "state": {
            "_dom_classes": [],
            "_model_module": "@jupyter-widgets/controls",
            "_model_module_version": "1.5.0",
            "_model_name": "HTMLModel",
            "_view_count": null,
            "_view_module": "@jupyter-widgets/controls",
            "_view_module_version": "1.5.0",
            "_view_name": "HTMLView",
            "description": "",
            "description_tooltip": null,
            "layout": "IPY_MODEL_3a8bf7b501994100bdcef9290646cda7",
            "placeholder": "​",
            "style": "IPY_MODEL_7e61e49e194b43068ea222c5d2760bc2",
            "value": " 1.11G/1.11G [00:24&lt;00:00, 52.6MB/s]"
          }
        },
        "d77d903df2d047cb8aaebdbc3b008af3": {
          "model_module": "@jupyter-widgets/base",
          "model_name": "LayoutModel",
          "model_module_version": "1.2.0",
          "state": {
            "_model_module": "@jupyter-widgets/base",
            "_model_module_version": "1.2.0",
            "_model_name": "LayoutModel",
            "_view_count": null,
            "_view_module": "@jupyter-widgets/base",
            "_view_module_version": "1.2.0",
            "_view_name": "LayoutView",
            "align_content": null,
            "align_items": null,
            "align_self": null,
            "border": null,
            "bottom": null,
            "display": null,
            "flex": null,
            "flex_flow": null,
            "grid_area": null,
            "grid_auto_columns": null,
            "grid_auto_flow": null,
            "grid_auto_rows": null,
            "grid_column": null,
            "grid_gap": null,
            "grid_row": null,
            "grid_template_areas": null,
            "grid_template_columns": null,
            "grid_template_rows": null,
            "height": null,
            "justify_content": null,
            "justify_items": null,
            "left": null,
            "margin": null,
            "max_height": null,
            "max_width": null,
            "min_height": null,
            "min_width": null,
            "object_fit": null,
            "object_position": null,
            "order": null,
            "overflow": null,
            "overflow_x": null,
            "overflow_y": null,
            "padding": null,
            "right": null,
            "top": null,
            "visibility": null,
            "width": null
          }
        },
        "a1ff55e7808441e9b1fd0358cba0c6c0": {
          "model_module": "@jupyter-widgets/base",
          "model_name": "LayoutModel",
          "model_module_version": "1.2.0",
          "state": {
            "_model_module": "@jupyter-widgets/base",
            "_model_module_version": "1.2.0",
            "_model_name": "LayoutModel",
            "_view_count": null,
            "_view_module": "@jupyter-widgets/base",
            "_view_module_version": "1.2.0",
            "_view_name": "LayoutView",
            "align_content": null,
            "align_items": null,
            "align_self": null,
            "border": null,
            "bottom": null,
            "display": null,
            "flex": null,
            "flex_flow": null,
            "grid_area": null,
            "grid_auto_columns": null,
            "grid_auto_flow": null,
            "grid_auto_rows": null,
            "grid_column": null,
            "grid_gap": null,
            "grid_row": null,
            "grid_template_areas": null,
            "grid_template_columns": null,
            "grid_template_rows": null,
            "height": null,
            "justify_content": null,
            "justify_items": null,
            "left": null,
            "margin": null,
            "max_height": null,
            "max_width": null,
            "min_height": null,
            "min_width": null,
            "object_fit": null,
            "object_position": null,
            "order": null,
            "overflow": null,
            "overflow_x": null,
            "overflow_y": null,
            "padding": null,
            "right": null,
            "top": null,
            "visibility": null,
            "width": null
          }
        },
        "0f3d786741104b449e973ad9c426c1ce": {
          "model_module": "@jupyter-widgets/controls",
          "model_name": "DescriptionStyleModel",
          "model_module_version": "1.5.0",
          "state": {
            "_model_module": "@jupyter-widgets/controls",
            "_model_module_version": "1.5.0",
            "_model_name": "DescriptionStyleModel",
            "_view_count": null,
            "_view_module": "@jupyter-widgets/base",
            "_view_module_version": "1.2.0",
            "_view_name": "StyleView",
            "description_width": ""
          }
        },
        "c5b11474df5f4f2db02a16f44a9dfd21": {
          "model_module": "@jupyter-widgets/base",
          "model_name": "LayoutModel",
          "model_module_version": "1.2.0",
          "state": {
            "_model_module": "@jupyter-widgets/base",
            "_model_module_version": "1.2.0",
            "_model_name": "LayoutModel",
            "_view_count": null,
            "_view_module": "@jupyter-widgets/base",
            "_view_module_version": "1.2.0",
            "_view_name": "LayoutView",
            "align_content": null,
            "align_items": null,
            "align_self": null,
            "border": null,
            "bottom": null,
            "display": null,
            "flex": null,
            "flex_flow": null,
            "grid_area": null,
            "grid_auto_columns": null,
            "grid_auto_flow": null,
            "grid_auto_rows": null,
            "grid_column": null,
            "grid_gap": null,
            "grid_row": null,
            "grid_template_areas": null,
            "grid_template_columns": null,
            "grid_template_rows": null,
            "height": null,
            "justify_content": null,
            "justify_items": null,
            "left": null,
            "margin": null,
            "max_height": null,
            "max_width": null,
            "min_height": null,
            "min_width": null,
            "object_fit": null,
            "object_position": null,
            "order": null,
            "overflow": null,
            "overflow_x": null,
            "overflow_y": null,
            "padding": null,
            "right": null,
            "top": null,
            "visibility": null,
            "width": null
          }
        },
        "891b9ca9f97a48299ddec211a15637f2": {
          "model_module": "@jupyter-widgets/controls",
          "model_name": "ProgressStyleModel",
          "model_module_version": "1.5.0",
          "state": {
            "_model_module": "@jupyter-widgets/controls",
            "_model_module_version": "1.5.0",
            "_model_name": "ProgressStyleModel",
            "_view_count": null,
            "_view_module": "@jupyter-widgets/base",
            "_view_module_version": "1.2.0",
            "_view_name": "StyleView",
            "bar_color": null,
            "description_width": ""
          }
        },
        "3a8bf7b501994100bdcef9290646cda7": {
          "model_module": "@jupyter-widgets/base",
          "model_name": "LayoutModel",
          "model_module_version": "1.2.0",
          "state": {
            "_model_module": "@jupyter-widgets/base",
            "_model_module_version": "1.2.0",
            "_model_name": "LayoutModel",
            "_view_count": null,
            "_view_module": "@jupyter-widgets/base",
            "_view_module_version": "1.2.0",
            "_view_name": "LayoutView",
            "align_content": null,
            "align_items": null,
            "align_self": null,
            "border": null,
            "bottom": null,
            "display": null,
            "flex": null,
            "flex_flow": null,
            "grid_area": null,
            "grid_auto_columns": null,
            "grid_auto_flow": null,
            "grid_auto_rows": null,
            "grid_column": null,
            "grid_gap": null,
            "grid_row": null,
            "grid_template_areas": null,
            "grid_template_columns": null,
            "grid_template_rows": null,
            "height": null,
            "justify_content": null,
            "justify_items": null,
            "left": null,
            "margin": null,
            "max_height": null,
            "max_width": null,
            "min_height": null,
            "min_width": null,
            "object_fit": null,
            "object_position": null,
            "order": null,
            "overflow": null,
            "overflow_x": null,
            "overflow_y": null,
            "padding": null,
            "right": null,
            "top": null,
            "visibility": null,
            "width": null
          }
        },
        "7e61e49e194b43068ea222c5d2760bc2": {
          "model_module": "@jupyter-widgets/controls",
          "model_name": "DescriptionStyleModel",
          "model_module_version": "1.5.0",
          "state": {
            "_model_module": "@jupyter-widgets/controls",
            "_model_module_version": "1.5.0",
            "_model_name": "DescriptionStyleModel",
            "_view_count": null,
            "_view_module": "@jupyter-widgets/base",
            "_view_module_version": "1.2.0",
            "_view_name": "StyleView",
            "description_width": ""
          }
        },
        "17f4a99c7e5c42c1851d4d84a50d9ac9": {
          "model_module": "@jupyter-widgets/controls",
          "model_name": "HBoxModel",
          "model_module_version": "1.5.0",
          "state": {
            "_dom_classes": [],
            "_model_module": "@jupyter-widgets/controls",
            "_model_module_version": "1.5.0",
            "_model_name": "HBoxModel",
            "_view_count": null,
            "_view_module": "@jupyter-widgets/controls",
            "_view_module_version": "1.5.0",
            "_view_name": "HBoxView",
            "box_style": "",
            "children": [
              "IPY_MODEL_91c83717e703453c8741322d85de8797",
              "IPY_MODEL_13b7cd36c8b84996a4649baf279efbc8",
              "IPY_MODEL_ad9cbdbb5c7047fe98fadcf27b97a6c1"
            ],
            "layout": "IPY_MODEL_7d900fd323d44542a4db3a8ee75a7c41"
          }
        },
        "91c83717e703453c8741322d85de8797": {
          "model_module": "@jupyter-widgets/controls",
          "model_name": "HTMLModel",
          "model_module_version": "1.5.0",
          "state": {
            "_dom_classes": [],
            "_model_module": "@jupyter-widgets/controls",
            "_model_module_version": "1.5.0",
            "_model_name": "HTMLModel",
            "_view_count": null,
            "_view_module": "@jupyter-widgets/controls",
            "_view_module_version": "1.5.0",
            "_view_name": "HTMLView",
            "description": "",
            "description_tooltip": null,
            "layout": "IPY_MODEL_5e03ea0f00874996b10e8e5571db758c",
            "placeholder": "​",
            "style": "IPY_MODEL_8411a90f49c1464087021739372ac1d8",
            "value": "Downloading: 100%"
          }
        },
        "13b7cd36c8b84996a4649baf279efbc8": {
          "model_module": "@jupyter-widgets/controls",
          "model_name": "FloatProgressModel",
          "model_module_version": "1.5.0",
          "state": {
            "_dom_classes": [],
            "_model_module": "@jupyter-widgets/controls",
            "_model_module_version": "1.5.0",
            "_model_name": "FloatProgressModel",
            "_view_count": null,
            "_view_module": "@jupyter-widgets/controls",
            "_view_module_version": "1.5.0",
            "_view_name": "ProgressView",
            "bar_style": "success",
            "description": "",
            "description_tooltip": null,
            "layout": "IPY_MODEL_c7ec377d01494bababd9d2bdb868b949",
            "max": 53,
            "min": 0,
            "orientation": "horizontal",
            "style": "IPY_MODEL_762cfed2331b48fcbeb4fab1ca6382a5",
            "value": 53
          }
        },
        "ad9cbdbb5c7047fe98fadcf27b97a6c1": {
          "model_module": "@jupyter-widgets/controls",
          "model_name": "HTMLModel",
          "model_module_version": "1.5.0",
          "state": {
            "_dom_classes": [],
            "_model_module": "@jupyter-widgets/controls",
            "_model_module_version": "1.5.0",
            "_model_name": "HTMLModel",
            "_view_count": null,
            "_view_module": "@jupyter-widgets/controls",
            "_view_module_version": "1.5.0",
            "_view_name": "HTMLView",
            "description": "",
            "description_tooltip": null,
            "layout": "IPY_MODEL_d35efa798f9d47f8a053095f5ce1cea4",
            "placeholder": "​",
            "style": "IPY_MODEL_5b32df862955469fb3dc89a87b348e87",
            "value": " 53.0/53.0 [00:00&lt;00:00, 1.38kB/s]"
          }
        },
        "7d900fd323d44542a4db3a8ee75a7c41": {
          "model_module": "@jupyter-widgets/base",
          "model_name": "LayoutModel",
          "model_module_version": "1.2.0",
          "state": {
            "_model_module": "@jupyter-widgets/base",
            "_model_module_version": "1.2.0",
            "_model_name": "LayoutModel",
            "_view_count": null,
            "_view_module": "@jupyter-widgets/base",
            "_view_module_version": "1.2.0",
            "_view_name": "LayoutView",
            "align_content": null,
            "align_items": null,
            "align_self": null,
            "border": null,
            "bottom": null,
            "display": null,
            "flex": null,
            "flex_flow": null,
            "grid_area": null,
            "grid_auto_columns": null,
            "grid_auto_flow": null,
            "grid_auto_rows": null,
            "grid_column": null,
            "grid_gap": null,
            "grid_row": null,
            "grid_template_areas": null,
            "grid_template_columns": null,
            "grid_template_rows": null,
            "height": null,
            "justify_content": null,
            "justify_items": null,
            "left": null,
            "margin": null,
            "max_height": null,
            "max_width": null,
            "min_height": null,
            "min_width": null,
            "object_fit": null,
            "object_position": null,
            "order": null,
            "overflow": null,
            "overflow_x": null,
            "overflow_y": null,
            "padding": null,
            "right": null,
            "top": null,
            "visibility": null,
            "width": null
          }
        },
        "5e03ea0f00874996b10e8e5571db758c": {
          "model_module": "@jupyter-widgets/base",
          "model_name": "LayoutModel",
          "model_module_version": "1.2.0",
          "state": {
            "_model_module": "@jupyter-widgets/base",
            "_model_module_version": "1.2.0",
            "_model_name": "LayoutModel",
            "_view_count": null,
            "_view_module": "@jupyter-widgets/base",
            "_view_module_version": "1.2.0",
            "_view_name": "LayoutView",
            "align_content": null,
            "align_items": null,
            "align_self": null,
            "border": null,
            "bottom": null,
            "display": null,
            "flex": null,
            "flex_flow": null,
            "grid_area": null,
            "grid_auto_columns": null,
            "grid_auto_flow": null,
            "grid_auto_rows": null,
            "grid_column": null,
            "grid_gap": null,
            "grid_row": null,
            "grid_template_areas": null,
            "grid_template_columns": null,
            "grid_template_rows": null,
            "height": null,
            "justify_content": null,
            "justify_items": null,
            "left": null,
            "margin": null,
            "max_height": null,
            "max_width": null,
            "min_height": null,
            "min_width": null,
            "object_fit": null,
            "object_position": null,
            "order": null,
            "overflow": null,
            "overflow_x": null,
            "overflow_y": null,
            "padding": null,
            "right": null,
            "top": null,
            "visibility": null,
            "width": null
          }
        },
        "8411a90f49c1464087021739372ac1d8": {
          "model_module": "@jupyter-widgets/controls",
          "model_name": "DescriptionStyleModel",
          "model_module_version": "1.5.0",
          "state": {
            "_model_module": "@jupyter-widgets/controls",
            "_model_module_version": "1.5.0",
            "_model_name": "DescriptionStyleModel",
            "_view_count": null,
            "_view_module": "@jupyter-widgets/base",
            "_view_module_version": "1.2.0",
            "_view_name": "StyleView",
            "description_width": ""
          }
        },
        "c7ec377d01494bababd9d2bdb868b949": {
          "model_module": "@jupyter-widgets/base",
          "model_name": "LayoutModel",
          "model_module_version": "1.2.0",
          "state": {
            "_model_module": "@jupyter-widgets/base",
            "_model_module_version": "1.2.0",
            "_model_name": "LayoutModel",
            "_view_count": null,
            "_view_module": "@jupyter-widgets/base",
            "_view_module_version": "1.2.0",
            "_view_name": "LayoutView",
            "align_content": null,
            "align_items": null,
            "align_self": null,
            "border": null,
            "bottom": null,
            "display": null,
            "flex": null,
            "flex_flow": null,
            "grid_area": null,
            "grid_auto_columns": null,
            "grid_auto_flow": null,
            "grid_auto_rows": null,
            "grid_column": null,
            "grid_gap": null,
            "grid_row": null,
            "grid_template_areas": null,
            "grid_template_columns": null,
            "grid_template_rows": null,
            "height": null,
            "justify_content": null,
            "justify_items": null,
            "left": null,
            "margin": null,
            "max_height": null,
            "max_width": null,
            "min_height": null,
            "min_width": null,
            "object_fit": null,
            "object_position": null,
            "order": null,
            "overflow": null,
            "overflow_x": null,
            "overflow_y": null,
            "padding": null,
            "right": null,
            "top": null,
            "visibility": null,
            "width": null
          }
        },
        "762cfed2331b48fcbeb4fab1ca6382a5": {
          "model_module": "@jupyter-widgets/controls",
          "model_name": "ProgressStyleModel",
          "model_module_version": "1.5.0",
          "state": {
            "_model_module": "@jupyter-widgets/controls",
            "_model_module_version": "1.5.0",
            "_model_name": "ProgressStyleModel",
            "_view_count": null,
            "_view_module": "@jupyter-widgets/base",
            "_view_module_version": "1.2.0",
            "_view_name": "StyleView",
            "bar_color": null,
            "description_width": ""
          }
        },
        "d35efa798f9d47f8a053095f5ce1cea4": {
          "model_module": "@jupyter-widgets/base",
          "model_name": "LayoutModel",
          "model_module_version": "1.2.0",
          "state": {
            "_model_module": "@jupyter-widgets/base",
            "_model_module_version": "1.2.0",
            "_model_name": "LayoutModel",
            "_view_count": null,
            "_view_module": "@jupyter-widgets/base",
            "_view_module_version": "1.2.0",
            "_view_name": "LayoutView",
            "align_content": null,
            "align_items": null,
            "align_self": null,
            "border": null,
            "bottom": null,
            "display": null,
            "flex": null,
            "flex_flow": null,
            "grid_area": null,
            "grid_auto_columns": null,
            "grid_auto_flow": null,
            "grid_auto_rows": null,
            "grid_column": null,
            "grid_gap": null,
            "grid_row": null,
            "grid_template_areas": null,
            "grid_template_columns": null,
            "grid_template_rows": null,
            "height": null,
            "justify_content": null,
            "justify_items": null,
            "left": null,
            "margin": null,
            "max_height": null,
            "max_width": null,
            "min_height": null,
            "min_width": null,
            "object_fit": null,
            "object_position": null,
            "order": null,
            "overflow": null,
            "overflow_x": null,
            "overflow_y": null,
            "padding": null,
            "right": null,
            "top": null,
            "visibility": null,
            "width": null
          }
        },
        "5b32df862955469fb3dc89a87b348e87": {
          "model_module": "@jupyter-widgets/controls",
          "model_name": "DescriptionStyleModel",
          "model_module_version": "1.5.0",
          "state": {
            "_model_module": "@jupyter-widgets/controls",
            "_model_module_version": "1.5.0",
            "_model_name": "DescriptionStyleModel",
            "_view_count": null,
            "_view_module": "@jupyter-widgets/base",
            "_view_module_version": "1.2.0",
            "_view_name": "StyleView",
            "description_width": ""
          }
        },
        "bedaef59ba834849ba109e9a79f929c9": {
          "model_module": "@jupyter-widgets/controls",
          "model_name": "HBoxModel",
          "model_module_version": "1.5.0",
          "state": {
            "_dom_classes": [],
            "_model_module": "@jupyter-widgets/controls",
            "_model_module_version": "1.5.0",
            "_model_name": "HBoxModel",
            "_view_count": null,
            "_view_module": "@jupyter-widgets/controls",
            "_view_module_version": "1.5.0",
            "_view_name": "HBoxView",
            "box_style": "",
            "children": [
              "IPY_MODEL_a84aa389caab4ee9a564cb4619b34a3c",
              "IPY_MODEL_0a9bdd9752df4b049501e6e1e107ec65",
              "IPY_MODEL_8c6b088788b741b2abca0baee227ab9a"
            ],
            "layout": "IPY_MODEL_9a66808c7bf148609a5139fb5af39dcd"
          }
        },
        "a84aa389caab4ee9a564cb4619b34a3c": {
          "model_module": "@jupyter-widgets/controls",
          "model_name": "HTMLModel",
          "model_module_version": "1.5.0",
          "state": {
            "_dom_classes": [],
            "_model_module": "@jupyter-widgets/controls",
            "_model_module_version": "1.5.0",
            "_model_name": "HTMLModel",
            "_view_count": null,
            "_view_module": "@jupyter-widgets/controls",
            "_view_module_version": "1.5.0",
            "_view_name": "HTMLView",
            "description": "",
            "description_tooltip": null,
            "layout": "IPY_MODEL_eb86c16b30bd4f4caad49f303460a446",
            "placeholder": "​",
            "style": "IPY_MODEL_c253b116e91e43929c08f59dd0ba0344",
            "value": "Downloading: 100%"
          }
        },
        "0a9bdd9752df4b049501e6e1e107ec65": {
          "model_module": "@jupyter-widgets/controls",
          "model_name": "FloatProgressModel",
          "model_module_version": "1.5.0",
          "state": {
            "_dom_classes": [],
            "_model_module": "@jupyter-widgets/controls",
            "_model_module_version": "1.5.0",
            "_model_name": "FloatProgressModel",
            "_view_count": null,
            "_view_module": "@jupyter-widgets/controls",
            "_view_module_version": "1.5.0",
            "_view_name": "ProgressView",
            "bar_style": "success",
            "description": "",
            "description_tooltip": null,
            "layout": "IPY_MODEL_a8710108974149d8843d87b91b0b1123",
            "max": 5069051,
            "min": 0,
            "orientation": "horizontal",
            "style": "IPY_MODEL_abca1b60781e412c9768b9d1d578bfb8",
            "value": 5069051
          }
        },
        "8c6b088788b741b2abca0baee227ab9a": {
          "model_module": "@jupyter-widgets/controls",
          "model_name": "HTMLModel",
          "model_module_version": "1.5.0",
          "state": {
            "_dom_classes": [],
            "_model_module": "@jupyter-widgets/controls",
            "_model_module_version": "1.5.0",
            "_model_name": "HTMLModel",
            "_view_count": null,
            "_view_module": "@jupyter-widgets/controls",
            "_view_module_version": "1.5.0",
            "_view_name": "HTMLView",
            "description": "",
            "description_tooltip": null,
            "layout": "IPY_MODEL_c1e5c28adbc1443a8bb31e98e624e2ce",
            "placeholder": "​",
            "style": "IPY_MODEL_20dc28b4ffcf49efa0b80c31749c0241",
            "value": " 5.07M/5.07M [00:00&lt;00:00, 21.6MB/s]"
          }
        },
        "9a66808c7bf148609a5139fb5af39dcd": {
          "model_module": "@jupyter-widgets/base",
          "model_name": "LayoutModel",
          "model_module_version": "1.2.0",
          "state": {
            "_model_module": "@jupyter-widgets/base",
            "_model_module_version": "1.2.0",
            "_model_name": "LayoutModel",
            "_view_count": null,
            "_view_module": "@jupyter-widgets/base",
            "_view_module_version": "1.2.0",
            "_view_name": "LayoutView",
            "align_content": null,
            "align_items": null,
            "align_self": null,
            "border": null,
            "bottom": null,
            "display": null,
            "flex": null,
            "flex_flow": null,
            "grid_area": null,
            "grid_auto_columns": null,
            "grid_auto_flow": null,
            "grid_auto_rows": null,
            "grid_column": null,
            "grid_gap": null,
            "grid_row": null,
            "grid_template_areas": null,
            "grid_template_columns": null,
            "grid_template_rows": null,
            "height": null,
            "justify_content": null,
            "justify_items": null,
            "left": null,
            "margin": null,
            "max_height": null,
            "max_width": null,
            "min_height": null,
            "min_width": null,
            "object_fit": null,
            "object_position": null,
            "order": null,
            "overflow": null,
            "overflow_x": null,
            "overflow_y": null,
            "padding": null,
            "right": null,
            "top": null,
            "visibility": null,
            "width": null
          }
        },
        "eb86c16b30bd4f4caad49f303460a446": {
          "model_module": "@jupyter-widgets/base",
          "model_name": "LayoutModel",
          "model_module_version": "1.2.0",
          "state": {
            "_model_module": "@jupyter-widgets/base",
            "_model_module_version": "1.2.0",
            "_model_name": "LayoutModel",
            "_view_count": null,
            "_view_module": "@jupyter-widgets/base",
            "_view_module_version": "1.2.0",
            "_view_name": "LayoutView",
            "align_content": null,
            "align_items": null,
            "align_self": null,
            "border": null,
            "bottom": null,
            "display": null,
            "flex": null,
            "flex_flow": null,
            "grid_area": null,
            "grid_auto_columns": null,
            "grid_auto_flow": null,
            "grid_auto_rows": null,
            "grid_column": null,
            "grid_gap": null,
            "grid_row": null,
            "grid_template_areas": null,
            "grid_template_columns": null,
            "grid_template_rows": null,
            "height": null,
            "justify_content": null,
            "justify_items": null,
            "left": null,
            "margin": null,
            "max_height": null,
            "max_width": null,
            "min_height": null,
            "min_width": null,
            "object_fit": null,
            "object_position": null,
            "order": null,
            "overflow": null,
            "overflow_x": null,
            "overflow_y": null,
            "padding": null,
            "right": null,
            "top": null,
            "visibility": null,
            "width": null
          }
        },
        "c253b116e91e43929c08f59dd0ba0344": {
          "model_module": "@jupyter-widgets/controls",
          "model_name": "DescriptionStyleModel",
          "model_module_version": "1.5.0",
          "state": {
            "_model_module": "@jupyter-widgets/controls",
            "_model_module_version": "1.5.0",
            "_model_name": "DescriptionStyleModel",
            "_view_count": null,
            "_view_module": "@jupyter-widgets/base",
            "_view_module_version": "1.2.0",
            "_view_name": "StyleView",
            "description_width": ""
          }
        },
        "a8710108974149d8843d87b91b0b1123": {
          "model_module": "@jupyter-widgets/base",
          "model_name": "LayoutModel",
          "model_module_version": "1.2.0",
          "state": {
            "_model_module": "@jupyter-widgets/base",
            "_model_module_version": "1.2.0",
            "_model_name": "LayoutModel",
            "_view_count": null,
            "_view_module": "@jupyter-widgets/base",
            "_view_module_version": "1.2.0",
            "_view_name": "LayoutView",
            "align_content": null,
            "align_items": null,
            "align_self": null,
            "border": null,
            "bottom": null,
            "display": null,
            "flex": null,
            "flex_flow": null,
            "grid_area": null,
            "grid_auto_columns": null,
            "grid_auto_flow": null,
            "grid_auto_rows": null,
            "grid_column": null,
            "grid_gap": null,
            "grid_row": null,
            "grid_template_areas": null,
            "grid_template_columns": null,
            "grid_template_rows": null,
            "height": null,
            "justify_content": null,
            "justify_items": null,
            "left": null,
            "margin": null,
            "max_height": null,
            "max_width": null,
            "min_height": null,
            "min_width": null,
            "object_fit": null,
            "object_position": null,
            "order": null,
            "overflow": null,
            "overflow_x": null,
            "overflow_y": null,
            "padding": null,
            "right": null,
            "top": null,
            "visibility": null,
            "width": null
          }
        },
        "abca1b60781e412c9768b9d1d578bfb8": {
          "model_module": "@jupyter-widgets/controls",
          "model_name": "ProgressStyleModel",
          "model_module_version": "1.5.0",
          "state": {
            "_model_module": "@jupyter-widgets/controls",
            "_model_module_version": "1.5.0",
            "_model_name": "ProgressStyleModel",
            "_view_count": null,
            "_view_module": "@jupyter-widgets/base",
            "_view_module_version": "1.2.0",
            "_view_name": "StyleView",
            "bar_color": null,
            "description_width": ""
          }
        },
        "c1e5c28adbc1443a8bb31e98e624e2ce": {
          "model_module": "@jupyter-widgets/base",
          "model_name": "LayoutModel",
          "model_module_version": "1.2.0",
          "state": {
            "_model_module": "@jupyter-widgets/base",
            "_model_module_version": "1.2.0",
            "_model_name": "LayoutModel",
            "_view_count": null,
            "_view_module": "@jupyter-widgets/base",
            "_view_module_version": "1.2.0",
            "_view_name": "LayoutView",
            "align_content": null,
            "align_items": null,
            "align_self": null,
            "border": null,
            "bottom": null,
            "display": null,
            "flex": null,
            "flex_flow": null,
            "grid_area": null,
            "grid_auto_columns": null,
            "grid_auto_flow": null,
            "grid_auto_rows": null,
            "grid_column": null,
            "grid_gap": null,
            "grid_row": null,
            "grid_template_areas": null,
            "grid_template_columns": null,
            "grid_template_rows": null,
            "height": null,
            "justify_content": null,
            "justify_items": null,
            "left": null,
            "margin": null,
            "max_height": null,
            "max_width": null,
            "min_height": null,
            "min_width": null,
            "object_fit": null,
            "object_position": null,
            "order": null,
            "overflow": null,
            "overflow_x": null,
            "overflow_y": null,
            "padding": null,
            "right": null,
            "top": null,
            "visibility": null,
            "width": null
          }
        },
        "20dc28b4ffcf49efa0b80c31749c0241": {
          "model_module": "@jupyter-widgets/controls",
          "model_name": "DescriptionStyleModel",
          "model_module_version": "1.5.0",
          "state": {
            "_model_module": "@jupyter-widgets/controls",
            "_model_module_version": "1.5.0",
            "_model_name": "DescriptionStyleModel",
            "_view_count": null,
            "_view_module": "@jupyter-widgets/base",
            "_view_module_version": "1.2.0",
            "_view_name": "StyleView",
            "description_width": ""
          }
        },
        "69b4700decf84980a4c02b710bf0e8ae": {
          "model_module": "@jupyter-widgets/controls",
          "model_name": "HBoxModel",
          "model_module_version": "1.5.0",
          "state": {
            "_dom_classes": [],
            "_model_module": "@jupyter-widgets/controls",
            "_model_module_version": "1.5.0",
            "_model_name": "HBoxModel",
            "_view_count": null,
            "_view_module": "@jupyter-widgets/controls",
            "_view_module_version": "1.5.0",
            "_view_name": "HBoxView",
            "box_style": "",
            "children": [
              "IPY_MODEL_40a713e8af334c4b8d57ff62d2bfe18a",
              "IPY_MODEL_ba585916809d4126ad6f51a34bcf8813",
              "IPY_MODEL_25bc100ba511465fbac6c32a53ea8676"
            ],
            "layout": "IPY_MODEL_0e08b59638cc4f579850c61562676a58"
          }
        },
        "40a713e8af334c4b8d57ff62d2bfe18a": {
          "model_module": "@jupyter-widgets/controls",
          "model_name": "HTMLModel",
          "model_module_version": "1.5.0",
          "state": {
            "_dom_classes": [],
            "_model_module": "@jupyter-widgets/controls",
            "_model_module_version": "1.5.0",
            "_model_name": "HTMLModel",
            "_view_count": null,
            "_view_module": "@jupyter-widgets/controls",
            "_view_module_version": "1.5.0",
            "_view_name": "HTMLView",
            "description": "",
            "description_tooltip": null,
            "layout": "IPY_MODEL_a2388bc7858e4bac9c96cffa36abae79",
            "placeholder": "​",
            "style": "IPY_MODEL_17bee8b8b77f4d3ca7e8ba47424930fb",
            "value": "Downloading: 100%"
          }
        },
        "ba585916809d4126ad6f51a34bcf8813": {
          "model_module": "@jupyter-widgets/controls",
          "model_name": "FloatProgressModel",
          "model_module_version": "1.5.0",
          "state": {
            "_dom_classes": [],
            "_model_module": "@jupyter-widgets/controls",
            "_model_module_version": "1.5.0",
            "_model_name": "FloatProgressModel",
            "_view_count": null,
            "_view_module": "@jupyter-widgets/controls",
            "_view_module_version": "1.5.0",
            "_view_name": "ProgressView",
            "bar_style": "success",
            "description": "",
            "description_tooltip": null,
            "layout": "IPY_MODEL_7184f36a10c54966b1f71d9ff025ac13",
            "max": 294,
            "min": 0,
            "orientation": "horizontal",
            "style": "IPY_MODEL_63959bb727214febb9ee308fe3cdc6d6",
            "value": 294
          }
        },
        "25bc100ba511465fbac6c32a53ea8676": {
          "model_module": "@jupyter-widgets/controls",
          "model_name": "HTMLModel",
          "model_module_version": "1.5.0",
          "state": {
            "_dom_classes": [],
            "_model_module": "@jupyter-widgets/controls",
            "_model_module_version": "1.5.0",
            "_model_name": "HTMLModel",
            "_view_count": null,
            "_view_module": "@jupyter-widgets/controls",
            "_view_module_version": "1.5.0",
            "_view_name": "HTMLView",
            "description": "",
            "description_tooltip": null,
            "layout": "IPY_MODEL_6737c10fe1a943a799432a202d1f2aef",
            "placeholder": "​",
            "style": "IPY_MODEL_ba8314bc2bf043d2badb413b26e3b655",
            "value": " 294/294 [00:00&lt;00:00, 5.63kB/s]"
          }
        },
        "0e08b59638cc4f579850c61562676a58": {
          "model_module": "@jupyter-widgets/base",
          "model_name": "LayoutModel",
          "model_module_version": "1.2.0",
          "state": {
            "_model_module": "@jupyter-widgets/base",
            "_model_module_version": "1.2.0",
            "_model_name": "LayoutModel",
            "_view_count": null,
            "_view_module": "@jupyter-widgets/base",
            "_view_module_version": "1.2.0",
            "_view_name": "LayoutView",
            "align_content": null,
            "align_items": null,
            "align_self": null,
            "border": null,
            "bottom": null,
            "display": null,
            "flex": null,
            "flex_flow": null,
            "grid_area": null,
            "grid_auto_columns": null,
            "grid_auto_flow": null,
            "grid_auto_rows": null,
            "grid_column": null,
            "grid_gap": null,
            "grid_row": null,
            "grid_template_areas": null,
            "grid_template_columns": null,
            "grid_template_rows": null,
            "height": null,
            "justify_content": null,
            "justify_items": null,
            "left": null,
            "margin": null,
            "max_height": null,
            "max_width": null,
            "min_height": null,
            "min_width": null,
            "object_fit": null,
            "object_position": null,
            "order": null,
            "overflow": null,
            "overflow_x": null,
            "overflow_y": null,
            "padding": null,
            "right": null,
            "top": null,
            "visibility": null,
            "width": null
          }
        },
        "a2388bc7858e4bac9c96cffa36abae79": {
          "model_module": "@jupyter-widgets/base",
          "model_name": "LayoutModel",
          "model_module_version": "1.2.0",
          "state": {
            "_model_module": "@jupyter-widgets/base",
            "_model_module_version": "1.2.0",
            "_model_name": "LayoutModel",
            "_view_count": null,
            "_view_module": "@jupyter-widgets/base",
            "_view_module_version": "1.2.0",
            "_view_name": "LayoutView",
            "align_content": null,
            "align_items": null,
            "align_self": null,
            "border": null,
            "bottom": null,
            "display": null,
            "flex": null,
            "flex_flow": null,
            "grid_area": null,
            "grid_auto_columns": null,
            "grid_auto_flow": null,
            "grid_auto_rows": null,
            "grid_column": null,
            "grid_gap": null,
            "grid_row": null,
            "grid_template_areas": null,
            "grid_template_columns": null,
            "grid_template_rows": null,
            "height": null,
            "justify_content": null,
            "justify_items": null,
            "left": null,
            "margin": null,
            "max_height": null,
            "max_width": null,
            "min_height": null,
            "min_width": null,
            "object_fit": null,
            "object_position": null,
            "order": null,
            "overflow": null,
            "overflow_x": null,
            "overflow_y": null,
            "padding": null,
            "right": null,
            "top": null,
            "visibility": null,
            "width": null
          }
        },
        "17bee8b8b77f4d3ca7e8ba47424930fb": {
          "model_module": "@jupyter-widgets/controls",
          "model_name": "DescriptionStyleModel",
          "model_module_version": "1.5.0",
          "state": {
            "_model_module": "@jupyter-widgets/controls",
            "_model_module_version": "1.5.0",
            "_model_name": "DescriptionStyleModel",
            "_view_count": null,
            "_view_module": "@jupyter-widgets/base",
            "_view_module_version": "1.2.0",
            "_view_name": "StyleView",
            "description_width": ""
          }
        },
        "7184f36a10c54966b1f71d9ff025ac13": {
          "model_module": "@jupyter-widgets/base",
          "model_name": "LayoutModel",
          "model_module_version": "1.2.0",
          "state": {
            "_model_module": "@jupyter-widgets/base",
            "_model_module_version": "1.2.0",
            "_model_name": "LayoutModel",
            "_view_count": null,
            "_view_module": "@jupyter-widgets/base",
            "_view_module_version": "1.2.0",
            "_view_name": "LayoutView",
            "align_content": null,
            "align_items": null,
            "align_self": null,
            "border": null,
            "bottom": null,
            "display": null,
            "flex": null,
            "flex_flow": null,
            "grid_area": null,
            "grid_auto_columns": null,
            "grid_auto_flow": null,
            "grid_auto_rows": null,
            "grid_column": null,
            "grid_gap": null,
            "grid_row": null,
            "grid_template_areas": null,
            "grid_template_columns": null,
            "grid_template_rows": null,
            "height": null,
            "justify_content": null,
            "justify_items": null,
            "left": null,
            "margin": null,
            "max_height": null,
            "max_width": null,
            "min_height": null,
            "min_width": null,
            "object_fit": null,
            "object_position": null,
            "order": null,
            "overflow": null,
            "overflow_x": null,
            "overflow_y": null,
            "padding": null,
            "right": null,
            "top": null,
            "visibility": null,
            "width": null
          }
        },
        "63959bb727214febb9ee308fe3cdc6d6": {
          "model_module": "@jupyter-widgets/controls",
          "model_name": "ProgressStyleModel",
          "model_module_version": "1.5.0",
          "state": {
            "_model_module": "@jupyter-widgets/controls",
            "_model_module_version": "1.5.0",
            "_model_name": "ProgressStyleModel",
            "_view_count": null,
            "_view_module": "@jupyter-widgets/base",
            "_view_module_version": "1.2.0",
            "_view_name": "StyleView",
            "bar_color": null,
            "description_width": ""
          }
        },
        "6737c10fe1a943a799432a202d1f2aef": {
          "model_module": "@jupyter-widgets/base",
          "model_name": "LayoutModel",
          "model_module_version": "1.2.0",
          "state": {
            "_model_module": "@jupyter-widgets/base",
            "_model_module_version": "1.2.0",
            "_model_name": "LayoutModel",
            "_view_count": null,
            "_view_module": "@jupyter-widgets/base",
            "_view_module_version": "1.2.0",
            "_view_name": "LayoutView",
            "align_content": null,
            "align_items": null,
            "align_self": null,
            "border": null,
            "bottom": null,
            "display": null,
            "flex": null,
            "flex_flow": null,
            "grid_area": null,
            "grid_auto_columns": null,
            "grid_auto_flow": null,
            "grid_auto_rows": null,
            "grid_column": null,
            "grid_gap": null,
            "grid_row": null,
            "grid_template_areas": null,
            "grid_template_columns": null,
            "grid_template_rows": null,
            "height": null,
            "justify_content": null,
            "justify_items": null,
            "left": null,
            "margin": null,
            "max_height": null,
            "max_width": null,
            "min_height": null,
            "min_width": null,
            "object_fit": null,
            "object_position": null,
            "order": null,
            "overflow": null,
            "overflow_x": null,
            "overflow_y": null,
            "padding": null,
            "right": null,
            "top": null,
            "visibility": null,
            "width": null
          }
        },
        "ba8314bc2bf043d2badb413b26e3b655": {
          "model_module": "@jupyter-widgets/controls",
          "model_name": "DescriptionStyleModel",
          "model_module_version": "1.5.0",
          "state": {
            "_model_module": "@jupyter-widgets/controls",
            "_model_module_version": "1.5.0",
            "_model_name": "DescriptionStyleModel",
            "_view_count": null,
            "_view_module": "@jupyter-widgets/base",
            "_view_module_version": "1.2.0",
            "_view_name": "StyleView",
            "description_width": ""
          }
        },
        "95efff2cc3fa435bb398913ff740ff64": {
          "model_module": "@jupyter-widgets/controls",
          "model_name": "HBoxModel",
          "model_module_version": "1.5.0",
          "state": {
            "_dom_classes": [],
            "_model_module": "@jupyter-widgets/controls",
            "_model_module_version": "1.5.0",
            "_model_name": "HBoxModel",
            "_view_count": null,
            "_view_module": "@jupyter-widgets/controls",
            "_view_module_version": "1.5.0",
            "_view_name": "HBoxView",
            "box_style": "",
            "children": [
              "IPY_MODEL_2e436dd52e9e4f71a2a56bf12c19a110",
              "IPY_MODEL_d007cd047abd4282af642b0dccdbbee1",
              "IPY_MODEL_0e7d2431aa0947f19b2d7d3b3746c664"
            ],
            "layout": "IPY_MODEL_55786b0782794afab2005111bea2ad5f"
          }
        },
        "2e436dd52e9e4f71a2a56bf12c19a110": {
          "model_module": "@jupyter-widgets/controls",
          "model_name": "HTMLModel",
          "model_module_version": "1.5.0",
          "state": {
            "_dom_classes": [],
            "_model_module": "@jupyter-widgets/controls",
            "_model_module_version": "1.5.0",
            "_model_name": "HTMLModel",
            "_view_count": null,
            "_view_module": "@jupyter-widgets/controls",
            "_view_module_version": "1.5.0",
            "_view_name": "HTMLView",
            "description": "",
            "description_tooltip": null,
            "layout": "IPY_MODEL_37664acdb1c84510b1861d6a7274279d",
            "placeholder": "​",
            "style": "IPY_MODEL_cce7383af7f244b699538636099faa43",
            "value": "Downloading: 100%"
          }
        },
        "d007cd047abd4282af642b0dccdbbee1": {
          "model_module": "@jupyter-widgets/controls",
          "model_name": "FloatProgressModel",
          "model_module_version": "1.5.0",
          "state": {
            "_dom_classes": [],
            "_model_module": "@jupyter-widgets/controls",
            "_model_module_version": "1.5.0",
            "_model_name": "FloatProgressModel",
            "_view_count": null,
            "_view_module": "@jupyter-widgets/controls",
            "_view_module_version": "1.5.0",
            "_view_name": "ProgressView",
            "bar_style": "success",
            "description": "",
            "description_tooltip": null,
            "layout": "IPY_MODEL_478c08412bc2485b88cb780dd355c4bc",
            "max": 9081696,
            "min": 0,
            "orientation": "horizontal",
            "style": "IPY_MODEL_f5508f14573e479ba690e572f20dd518",
            "value": 9081696
          }
        },
        "0e7d2431aa0947f19b2d7d3b3746c664": {
          "model_module": "@jupyter-widgets/controls",
          "model_name": "HTMLModel",
          "model_module_version": "1.5.0",
          "state": {
            "_dom_classes": [],
            "_model_module": "@jupyter-widgets/controls",
            "_model_module_version": "1.5.0",
            "_model_name": "HTMLModel",
            "_view_count": null,
            "_view_module": "@jupyter-widgets/controls",
            "_view_module_version": "1.5.0",
            "_view_name": "HTMLView",
            "description": "",
            "description_tooltip": null,
            "layout": "IPY_MODEL_e7d15e130ec74ee3bf59390ad568e58f",
            "placeholder": "​",
            "style": "IPY_MODEL_795a75751d4d44b48b5aee7f50b6eef8",
            "value": " 9.08M/9.08M [00:00&lt;00:00, 24.0MB/s]"
          }
        },
        "55786b0782794afab2005111bea2ad5f": {
          "model_module": "@jupyter-widgets/base",
          "model_name": "LayoutModel",
          "model_module_version": "1.2.0",
          "state": {
            "_model_module": "@jupyter-widgets/base",
            "_model_module_version": "1.2.0",
            "_model_name": "LayoutModel",
            "_view_count": null,
            "_view_module": "@jupyter-widgets/base",
            "_view_module_version": "1.2.0",
            "_view_name": "LayoutView",
            "align_content": null,
            "align_items": null,
            "align_self": null,
            "border": null,
            "bottom": null,
            "display": null,
            "flex": null,
            "flex_flow": null,
            "grid_area": null,
            "grid_auto_columns": null,
            "grid_auto_flow": null,
            "grid_auto_rows": null,
            "grid_column": null,
            "grid_gap": null,
            "grid_row": null,
            "grid_template_areas": null,
            "grid_template_columns": null,
            "grid_template_rows": null,
            "height": null,
            "justify_content": null,
            "justify_items": null,
            "left": null,
            "margin": null,
            "max_height": null,
            "max_width": null,
            "min_height": null,
            "min_width": null,
            "object_fit": null,
            "object_position": null,
            "order": null,
            "overflow": null,
            "overflow_x": null,
            "overflow_y": null,
            "padding": null,
            "right": null,
            "top": null,
            "visibility": null,
            "width": null
          }
        },
        "37664acdb1c84510b1861d6a7274279d": {
          "model_module": "@jupyter-widgets/base",
          "model_name": "LayoutModel",
          "model_module_version": "1.2.0",
          "state": {
            "_model_module": "@jupyter-widgets/base",
            "_model_module_version": "1.2.0",
            "_model_name": "LayoutModel",
            "_view_count": null,
            "_view_module": "@jupyter-widgets/base",
            "_view_module_version": "1.2.0",
            "_view_name": "LayoutView",
            "align_content": null,
            "align_items": null,
            "align_self": null,
            "border": null,
            "bottom": null,
            "display": null,
            "flex": null,
            "flex_flow": null,
            "grid_area": null,
            "grid_auto_columns": null,
            "grid_auto_flow": null,
            "grid_auto_rows": null,
            "grid_column": null,
            "grid_gap": null,
            "grid_row": null,
            "grid_template_areas": null,
            "grid_template_columns": null,
            "grid_template_rows": null,
            "height": null,
            "justify_content": null,
            "justify_items": null,
            "left": null,
            "margin": null,
            "max_height": null,
            "max_width": null,
            "min_height": null,
            "min_width": null,
            "object_fit": null,
            "object_position": null,
            "order": null,
            "overflow": null,
            "overflow_x": null,
            "overflow_y": null,
            "padding": null,
            "right": null,
            "top": null,
            "visibility": null,
            "width": null
          }
        },
        "cce7383af7f244b699538636099faa43": {
          "model_module": "@jupyter-widgets/controls",
          "model_name": "DescriptionStyleModel",
          "model_module_version": "1.5.0",
          "state": {
            "_model_module": "@jupyter-widgets/controls",
            "_model_module_version": "1.5.0",
            "_model_name": "DescriptionStyleModel",
            "_view_count": null,
            "_view_module": "@jupyter-widgets/base",
            "_view_module_version": "1.2.0",
            "_view_name": "StyleView",
            "description_width": ""
          }
        },
        "478c08412bc2485b88cb780dd355c4bc": {
          "model_module": "@jupyter-widgets/base",
          "model_name": "LayoutModel",
          "model_module_version": "1.2.0",
          "state": {
            "_model_module": "@jupyter-widgets/base",
            "_model_module_version": "1.2.0",
            "_model_name": "LayoutModel",
            "_view_count": null,
            "_view_module": "@jupyter-widgets/base",
            "_view_module_version": "1.2.0",
            "_view_name": "LayoutView",
            "align_content": null,
            "align_items": null,
            "align_self": null,
            "border": null,
            "bottom": null,
            "display": null,
            "flex": null,
            "flex_flow": null,
            "grid_area": null,
            "grid_auto_columns": null,
            "grid_auto_flow": null,
            "grid_auto_rows": null,
            "grid_column": null,
            "grid_gap": null,
            "grid_row": null,
            "grid_template_areas": null,
            "grid_template_columns": null,
            "grid_template_rows": null,
            "height": null,
            "justify_content": null,
            "justify_items": null,
            "left": null,
            "margin": null,
            "max_height": null,
            "max_width": null,
            "min_height": null,
            "min_width": null,
            "object_fit": null,
            "object_position": null,
            "order": null,
            "overflow": null,
            "overflow_x": null,
            "overflow_y": null,
            "padding": null,
            "right": null,
            "top": null,
            "visibility": null,
            "width": null
          }
        },
        "f5508f14573e479ba690e572f20dd518": {
          "model_module": "@jupyter-widgets/controls",
          "model_name": "ProgressStyleModel",
          "model_module_version": "1.5.0",
          "state": {
            "_model_module": "@jupyter-widgets/controls",
            "_model_module_version": "1.5.0",
            "_model_name": "ProgressStyleModel",
            "_view_count": null,
            "_view_module": "@jupyter-widgets/base",
            "_view_module_version": "1.2.0",
            "_view_name": "StyleView",
            "bar_color": null,
            "description_width": ""
          }
        },
        "e7d15e130ec74ee3bf59390ad568e58f": {
          "model_module": "@jupyter-widgets/base",
          "model_name": "LayoutModel",
          "model_module_version": "1.2.0",
          "state": {
            "_model_module": "@jupyter-widgets/base",
            "_model_module_version": "1.2.0",
            "_model_name": "LayoutModel",
            "_view_count": null,
            "_view_module": "@jupyter-widgets/base",
            "_view_module_version": "1.2.0",
            "_view_name": "LayoutView",
            "align_content": null,
            "align_items": null,
            "align_self": null,
            "border": null,
            "bottom": null,
            "display": null,
            "flex": null,
            "flex_flow": null,
            "grid_area": null,
            "grid_auto_columns": null,
            "grid_auto_flow": null,
            "grid_auto_rows": null,
            "grid_column": null,
            "grid_gap": null,
            "grid_row": null,
            "grid_template_areas": null,
            "grid_template_columns": null,
            "grid_template_rows": null,
            "height": null,
            "justify_content": null,
            "justify_items": null,
            "left": null,
            "margin": null,
            "max_height": null,
            "max_width": null,
            "min_height": null,
            "min_width": null,
            "object_fit": null,
            "object_position": null,
            "order": null,
            "overflow": null,
            "overflow_x": null,
            "overflow_y": null,
            "padding": null,
            "right": null,
            "top": null,
            "visibility": null,
            "width": null
          }
        },
        "795a75751d4d44b48b5aee7f50b6eef8": {
          "model_module": "@jupyter-widgets/controls",
          "model_name": "DescriptionStyleModel",
          "model_module_version": "1.5.0",
          "state": {
            "_model_module": "@jupyter-widgets/controls",
            "_model_module_version": "1.5.0",
            "_model_name": "DescriptionStyleModel",
            "_view_count": null,
            "_view_module": "@jupyter-widgets/base",
            "_view_module_version": "1.2.0",
            "_view_name": "StyleView",
            "description_width": ""
          }
        },
        "c4d978fbd77246668d86836bf64ef249": {
          "model_module": "@jupyter-widgets/controls",
          "model_name": "HBoxModel",
          "model_module_version": "1.5.0",
          "state": {
            "_dom_classes": [],
            "_model_module": "@jupyter-widgets/controls",
            "_model_module_version": "1.5.0",
            "_model_name": "HBoxModel",
            "_view_count": null,
            "_view_module": "@jupyter-widgets/controls",
            "_view_module_version": "1.5.0",
            "_view_name": "HBoxView",
            "box_style": "",
            "children": [
              "IPY_MODEL_189a3ebceebe4d03b94506755705f00d",
              "IPY_MODEL_96d6f99b526142d58fb712b67d5dd23c",
              "IPY_MODEL_d663d323440f463b81850422a827b585"
            ],
            "layout": "IPY_MODEL_351dc09367cb4704a96363aaee217b3f"
          }
        },
        "189a3ebceebe4d03b94506755705f00d": {
          "model_module": "@jupyter-widgets/controls",
          "model_name": "HTMLModel",
          "model_module_version": "1.5.0",
          "state": {
            "_dom_classes": [],
            "_model_module": "@jupyter-widgets/controls",
            "_model_module_version": "1.5.0",
            "_model_name": "HTMLModel",
            "_view_count": null,
            "_view_module": "@jupyter-widgets/controls",
            "_view_module_version": "1.5.0",
            "_view_name": "HTMLView",
            "description": "",
            "description_tooltip": null,
            "layout": "IPY_MODEL_aa573a372d014318ba6ea10cb146b548",
            "placeholder": "​",
            "style": "IPY_MODEL_18ed460a5a5347c585bd61bd9610b492",
            "value": "Downloading: 100%"
          }
        },
        "96d6f99b526142d58fb712b67d5dd23c": {
          "model_module": "@jupyter-widgets/controls",
          "model_name": "FloatProgressModel",
          "model_module_version": "1.5.0",
          "state": {
            "_dom_classes": [],
            "_model_module": "@jupyter-widgets/controls",
            "_model_module_version": "1.5.0",
            "_model_name": "FloatProgressModel",
            "_view_count": null,
            "_view_module": "@jupyter-widgets/controls",
            "_view_module_version": "1.5.0",
            "_view_name": "ProgressView",
            "bar_style": "success",
            "description": "",
            "description_tooltip": null,
            "layout": "IPY_MODEL_c39091385656461ba7aa6e3d56e7fbad",
            "max": 464,
            "min": 0,
            "orientation": "horizontal",
            "style": "IPY_MODEL_521ac403840a4d2eb3a305c3245de871",
            "value": 464
          }
        },
        "d663d323440f463b81850422a827b585": {
          "model_module": "@jupyter-widgets/controls",
          "model_name": "HTMLModel",
          "model_module_version": "1.5.0",
          "state": {
            "_dom_classes": [],
            "_model_module": "@jupyter-widgets/controls",
            "_model_module_version": "1.5.0",
            "_model_name": "HTMLModel",
            "_view_count": null,
            "_view_module": "@jupyter-widgets/controls",
            "_view_module_version": "1.5.0",
            "_view_name": "HTMLView",
            "description": "",
            "description_tooltip": null,
            "layout": "IPY_MODEL_0a7eceb0b24c42a399460921ed5792c0",
            "placeholder": "​",
            "style": "IPY_MODEL_aee9f2a883174c15ab53729a74bb2d43",
            "value": " 464/464 [00:00&lt;00:00, 8.42kB/s]"
          }
        },
        "351dc09367cb4704a96363aaee217b3f": {
          "model_module": "@jupyter-widgets/base",
          "model_name": "LayoutModel",
          "model_module_version": "1.2.0",
          "state": {
            "_model_module": "@jupyter-widgets/base",
            "_model_module_version": "1.2.0",
            "_model_name": "LayoutModel",
            "_view_count": null,
            "_view_module": "@jupyter-widgets/base",
            "_view_module_version": "1.2.0",
            "_view_name": "LayoutView",
            "align_content": null,
            "align_items": null,
            "align_self": null,
            "border": null,
            "bottom": null,
            "display": null,
            "flex": null,
            "flex_flow": null,
            "grid_area": null,
            "grid_auto_columns": null,
            "grid_auto_flow": null,
            "grid_auto_rows": null,
            "grid_column": null,
            "grid_gap": null,
            "grid_row": null,
            "grid_template_areas": null,
            "grid_template_columns": null,
            "grid_template_rows": null,
            "height": null,
            "justify_content": null,
            "justify_items": null,
            "left": null,
            "margin": null,
            "max_height": null,
            "max_width": null,
            "min_height": null,
            "min_width": null,
            "object_fit": null,
            "object_position": null,
            "order": null,
            "overflow": null,
            "overflow_x": null,
            "overflow_y": null,
            "padding": null,
            "right": null,
            "top": null,
            "visibility": null,
            "width": null
          }
        },
        "aa573a372d014318ba6ea10cb146b548": {
          "model_module": "@jupyter-widgets/base",
          "model_name": "LayoutModel",
          "model_module_version": "1.2.0",
          "state": {
            "_model_module": "@jupyter-widgets/base",
            "_model_module_version": "1.2.0",
            "_model_name": "LayoutModel",
            "_view_count": null,
            "_view_module": "@jupyter-widgets/base",
            "_view_module_version": "1.2.0",
            "_view_name": "LayoutView",
            "align_content": null,
            "align_items": null,
            "align_self": null,
            "border": null,
            "bottom": null,
            "display": null,
            "flex": null,
            "flex_flow": null,
            "grid_area": null,
            "grid_auto_columns": null,
            "grid_auto_flow": null,
            "grid_auto_rows": null,
            "grid_column": null,
            "grid_gap": null,
            "grid_row": null,
            "grid_template_areas": null,
            "grid_template_columns": null,
            "grid_template_rows": null,
            "height": null,
            "justify_content": null,
            "justify_items": null,
            "left": null,
            "margin": null,
            "max_height": null,
            "max_width": null,
            "min_height": null,
            "min_width": null,
            "object_fit": null,
            "object_position": null,
            "order": null,
            "overflow": null,
            "overflow_x": null,
            "overflow_y": null,
            "padding": null,
            "right": null,
            "top": null,
            "visibility": null,
            "width": null
          }
        },
        "18ed460a5a5347c585bd61bd9610b492": {
          "model_module": "@jupyter-widgets/controls",
          "model_name": "DescriptionStyleModel",
          "model_module_version": "1.5.0",
          "state": {
            "_model_module": "@jupyter-widgets/controls",
            "_model_module_version": "1.5.0",
            "_model_name": "DescriptionStyleModel",
            "_view_count": null,
            "_view_module": "@jupyter-widgets/base",
            "_view_module_version": "1.2.0",
            "_view_name": "StyleView",
            "description_width": ""
          }
        },
        "c39091385656461ba7aa6e3d56e7fbad": {
          "model_module": "@jupyter-widgets/base",
          "model_name": "LayoutModel",
          "model_module_version": "1.2.0",
          "state": {
            "_model_module": "@jupyter-widgets/base",
            "_model_module_version": "1.2.0",
            "_model_name": "LayoutModel",
            "_view_count": null,
            "_view_module": "@jupyter-widgets/base",
            "_view_module_version": "1.2.0",
            "_view_name": "LayoutView",
            "align_content": null,
            "align_items": null,
            "align_self": null,
            "border": null,
            "bottom": null,
            "display": null,
            "flex": null,
            "flex_flow": null,
            "grid_area": null,
            "grid_auto_columns": null,
            "grid_auto_flow": null,
            "grid_auto_rows": null,
            "grid_column": null,
            "grid_gap": null,
            "grid_row": null,
            "grid_template_areas": null,
            "grid_template_columns": null,
            "grid_template_rows": null,
            "height": null,
            "justify_content": null,
            "justify_items": null,
            "left": null,
            "margin": null,
            "max_height": null,
            "max_width": null,
            "min_height": null,
            "min_width": null,
            "object_fit": null,
            "object_position": null,
            "order": null,
            "overflow": null,
            "overflow_x": null,
            "overflow_y": null,
            "padding": null,
            "right": null,
            "top": null,
            "visibility": null,
            "width": null
          }
        },
        "521ac403840a4d2eb3a305c3245de871": {
          "model_module": "@jupyter-widgets/controls",
          "model_name": "ProgressStyleModel",
          "model_module_version": "1.5.0",
          "state": {
            "_model_module": "@jupyter-widgets/controls",
            "_model_module_version": "1.5.0",
            "_model_name": "ProgressStyleModel",
            "_view_count": null,
            "_view_module": "@jupyter-widgets/base",
            "_view_module_version": "1.2.0",
            "_view_name": "StyleView",
            "bar_color": null,
            "description_width": ""
          }
        },
        "0a7eceb0b24c42a399460921ed5792c0": {
          "model_module": "@jupyter-widgets/base",
          "model_name": "LayoutModel",
          "model_module_version": "1.2.0",
          "state": {
            "_model_module": "@jupyter-widgets/base",
            "_model_module_version": "1.2.0",
            "_model_name": "LayoutModel",
            "_view_count": null,
            "_view_module": "@jupyter-widgets/base",
            "_view_module_version": "1.2.0",
            "_view_name": "LayoutView",
            "align_content": null,
            "align_items": null,
            "align_self": null,
            "border": null,
            "bottom": null,
            "display": null,
            "flex": null,
            "flex_flow": null,
            "grid_area": null,
            "grid_auto_columns": null,
            "grid_auto_flow": null,
            "grid_auto_rows": null,
            "grid_column": null,
            "grid_gap": null,
            "grid_row": null,
            "grid_template_areas": null,
            "grid_template_columns": null,
            "grid_template_rows": null,
            "height": null,
            "justify_content": null,
            "justify_items": null,
            "left": null,
            "margin": null,
            "max_height": null,
            "max_width": null,
            "min_height": null,
            "min_width": null,
            "object_fit": null,
            "object_position": null,
            "order": null,
            "overflow": null,
            "overflow_x": null,
            "overflow_y": null,
            "padding": null,
            "right": null,
            "top": null,
            "visibility": null,
            "width": null
          }
        },
        "aee9f2a883174c15ab53729a74bb2d43": {
          "model_module": "@jupyter-widgets/controls",
          "model_name": "DescriptionStyleModel",
          "model_module_version": "1.5.0",
          "state": {
            "_model_module": "@jupyter-widgets/controls",
            "_model_module_version": "1.5.0",
            "_model_name": "DescriptionStyleModel",
            "_view_count": null,
            "_view_module": "@jupyter-widgets/base",
            "_view_module_version": "1.2.0",
            "_view_name": "StyleView",
            "description_width": ""
          }
        },
        "4580669ad03c41e2b3e3d1bdb8e4cfb0": {
          "model_module": "@jupyter-widgets/controls",
          "model_name": "HBoxModel",
          "model_module_version": "1.5.0",
          "state": {
            "_dom_classes": [],
            "_model_module": "@jupyter-widgets/controls",
            "_model_module_version": "1.5.0",
            "_model_name": "HBoxModel",
            "_view_count": null,
            "_view_module": "@jupyter-widgets/controls",
            "_view_module_version": "1.5.0",
            "_view_name": "HBoxView",
            "box_style": "",
            "children": [
              "IPY_MODEL_393e7457e81e407790959f04b3a0aa94",
              "IPY_MODEL_43735e6e1de4496cbcf89eb2e3c1772c",
              "IPY_MODEL_06263b984e48434b8be588b655cd90e8"
            ],
            "layout": "IPY_MODEL_79fa7181e6e54152b45e0263d8763900"
          }
        },
        "393e7457e81e407790959f04b3a0aa94": {
          "model_module": "@jupyter-widgets/controls",
          "model_name": "HTMLModel",
          "model_module_version": "1.5.0",
          "state": {
            "_dom_classes": [],
            "_model_module": "@jupyter-widgets/controls",
            "_model_module_version": "1.5.0",
            "_model_name": "HTMLModel",
            "_view_count": null,
            "_view_module": "@jupyter-widgets/controls",
            "_view_module_version": "1.5.0",
            "_view_name": "HTMLView",
            "description": "",
            "description_tooltip": null,
            "layout": "IPY_MODEL_aa10d1eddaa04feeb0d35f87d5659d96",
            "placeholder": "​",
            "style": "IPY_MODEL_d849bd964c304e72943d753bb8ea2cdd",
            "value": "Downloading: 100%"
          }
        },
        "43735e6e1de4496cbcf89eb2e3c1772c": {
          "model_module": "@jupyter-widgets/controls",
          "model_name": "FloatProgressModel",
          "model_module_version": "1.5.0",
          "state": {
            "_dom_classes": [],
            "_model_module": "@jupyter-widgets/controls",
            "_model_module_version": "1.5.0",
            "_model_name": "FloatProgressModel",
            "_view_count": null,
            "_view_module": "@jupyter-widgets/controls",
            "_view_module_version": "1.5.0",
            "_view_name": "ProgressView",
            "bar_style": "success",
            "description": "",
            "description_tooltip": null,
            "layout": "IPY_MODEL_dd6cf92aaaee4495acb7da3be1918062",
            "max": 229,
            "min": 0,
            "orientation": "horizontal",
            "style": "IPY_MODEL_d4ba967773a140c08663ace85184a4b1",
            "value": 229
          }
        },
        "06263b984e48434b8be588b655cd90e8": {
          "model_module": "@jupyter-widgets/controls",
          "model_name": "HTMLModel",
          "model_module_version": "1.5.0",
          "state": {
            "_dom_classes": [],
            "_model_module": "@jupyter-widgets/controls",
            "_model_module_version": "1.5.0",
            "_model_name": "HTMLModel",
            "_view_count": null,
            "_view_module": "@jupyter-widgets/controls",
            "_view_module_version": "1.5.0",
            "_view_name": "HTMLView",
            "description": "",
            "description_tooltip": null,
            "layout": "IPY_MODEL_b267cbcada0a41119e05e15de28248b2",
            "placeholder": "​",
            "style": "IPY_MODEL_3d4ae6f2d8e14c39bddc19745b8782f7",
            "value": " 229/229 [00:00&lt;00:00, 3.01kB/s]"
          }
        },
        "79fa7181e6e54152b45e0263d8763900": {
          "model_module": "@jupyter-widgets/base",
          "model_name": "LayoutModel",
          "model_module_version": "1.2.0",
          "state": {
            "_model_module": "@jupyter-widgets/base",
            "_model_module_version": "1.2.0",
            "_model_name": "LayoutModel",
            "_view_count": null,
            "_view_module": "@jupyter-widgets/base",
            "_view_module_version": "1.2.0",
            "_view_name": "LayoutView",
            "align_content": null,
            "align_items": null,
            "align_self": null,
            "border": null,
            "bottom": null,
            "display": null,
            "flex": null,
            "flex_flow": null,
            "grid_area": null,
            "grid_auto_columns": null,
            "grid_auto_flow": null,
            "grid_auto_rows": null,
            "grid_column": null,
            "grid_gap": null,
            "grid_row": null,
            "grid_template_areas": null,
            "grid_template_columns": null,
            "grid_template_rows": null,
            "height": null,
            "justify_content": null,
            "justify_items": null,
            "left": null,
            "margin": null,
            "max_height": null,
            "max_width": null,
            "min_height": null,
            "min_width": null,
            "object_fit": null,
            "object_position": null,
            "order": null,
            "overflow": null,
            "overflow_x": null,
            "overflow_y": null,
            "padding": null,
            "right": null,
            "top": null,
            "visibility": null,
            "width": null
          }
        },
        "aa10d1eddaa04feeb0d35f87d5659d96": {
          "model_module": "@jupyter-widgets/base",
          "model_name": "LayoutModel",
          "model_module_version": "1.2.0",
          "state": {
            "_model_module": "@jupyter-widgets/base",
            "_model_module_version": "1.2.0",
            "_model_name": "LayoutModel",
            "_view_count": null,
            "_view_module": "@jupyter-widgets/base",
            "_view_module_version": "1.2.0",
            "_view_name": "LayoutView",
            "align_content": null,
            "align_items": null,
            "align_self": null,
            "border": null,
            "bottom": null,
            "display": null,
            "flex": null,
            "flex_flow": null,
            "grid_area": null,
            "grid_auto_columns": null,
            "grid_auto_flow": null,
            "grid_auto_rows": null,
            "grid_column": null,
            "grid_gap": null,
            "grid_row": null,
            "grid_template_areas": null,
            "grid_template_columns": null,
            "grid_template_rows": null,
            "height": null,
            "justify_content": null,
            "justify_items": null,
            "left": null,
            "margin": null,
            "max_height": null,
            "max_width": null,
            "min_height": null,
            "min_width": null,
            "object_fit": null,
            "object_position": null,
            "order": null,
            "overflow": null,
            "overflow_x": null,
            "overflow_y": null,
            "padding": null,
            "right": null,
            "top": null,
            "visibility": null,
            "width": null
          }
        },
        "d849bd964c304e72943d753bb8ea2cdd": {
          "model_module": "@jupyter-widgets/controls",
          "model_name": "DescriptionStyleModel",
          "model_module_version": "1.5.0",
          "state": {
            "_model_module": "@jupyter-widgets/controls",
            "_model_module_version": "1.5.0",
            "_model_name": "DescriptionStyleModel",
            "_view_count": null,
            "_view_module": "@jupyter-widgets/base",
            "_view_module_version": "1.2.0",
            "_view_name": "StyleView",
            "description_width": ""
          }
        },
        "dd6cf92aaaee4495acb7da3be1918062": {
          "model_module": "@jupyter-widgets/base",
          "model_name": "LayoutModel",
          "model_module_version": "1.2.0",
          "state": {
            "_model_module": "@jupyter-widgets/base",
            "_model_module_version": "1.2.0",
            "_model_name": "LayoutModel",
            "_view_count": null,
            "_view_module": "@jupyter-widgets/base",
            "_view_module_version": "1.2.0",
            "_view_name": "LayoutView",
            "align_content": null,
            "align_items": null,
            "align_self": null,
            "border": null,
            "bottom": null,
            "display": null,
            "flex": null,
            "flex_flow": null,
            "grid_area": null,
            "grid_auto_columns": null,
            "grid_auto_flow": null,
            "grid_auto_rows": null,
            "grid_column": null,
            "grid_gap": null,
            "grid_row": null,
            "grid_template_areas": null,
            "grid_template_columns": null,
            "grid_template_rows": null,
            "height": null,
            "justify_content": null,
            "justify_items": null,
            "left": null,
            "margin": null,
            "max_height": null,
            "max_width": null,
            "min_height": null,
            "min_width": null,
            "object_fit": null,
            "object_position": null,
            "order": null,
            "overflow": null,
            "overflow_x": null,
            "overflow_y": null,
            "padding": null,
            "right": null,
            "top": null,
            "visibility": null,
            "width": null
          }
        },
        "d4ba967773a140c08663ace85184a4b1": {
          "model_module": "@jupyter-widgets/controls",
          "model_name": "ProgressStyleModel",
          "model_module_version": "1.5.0",
          "state": {
            "_model_module": "@jupyter-widgets/controls",
            "_model_module_version": "1.5.0",
            "_model_name": "ProgressStyleModel",
            "_view_count": null,
            "_view_module": "@jupyter-widgets/base",
            "_view_module_version": "1.2.0",
            "_view_name": "StyleView",
            "bar_color": null,
            "description_width": ""
          }
        },
        "b267cbcada0a41119e05e15de28248b2": {
          "model_module": "@jupyter-widgets/base",
          "model_name": "LayoutModel",
          "model_module_version": "1.2.0",
          "state": {
            "_model_module": "@jupyter-widgets/base",
            "_model_module_version": "1.2.0",
            "_model_name": "LayoutModel",
            "_view_count": null,
            "_view_module": "@jupyter-widgets/base",
            "_view_module_version": "1.2.0",
            "_view_name": "LayoutView",
            "align_content": null,
            "align_items": null,
            "align_self": null,
            "border": null,
            "bottom": null,
            "display": null,
            "flex": null,
            "flex_flow": null,
            "grid_area": null,
            "grid_auto_columns": null,
            "grid_auto_flow": null,
            "grid_auto_rows": null,
            "grid_column": null,
            "grid_gap": null,
            "grid_row": null,
            "grid_template_areas": null,
            "grid_template_columns": null,
            "grid_template_rows": null,
            "height": null,
            "justify_content": null,
            "justify_items": null,
            "left": null,
            "margin": null,
            "max_height": null,
            "max_width": null,
            "min_height": null,
            "min_width": null,
            "object_fit": null,
            "object_position": null,
            "order": null,
            "overflow": null,
            "overflow_x": null,
            "overflow_y": null,
            "padding": null,
            "right": null,
            "top": null,
            "visibility": null,
            "width": null
          }
        },
        "3d4ae6f2d8e14c39bddc19745b8782f7": {
          "model_module": "@jupyter-widgets/controls",
          "model_name": "DescriptionStyleModel",
          "model_module_version": "1.5.0",
          "state": {
            "_model_module": "@jupyter-widgets/controls",
            "_model_module_version": "1.5.0",
            "_model_name": "DescriptionStyleModel",
            "_view_count": null,
            "_view_module": "@jupyter-widgets/base",
            "_view_module_version": "1.2.0",
            "_view_name": "StyleView",
            "description_width": ""
          }
        }
      }
    }
  },
  "cells": [
    {
      "cell_type": "code",
      "execution_count": 1,
      "metadata": {
        "id": "koMgiP5IMk25",
        "colab": {
          "base_uri": "https://localhost:8080/"
        },
        "outputId": "dab35799-ddfd-4095-e892-4256c19dc0b8"
      },
      "outputs": [
        {
          "output_type": "stream",
          "name": "stdout",
          "text": [
            "Mounted at /content/drive\n"
          ]
        }
      ],
      "source": [
        "from google.colab import drive\n",
        "drive.mount('/content/drive') #путь до файла внутри гугл-диска"
      ]
    },
    {
      "cell_type": "code",
      "source": [
        "# тексты (лежат на гугл-диске),\n",
        "# ссылка https://drive.google.com/drive/folders/1TV_dtqYiTcIrPZkGEV6OfVgDwLnYwIoC?usp=sharing\n",
        "# источник текстов - КиберЛенинка (ссылки: \n",
        "# 1) https://cyberleninka.ru/article/n/lichnostnye-osobennosti-studentok-s-razlichnoy-strukturoy-samootnosheniya,\n",
        "# 2) https://cyberleninka.ru/article/n/skrytaya-reklama-product-placement-v-sovremennoy-hudozhestvennoy-massovoy-literature-avtorskaya-strategiya-ili-redaktorskaya-pravka,\n",
        "# 3) https://cyberleninka.ru/article/n/detskaya-pornografiya-v-seti-internet-sostoyanie-problemy-i-mirovye-tendentsii-protivodeystviya-ey (аннотация),\n",
        "# 4) https://cyberleninka.ru/article/n/yuridicheskaya-klinika-vozmozhnost-polucheniya-pravovoy-podderzhki)"
      ],
      "metadata": {
        "id": "kcd4-uP-LnPG"
      },
      "execution_count": null,
      "outputs": []
    },
    {
      "cell_type": "code",
      "source": [
        "with open('/content/drive/MyDrive/texts_nlp/text1.txt', 'r', encoding = 'utf-8') as f:\n",
        "    text1 = f.read()\n",
        "text1"
      ],
      "metadata": {
        "colab": {
          "base_uri": "https://localhost:8080/",
          "height": 139
        },
        "id": "cUT1c5eGLKAt",
        "outputId": "bf0f121a-c87d-4bd6-8d74-179dd5a1b510"
      },
      "execution_count": 2,
      "outputs": [
        {
          "output_type": "execute_result",
          "data": {
            "text/plain": [
              "'Одним из важнейших отношений социального и психологического бытия человека является его отношение к самому себе, к собственной личности. Поведение человека всегда, так или иначе, соотносится с его представлениями о самом себе и о том каким он должен быть. Характер регуляторного влияния самоотношения определяется широтой и глубиной его включенности в процесс внутриличностной детерминации. Отношение личности к себе оказывает влияние на проявление социальной активности личности, обусловливает ее адекватность и дифференцированность. Оно выступает мотивом саморегуляции поведения и актуализируется на всех этапах осуществления поведенческого акта, начиная с его мотивирующих компонентов и заканчивая собственной оценкой достигнутого эффекта поведения, участвует в механизмах регуляции поведения от уровня конкретной ситуации деятельности до уровня длительной реализации идейных замыслов. В контексте данной статьи самоотношение рассматривается как некое обобщенное отношение, которое является целостным, одномерным и универсальным образованием, выражающим степень положительного отношения индивида к собственному представлению о себе. Самоотношение развивается в результате социального влияния и взаимодействия, где каждая конкретная социальная ситуация развития задает иерархию ведущих деятельностей и соответствующих им основных мотивов и ценностей, социальных представлений, стереотипов и эталонов, норм поведения, по отношению к которым индивид осмысливает собственное Я, наделяет его личностным смыслом. Самоотношение имеет макроструктуру с четырьмя эмоциональными компонентами: самоуважение, самоинтерес, аутосимпатию и ожидаемое отношение от других людей и две подсистемы, каждая из которой специфически связана со смыслом «Я»: систему самооценок и систему эмоционально-ценностных отношений. Система самооценок выполняет функцию сравнения с другими («Я в сравнении с другими»), а эмоциональноценностная система сигнализирует о субъективной значимости этих самооценок («Я-Я») [1, 6]. Такая макроструктура самоотношения предполагает, что четыре эмоциональных компонента самоотношения (самоуважение, аутосимпатия, самоинтерес, ожидаемое отношение от других людей) располагаются в определенной иерархии, где один из компонентов будет доминирующим, а другие подчиненные, и в своей совокупности, обеспечивающие обобщенное чувство «за» или «против» самого себя. Однако в научной литературе нет эмпирических данных, которые бы указывали на то, как характеризуется личность, имеющая определенную иерархию эмоциональных компонентов макроструктуры самоотношения. Это и определяет научную новизну нашего исследования. Гипотеза исследования: ведущий эмоциональный компонент структуры самоотношения личности предполагает определенный набор личностных характеристик. Цель исследования: изучить особенности личности с разной иерархией эмоциональных компонентов структуры самоотношения. Методика исследования В исследовании приняло участие 157 студенток 1-2 курсов. Методики исследования: опросник самоотношения В.В.Столина (для выявления структуры самоотношения) [2, 3]; Морфологический тест жизненных ценностей (МТЖЦ) Сопова В. Ф., Карпушина Л. В. (применялся с целью выявления выраженности и соотношения ведущих жизненных ценностей и жизненных сфер) [4]; Шестнадцати факторный личностный опросник Р. Кэттелла (применялся для измерения личностных особенностей); авторская методика исследования самоотношения к Образу Физического Я (МИСОФ) [5]. По результатам психодиагностического исследования испытуемые были разделены на четыре группы по степени доминирования эмоционального компонента самоотношения: группа 1 (ведущий компонент – самоуважение – 17 чел.), группа 2 (аутосимпатия – 21 чел.), группа 3 (самоинтерес – 25 чел.), группа 4 (ожидаемое отношение от других (ООД – 94 чел.). Четвертая группа оказалась самой многочисленной. Можно заключить, что большинство наших испытуемых зависимы от оценок окружающих людей и такое ожидаемое отношение оказывает существенное влияние на общее чувство «за» или «против» самого себя. С целью выявления различий в личностных особенностях участников каждой группы был проведен сравнительный анализ по критерию МаннаУитни. Результаты исследования Нами были выявлены достоверные различия в личностных особенностях между всеми исследуемыми группами. Для того чтобы узнать как различаются в группах выявленные различия, были сопоставлены средние значения обнаруженных параметров. Таблица 1 иллюстрирует, что группы 1 и 2 отличаются по обобщенному чувству «за» или «против» самого себя (глобальное самоотношение), самоуважению, аутосимпатии, и фактору F1 (по Кэттеллу). По другим исследуемым параметрам (самоотношение к Образу Физического Я, жизненные сферы и жизненные ценности) достоверных различий не обнаружено. Соотношение средних значений в таблицы 2 показывает, что члены группы 1 всегда испытывают общее положительное чувство «за» самого себя, уверены в своих силах и способностях, часто видят в себе достоинства, но и замечают и недостатки, могут добиться того что им кажется важным, приспособлены и часто удовлетворены тем что есть. Группа 2 часто испытывает общее положительное чувство «за» самого себя, не всегда уверена в своих способностях и возможностях, замечает и акцентирует внимание на своих достоинствах, тревожна и недовольна тем, что имеет. Согласно таблицы 3 выявлены различия в группах 1 и 3 по эмоциональным компонентам самоотношения: самоуважение и самоинтерес, а также по самооценке анатомических характеристик Образа Физического Я (привлекательность ног и рук в сравнении с другими), фактор «С» по Кэттеллу. По жизненным ценностям и жизненным сферам различий нет. Таблица 4 демонстрирует, что «группа 1» уверена в своих силах и способностях, часто проявляет интерес к себе, имеет высокую самооценку анатомических характеристик Образа Физического Я, достаточно эмоционально зрелая, стабильная. Группа 3 всегда проявляет уверенность в себе и в своей интересности для других людей. Имеет достаточно высокую самооценку (но ниже чем у 1 группы) анатомических характеристик Образа Физического Я. Эмоционально нестабильна, обладает низким уровнем толерантности в стрессовых ситуациях. Группы с ведущими компонентами самоотношения Ожидаемое отношение от других и самоуважение значимо отличаются друг от друга по целому ряду признаков (таблица 5): эмоциональные компоненты самоотношения – самоуважение и ожидаемое отношение от других людей, самооценка анатомических характеристик Образа Физического Я (привлекательность фигуры, ног, рук в сравнении с другими), факторы С, Н, Q4, F1. По жизненным ценностям и жизненным сферам различий нет. По сравнению с группой 4 (ООД) из таблицы 6 видно, что группа 1 (самоуважение) проявляет веру в свои силы, способности, ожидает от окружающих положительного отношения к себе, но их мнение частично влияет на отношение к себе. Группа 1 имеет высокие показатели самооценки анатомических характеристик Образа физического Я выше, чем у группы 4. Группа 1 достаточно эмоционально зрелая, стабильная, социально-смелая, уравновешенная, удовлетворенная тем, что имеет. Группа 4 ожидает положительного отношения от других людей и зависима от их мнения, чаще всего уверена в своих силах и возможностях, высоко оценивает анатомические характеристики Образа Физического Я, капризна, раздражительна, эмоционально нестабильна, застенчива, неуверенна, склонна к беспокойству и нетерпеливости, тревожна. Из таблицы 7 понятно, что группа 2 (аутосимпатия) и группа 3 (самоинтерес) отличаются по эмоциональным компонентам самоотношения: аутосимпатия и самоинтерес, самооценкой анатомических (привлекательность лица в сравнении с другими) и функциональными характеристиками Образа Физического Я, а также личностной значимостью привлекательности анатомических (ноги) и социальных (одежда) характеристик Образа Физического Я. По жизненным ценностям и сферам, а также по Кэттеллу значимых различий нет. Соотношение средних значений в таблице 8 показывает, что группа 2 замечает и акцентирует внимание на своих достоинствах, но не всегда чувствует интерес к собственным мыслям и чувствам, имеет высокую самооценку анатомических и достаточно высокую самооценку функциональных характеристик Образа Физического Я, придает большое значение и важность уверенности в собственной привлекательности анатомических и социальных характеристик Образа Физического Я. Группа 3 всегда проявляет уверенность в себе и в своей интересности для других людей, замечает в себе как достоинства, так и недостатки. Достаточно высоко оценивает анатомические и средне функциональные характеристики Образа Физического Я. Часто придает большое значение важности привлекательности анатомических и социальных характеристик Образа Физического Я. Таблица 9 указывает, что группа 4 и группа 3 отличаются по эмоциональным компонентам самоотношения: аутосимпатии, самоинтересу, ожидаемому отношению от других людей, а также самооценки функциональных характеристик Образа Физического Я (быть гибким и ловким не хуже чем другие). Значимых различий по жизненным ценностям, жизненным сферам и по Кэттеллу нет. '"
            ],
            "application/vnd.google.colaboratory.intrinsic+json": {
              "type": "string"
            }
          },
          "metadata": {},
          "execution_count": 2
        }
      ]
    },
    {
      "cell_type": "code",
      "source": [
        "with open('/content/drive/MyDrive/texts_nlp/text2.txt', 'r', encoding = 'utf-8') as f:\n",
        "    text2 = f.read()\n",
        "text2"
      ],
      "metadata": {
        "colab": {
          "base_uri": "https://localhost:8080/",
          "height": 139
        },
        "id": "0eQYyWXCLOJg",
        "outputId": "7d745036-dc4e-4d93-e9eb-7557d4c63e11"
      },
      "execution_count": 3,
      "outputs": [
        {
          "output_type": "execute_result",
          "data": {
            "text/plain": [
              "\"Скрытая реклама  в современной художественной массовой литературе: авторская стратегия или редакторская правка Аннотация: Автор статьи рассматривает особенности современной массовой художественной литературы в контексте развития скрытой рекламы в современной литературе, приводя конкретные примеры из произведений писателей. Рассматривается современное понимание концепции авторской стратегии; выделяются ее текстовые и экстра-текстовые аспекты. Уделяется особое внимание размещению скрытая реклама в детских обучающих книгах. Нельзя отрицать интерес общества к массовой литературе, издаваемой миллионными тиражами. Литература, а вернее ее развитие, коррелирует с развитием общества; развитие современной массовой литературы диктуется рыночной конъюнктурой. Происходит отбор наиболее «ходового» литературного товара и начинается серийное «изготовление» литературной продукции по наиболее популярным образцам. Автор массовой литературы, если он хочет быть писателем, востребованным рынком, практически «обречен» на серийность. Такая литература популярна, имеет коммерческий спрос; распространяется в широких слоях общества и, безусловно, оказывает существенное воздействие на мироощущение читателей. Очевидна коммерциализация писательской деятельности, вовлечение ее в рыночные отношения. Книга в России перестает быть только источником знаний, предметом эстетического удовольствия, эмоциональных переживаний, но становится средством продвижения товаров и услуг. Это взаимообусловленный процесс, ставший неизбежным вследствие существования массовой читательской аудитории, ее потребностей, спроса с одной стороны и необходимостью писателя быть профессионалом, зарабатывающим на жизнь этим видом деятельности. Скрытая реклама или в терминологии профессиональных рекламистов скрытая реклама (с английского языка дословно переводится как размещение товара) в художественной литературе в нашей стране появилась не так давно. скрытая реклама – маркетинговая стратегия, которая предполагает неакцентированное использование логотипа, слогана или продукта заказчика. Это технология размещения торговой марки, товара и/или услуги в кинофильме, телевизионной программе, книге, компьютерной игре, песне, и т.п. с целью получения рекламной выгоды. В практике мировой художественной литературы скрытая реклама явление тоже относительно новое. С середины XX в. американские маркетологи начали продвигать бренды через книги. Пионером и чемпионом литературного скрытая реклама считается Стивен Кинг, гармонично вписывающий в контекст своих произведений многочисленные бренды различных товаров. Другой пример литературного скрытая реклама – роман Фейи Уэлдон «Ожерелье от Булгари» (Великобритания), где бренд Bulgari продвигается в самом названии произведения. Известно, что ювелирная компания сделала заказа на написание этого романа для того, чтобы его дарить своим элитным покупателям. Принято считать, что история российского литературного скрытая реклама началась в 2003 г. после выхода романа Дарьи Донцовой «Филе из золотого петушка», в котором продвигались полуфабрикаты фирмы «Золотой петушок». В данном произведении бренд «Золотой петушок» продвигался как в названии произведения, так и в сюжете. Затем этот бренд появлялся и в других романах Дарьи Донцовой (серии «Даша Васильева» и «Евлампия Романова»). В России книжный или литературный скрытая реклама развивается достаточно быстрыми темпами и считается одним из перспективных рекламных направлений. Это связано с тем, что данная технология дает возможность контакта с потребителем «один на один»: читая книгу, человек создает в своем сознании свой личный «рекламный ролик» продукта – доступный для его понимания и не раздражающий его. Стоимость размещения скрытая реклама в художественной литературе в России варьируется от нескольких тысяч долларов до нескольких десятков тысяч долларов в зависимости от той опции размещения, которую выберет заказчик. Формы размещения такой скрытой рекламы в литературном художественном произведении можно выделить следующие: – упоминание продукта – использование информации третьих лиц при построении литературного отрывка; – сюжет на основе продукта – построение литературного отрывка на основе информации третьих лиц; – изображение продукта на обложке – использование изображения продукта при оформлении обложки литературного произведения; – изображение логотипа на обложке – использование логотипа продукта при оформлении обложки литературного произведения; – использование продукта в названии книги – использование наименования продукта/услуги в названии литературного произведения; – сериал – разнесенные по нескольким литературным произведениям одного автора сюжеты о продукте/услуге, имеющие свою уникальную эмоциональную окраску; – персонаж – введение дополнительного персонажа, который четко ассоциируется с продуктом; – аннотация – введение продукта в описательную часть книги; – размещение – вторая обложка; – иллюстрация – размещение изображения темы в контексте сюжета на странице произведения. Мнение многих исследователей современной массовой литературы и маркетологов сходится в том, что в настоящее время самые востребованные читателем жанры – это детективы и женские романы. Основным кругом читателей этих книг являются женщины в возрасте от 20 до 45 лет, эта же целевая аудитория является самой активной покупательской группой. Поэтому маркетологи и убеждены, что, размещая скрытая реклама в детективах и женских романах, компании-производители получают большие шансы продать свой товар молодым российским домохозяйкам с детьми [1, c. 115]. Посредством литературного скрытая реклама продвигается очень широкий спектр различных товаров, основная часть которых приходится на товары массового спроса и потребления, продукты питания, алкоголь, лекарства. Можно привести в качестве примера роман Александры Марининой «Пружина для мышеловки». В этом произведении главный герой Игорь Дорошин питается только макаронами определенной марки, этому посвящена почти страница текста. Этот же бренд (марка) макарон встречается в романе Татьяны Устиновой «Саквояж со светлым будущим», тоже как любимая еда главной героини. И те же макароны «М.» упоминались в аналогичном контексте (безвредность для женской фигуры) в романе Дарьи Донцовой «Ромео с большой дороги» и романе Татьяны Поляковой «Леди Феникс» и в некоторых других произведениях массовой литературы. Возникает резонный вопрос: в подобных случаях является ли такая прагматичнорекламная информация, размещенная в литературном тексте, авторской позицией, стратегией, возникшими в процессе творчества, или же автор осознанно, возможно, с помощью редакторов поместил в текст эту информацию. Процесс творчества трудно соотнести с какими-то терминами и нормативами. Но такое понятие, как «авторская стратегия» может дать представление, с одной стороны, о прагматических целях и задачах и, с другой стороны, о творческих устремлениях писателя. Такой подход к пониманию авторской стратегии отражает современный процесс коммерциализации литературы. В рассматриваемом контексте под авторской стратегией понимается писательское поведение, направленное на достижение успеха, которое проявляется в самом произведении. Причем при интерпретации стратегии писателя можно выделить два составляющих аспекта: текстовый и экстра-текстовый. При изучении текстового пространства стратегии произведения рассматривается с точки зрения его воздействия на читателя: жанр, герой, субъектная организация текста, повествовательные формулы и типы повествования, сюжет, композиция и т.п. При изучении экстра-текстовой составляющей авторской стратегии писателя рассматривается способ «продвижения» произведения на книжный рынок, выбор издательства, пиаракции, выступления автора в средствах массовой информации, референтные группы, участие в книжных ярмарках и выставках, презентации книги, оформление издания, победа в литературных конкурсах, литературный успех и т.д. Безусловно, автор художественного произведения не должен быть и творцом и коммерсантом одновременно: финансовые вопросы решает издательство. Но как найти и не преступить эту тонкую грань – вопрос к размышлению. Другой актуальный вопрос заключается в том, какие должны быть правила/границы для рекламодателей, чтобы книги не превращались в рекламные брошюры и у читателя оставалась возможность насладиться литературой. Литература все еще воспринимается как интеллектуальный продукт, в котором рекламы не может быть по определению. Пока что маркетологи сами установили определенные правила размещения скрытой рекламы в художественно литературе, например, в одном произведении нежелательно продвигать больше четырех брендов товаров или услуг. Другое направление литературного скрытая реклама, которое вызывает очень серьезные опасения и, безусловно, скорейшего законодательного и общественного регулирования, – это размещение брендов товаров в детских обучающих книгах. В американской маркетинговой практике эта разновидность литературного скрытая реклама является одной из самых распространенных. Примеры интеграции брендов в детские обучающие книги: «The Oreo Cookie Counting Book» («Учись считать с печеньем Oreo), «The M&M's brand Counting Book» (Учись считать с M&M's) [2, c. 171]. В этих случаях бренд не просто размещается в названии книги, но и полностью интегрируется в контент литературного произведения: детям предлагается считать, умножать, не просто цифры, а печенье, конфетки и т. п., причем совершенно конкретных торговых марок. Чем младше ребенок, тем более восприимчив он к психологическому воздействию особенно через детские обучающие книги. Те знания, которые ребенок получает из самых первых книг, остаются в памяти на всю жизнь: так бренд определенной марки может стать составной частью основных человеческих знаний. С этической точки зрения этот вид литературного скрытая реклама можно назвать аморальным проникновением в человеческую психику. В общем, массовая литература пока еще не подвергается массированной рекламной атаке. Однако появившаяся и стремительно развивающаяся тенденция размещения скрытой рекламы в современной массовой литературе, скорее всего, будет активно развиваться. В 2006 г. исследовательский холдинг ROMIR Monitoring провел исследование по изучению отношения к скрытая реклама в литературных произведениях. На вопрос об отношении к автору, который использовал скрытую рекламу в своей книге, 75 % респондентов ответили, что их отношение не изменится. 23 % опрошенных сказали, что станет относиться к автору хуже. 2 % участников опроса ответили, что будут лучше относиться к писателю, который разместил в тексте книги описание какого-либо бренда [3]. Такую своеобразную «поддержку» авторов, использующих в своих произведениях скрытую рекламу, можно объяснить тем, что понятие массовой литературы – это явление общественное: массовая литература всегда, с одной стороны, адаптируется к постоянно изменяющимся социокультурным условиям, к социальным трансформациям и различным новациям, а с другой стороны, отражает все те ценностные, культурные изменения, которые происходят в обществе. Таким образом, появление скрытой рекламы в современной художественной литературе в некотором роде естественное явление, так как массовую литературу можно определить как литературную индустрию, специализирующуюся на серийном выпуске стандартизированной литературной. Другой вопрос заключается в том, как современные писатели реализовывают свою авторскую стратегию, не снижая художественной ценность своих произведений и оставаясь на рынке современной художественной массовой литературы. \""
            ],
            "application/vnd.google.colaboratory.intrinsic+json": {
              "type": "string"
            }
          },
          "metadata": {},
          "execution_count": 3
        }
      ]
    },
    {
      "cell_type": "code",
      "source": [
        "with open('/content/drive/MyDrive/texts_nlp/text3.txt', 'r', encoding = 'utf-8') as f:\n",
        "    text3 = f.read()\n",
        "text3"
      ],
      "metadata": {
        "colab": {
          "base_uri": "https://localhost:8080/",
          "height": 139
        },
        "id": "N_Xd8t17LO9I",
        "outputId": "1847a4ec-3307-4ef2-8420-2a529733bb5d"
      },
      "execution_count": 4,
      "outputs": [
        {
          "output_type": "execute_result",
          "data": {
            "text/plain": [
              "'В статье предложен к рассмотрению вопрос о распространении детской порнографии в сети Интернет. Авторами проанализировано состояние этого явления в современном мире. Констатирована масштабность таких преступлений по количеству и их универсальность по территориальному признаку. В то же время установлено, что на сегодняшний день криминология не располагает специальными научными методиками отслеживания киберпреступности в целом и детской порнографии в сети Интернет в частности. Отмечено отставание науки от стремительного развития информационно-телекоммуникационных технологий и неразвитость именно такого рода криминологических научных разработок. Применяя компаративистский метод научного исследования, авторы показали состояние национальных законодательств в части криминализации такого деяния, как распространение детской порнографии с помощью сети Интернет. Установлено, что перед национальными законодательствами стоят различные задачи по противодействию распространению детской порнографии в сети Интернет - от криминализации этого явления до совершенствования технических средств противодействия ему. Сделано предположение, что такое расхождение в задачах связано с социально-экономическим и технологическим уровнем развития того или иного государства. Использование метода системного анализа позволило выделить основные тенденции в противодействии рассматриваемому явлению. Одна из них - отказ в нормативных документах от понятия «детская порнография» в пользу термина «сексуальное насилие над детьми». Насилие - это конструктивный признак детской порнографии. Авторами обоснована резонность такого отказа. Описаны методы противодействия распространению детской порнографии в сети Интернет, применяемые в различных странах. Предложена их условная классификация на нормативные, организационные и технические. Отмечено, что немаловажную роль в противодействии распространению детской порнографии в сети Интернет играют неправительственные международные организации. Определены актуальные перспективы международного сотрудничества в борьбе с сексуальной эксплуатацией детей, основной из которых выступает активизация взаимодействия между государствами, в том числе под эгидой международных организаций.'"
            ],
            "application/vnd.google.colaboratory.intrinsic+json": {
              "type": "string"
            }
          },
          "metadata": {},
          "execution_count": 4
        }
      ]
    },
    {
      "cell_type": "code",
      "source": [
        "with open('/content/drive/MyDrive/texts_nlp/text4.txt', 'r', encoding = 'utf-8') as f:\n",
        "    text4 = f.read()\n",
        "text4"
      ],
      "metadata": {
        "colab": {
          "base_uri": "https://localhost:8080/",
          "height": 139
        },
        "id": "3W-C4ANoLP2_",
        "outputId": "9e5b5219-26a6-473e-b3c6-152a69ae9636"
      },
      "execution_count": 5,
      "outputs": [
        {
          "output_type": "execute_result",
          "data": {
            "text/plain": [
              "'Правовая культура  неотъемлемая часть образованности и профессионализма человека. В сегодняшней России, в условиях проведения социально-экономических реформ, становления новой системы законодательства, наделения субъектов Федерации правом законодательной инициативы, потребность общества в повышении информационно-правовой культуры резко возрастает. Право становится важнейшим регулятором деятельности государственных, коммерческих структур, отдельных граждан. Применение правовой информации в практической деятельности предполагает знание действующего законодательства. Между тем сейчас особенно остро ощущается нехватка правовых знаний. Библиотеки часто не в состоянии в полной мере обеспечить потребности в официальных правовых документах, в том числе и самых широких слоев населения. Сложившаяся в Российской Федерации к началу 90-х гг. ХХ в. система распространения официальных правовых документов была ориентирована в основном на информирование государственных органов, учреждений и организаций. Пропаганда этих документов среди граждан, получившая развитие в последнее время, осуществляется с помощью средств массовой информации, юридических консультаций, а также библиотек. Однако СМИ не обеспечивают необходимой полноты ознакомления с правовыми документами, а также возможности избирательного получения информации по конкретному вопросу. Услуги же юридической консультации из-за высокой стоимости доступны не всем гражданам. Все это вызвало необходимость разработки концепции распространения официальных текстов правовых актов через систему библиотек. Основными целями создания такой системы являются: реализация конституционного права граждан на информацию, формирование условий для качественного и оперативного обеспечения правовой информацией заинтересованных физических и юридических лиц, общественных объединений и организаций. Система призвана содействовать решению важнейших задач правовой реформы. Библиотеки зачастую становятся для человека последней и единственной инстанцией. Ежегодно к нам за ответом на свои вопросы обращаются до 400 человек, которых отправляют в самостоятельное ´плавание различные, в том числе государственные структуры: Пенсионный фонд, органы соцзащиты, суды, ЖЭК и т. д. Государственная публичная научно-техническая библиотека Сибирского отделения Российской академии наук (ГПНТБ СО РАН)  одна из крупнейших библиотек России и крупнейшая в азиатской части страны библиотека, имеющая уникальный по объему и составу фонд, который включает информационные ресурсы как на традиционных источниках, так и на электронных носителях. Необходимо заметить, что среди них имеются системы, которые представляют собой доступный и эффективный инструмент для ежедневной работы с правовой информацией. Эти ресурсы позволяют не только экономить время специалиста, но и принципиально перестраивать структуру потоков правовой информации в российском обществе. Тот объем правовых документов, которым ранее могли пользоваться лишь сотни экспертов, сегодня реально доступен сотням тысяч специалистов. Применение правовой информации в практической деятельности предполагает знание действующего законодательства. Нельзя не сказать о том, что возможности читателей получить необходимые документы и ответы на свои вопросы не ограничиваются только правовыми системами типа ´Консультант Плюс, ´Кодекс, ´Гарант и др., в их распоряжении находятся уникальные издания на традиционных носителях: ´Законы Российской империи, ´Декреты советской власти, ´Ведомости Верховного Советаª и пр. Вместе с тем не следует забывать, что работать со всеми этими ресурсами приходится не только подготовленным специалистам, но и обычному человеку, не владеющему специальными знаниями в области юриспруденции. Это приводит к тому, что поиск ответов на свои вопросы для него вызывает большие трудности, которые не всегда может помочь преодолеть и сотрудник библиотеки (в нашем случае, библиограф), так как он также не обладает специальными знаниями в области права. Поэтому совершенно логичной и своевременной нам представляется та форма доведения информации до потребителя, которую мы нашли: открытие в стенах нашей библиотеки, при поддержке юридического факультета Новосибирского государственного университета, ´юридической клиники. Взаимодействие библиотеки и вуза, во-первых, поможет более качественно удовлетворять возникающие информационные потребности наших читателей и оказывать помощь сотрудникам справочно-библиографического отдела в том в случае, если у них будут появляться трудности при выполнении запросов читателей по правовым вопросам. Во-вторых, даст возможность студентам повысить уровень своей информационной культуры, так как сотрудники отдела для них будут проводить консультации по методике библиографического поиска, знакомить с имеющейся ресурсной базой, которая содержит источники как в традиционной форме, так и на электронных носителях. ´Юридическая клиника функционирует в ГПНТБ СО РАН с апреля 2007 г. За это время (10 приемных дней) юридическая помощь оказана более чем 40 человекам. Работают в этой клинике студенты только старших и выпускных курсов юридического факультета Новосибирского государственного университета. Им эта работа засчитывается в качестве производственной или преддипломной практики. Знания, полученные студентами в стенах нашей библиотеки, позволят им успешно завершить процесс получения образования и чувствовать себя уверенно в будущей профессиональной деятельности. Такое взаимодействие очень полезно для всех участников данного проекта. '"
            ],
            "application/vnd.google.colaboratory.intrinsic+json": {
              "type": "string"
            }
          },
          "metadata": {},
          "execution_count": 5
        }
      ]
    },
    {
      "cell_type": "markdown",
      "source": [
        "Выделенными ключевыми словами в тексте 1 были: самоотношение, самоуважение, аутосимпатия, самоинтерес, ожидаемое отношение от других.\n",
        "В тексте 2: современная массовая художественная литература, скрытая реклама, авторская стратегия, коммерциализация литературы.\n",
        "В тексте 3: детская порнография, сексуальное насилие над детьми, преступление, интернет, защита, противодействие.\n",
        "В тексте 4: правовая поддержка, правовая культура, обеспечение правовой информацией. \n",
        "\n",
        "В основном это длинные словосочетания (кроме 1 и 3), отражающие смысл текста в целом, но далеко не всегда встречающиеся в нем именно в таком виде (или вообще не встречающиеся, например, \"правовая поддержка\"). Особенно это касается 2 и 4 текста. В 1 и 3 тексте выделенные ключевые слова как минимум встречаются. \n",
        "\n",
        "Я скорректировала эти списки, убрав и добавив некоторые слова на свое усмотрение, после самостоятельной разметки корпуса. Таким образом получился эталон."
      ],
      "metadata": {
        "id": "YRbMsLu7OVCl"
      }
    },
    {
      "cell_type": "code",
      "source": [
        "# ключевые слова (эталон) по текстам"
      ],
      "metadata": {
        "id": "5zhkuaGfOLpK"
      },
      "execution_count": null,
      "outputs": []
    },
    {
      "cell_type": "code",
      "source": [
        "key_words1 = ['самоотношение', 'самоуважение', 'аутосимпатия', 'самоинтерес', 'ожидаемый отношение другой', 'отношение', 'самооценка', 'ожидаемый отношение']\n",
        "key_words2 = ['скрытый реклама', 'реклама', 'литературный', 'массовый литература', 'художественный литература', 'литература', 'современный художественный массовый литература', 'авторский стратегия', 'авторский', 'коммерциализация литература']\n",
        "key_words3 = ['детский порнография', 'распространение детский порнография', 'сексуальный насилие дети', 'сексуальный насилие', 'преступление', 'интернет', 'защита', 'противодействие']\n",
        "key_words4 = ['правовой', 'право', 'законодательный', 'правовой информация', 'правовой культура', 'законодательство', 'юридический']"
      ],
      "metadata": {
        "id": "QgfYjKf-OTN7"
      },
      "execution_count": 157,
      "outputs": []
    },
    {
      "cell_type": "code",
      "source": [
        "# ключевые слова (только монограммы)"
      ],
      "metadata": {
        "id": "uPVWP4Pfa_GN"
      },
      "execution_count": null,
      "outputs": []
    },
    {
      "cell_type": "code",
      "source": [
        "key_words1_mono = ['самоотношение', 'самоуважение', 'аутосимпатия', 'самоинтерес', 'отношение', 'самооценка']\n",
        "key_words2_mono = ['реклама', 'литературный', 'литература', 'авторский']\n",
        "key_words3_mono = ['сексуальный', 'насилие', 'преступление', 'интернет', 'защита', 'противодействие']\n",
        "key_words4_mono = ['правовой', 'право', 'законодательный', 'законодательство', 'юридический']"
      ],
      "metadata": {
        "id": "3XO2Bb8Ha9cS"
      },
      "execution_count": 130,
      "outputs": []
    },
    {
      "cell_type": "code",
      "source": [
        "# далее списки ключевых слов, извлеченных тремя методами и посчитанные для них метрики"
      ],
      "metadata": {
        "id": "FtjJ_XkQWVoB"
      },
      "execution_count": null,
      "outputs": []
    },
    {
      "cell_type": "code",
      "source": [
        "def error_matr_counts(k_words, dic):\n",
        "\n",
        "    true_pos = 0\n",
        "    for word in k_words:\n",
        "        if word in dic:\n",
        "            true_pos += 1\n",
        "\n",
        "    false_pos = len(dic) - true_pos\n",
        "\n",
        "    false_neg = len(k_words) - true_pos\n",
        "\n",
        "    return true_pos, false_pos, false_neg"
      ],
      "metadata": {
        "id": "BRKMd2pkciAr"
      },
      "execution_count": 131,
      "outputs": []
    },
    {
      "cell_type": "code",
      "source": [
        "# КЛЮЧEВЫЕ СЛОВА С ИСПОЛЬЗОВАНИЕМ RAKE"
      ],
      "metadata": {
        "id": "vnlK7hwdWJJL"
      },
      "execution_count": null,
      "outputs": []
    },
    {
      "cell_type": "code",
      "source": [
        "!pip3 install python-rake"
      ],
      "metadata": {
        "colab": {
          "base_uri": "https://localhost:8080/"
        },
        "id": "pdX7bGjZ271x",
        "outputId": "01313ede-a3c1-433e-d63b-d8f4576b3ebd"
      },
      "execution_count": 7,
      "outputs": [
        {
          "output_type": "stream",
          "name": "stdout",
          "text": [
            "Looking in indexes: https://pypi.org/simple, https://us-python.pkg.dev/colab-wheels/public/simple/\n",
            "Collecting python-rake\n",
            "  Downloading python_rake-1.5.0-py3-none-any.whl (14 kB)\n",
            "Installing collected packages: python-rake\n",
            "Successfully installed python-rake-1.5.0\n"
          ]
        }
      ]
    },
    {
      "cell_type": "code",
      "source": [
        "# импорты\n",
        "import RAKE\n",
        "import nltk\n",
        "nltk.download('stopwords')\n",
        "from nltk.corpus import stopwords"
      ],
      "metadata": {
        "colab": {
          "base_uri": "https://localhost:8080/"
        },
        "id": "aJ61t-e53Q4a",
        "outputId": "7413566e-afd2-40b6-eb02-f61d8ff6ff0a"
      },
      "execution_count": 8,
      "outputs": [
        {
          "output_type": "stream",
          "name": "stderr",
          "text": [
            "[nltk_data] Downloading package stopwords to /root/nltk_data...\n",
            "[nltk_data]   Unzipping corpora/stopwords.zip.\n"
          ]
        }
      ]
    },
    {
      "cell_type": "code",
      "source": [
        "stop = stopwords.words('russian')"
      ],
      "metadata": {
        "id": "J_UAUjaG3U99"
      },
      "execution_count": 9,
      "outputs": []
    },
    {
      "cell_type": "code",
      "source": [
        "# Инициализируем анализатор списком стоп-слов\n",
        "rake = RAKE.Rake(stop)"
      ],
      "metadata": {
        "id": "_vGJak6139Cf"
      },
      "execution_count": 10,
      "outputs": []
    },
    {
      "cell_type": "code",
      "source": [
        "! pip install pymorphy2"
      ],
      "metadata": {
        "colab": {
          "base_uri": "https://localhost:8080/"
        },
        "id": "stDy5e-V4mj1",
        "outputId": "e334f790-b7bc-4dbe-ecd7-3bd863799a95"
      },
      "execution_count": 12,
      "outputs": [
        {
          "output_type": "stream",
          "name": "stdout",
          "text": [
            "Looking in indexes: https://pypi.org/simple, https://us-python.pkg.dev/colab-wheels/public/simple/\n",
            "Collecting pymorphy2\n",
            "  Downloading pymorphy2-0.9.1-py3-none-any.whl (55 kB)\n",
            "\u001b[K     |████████████████████████████████| 55 kB 2.2 MB/s \n",
            "\u001b[?25hCollecting dawg-python>=0.7.1\n",
            "  Downloading DAWG_Python-0.7.2-py2.py3-none-any.whl (11 kB)\n",
            "Collecting pymorphy2-dicts-ru<3.0,>=2.4\n",
            "  Downloading pymorphy2_dicts_ru-2.4.417127.4579844-py2.py3-none-any.whl (8.2 MB)\n",
            "\u001b[K     |████████████████████████████████| 8.2 MB 19.0 MB/s \n",
            "\u001b[?25hCollecting docopt>=0.6\n",
            "  Downloading docopt-0.6.2.tar.gz (25 kB)\n",
            "Building wheels for collected packages: docopt\n",
            "  Building wheel for docopt (setup.py) ... \u001b[?25l\u001b[?25hdone\n",
            "  Created wheel for docopt: filename=docopt-0.6.2-py2.py3-none-any.whl size=13723 sha256=5bdd36386a5f60c1210e2241954a00246eb1b498104c351f0ddf0a2ed01a6cfd\n",
            "  Stored in directory: /root/.cache/pip/wheels/72/b0/3f/1d95f96ff986c7dfffe46ce2be4062f38ebd04b506c77c81b9\n",
            "Successfully built docopt\n",
            "Installing collected packages: pymorphy2-dicts-ru, docopt, dawg-python, pymorphy2\n",
            "Successfully installed dawg-python-0.7.2 docopt-0.6.2 pymorphy2-0.9.1 pymorphy2-dicts-ru-2.4.417127.4579844\n"
          ]
        }
      ]
    },
    {
      "cell_type": "code",
      "source": [
        "from pymorphy2 import MorphAnalyzer\n",
        "from pymorphy2.tokenizers import simple_word_tokenize"
      ],
      "metadata": {
        "id": "zEn2ecYS4lU7"
      },
      "execution_count": 13,
      "outputs": []
    },
    {
      "cell_type": "code",
      "source": [
        "# нормализация\n",
        "\n",
        "m = MorphAnalyzer()\n",
        "def normalize_text(text):\n",
        "    lemmas = []\n",
        "    for t in simple_word_tokenize(text):\n",
        "        lemmas.append(\n",
        "            m.parse(t)[0].normal_form\n",
        "        )\n",
        "    return ' '.join(lemmas)"
      ],
      "metadata": {
        "id": "ig05nkDT4tBw"
      },
      "execution_count": 14,
      "outputs": []
    },
    {
      "cell_type": "code",
      "source": [
        "# текст 1 (минимальную частоту оставлю 2, т. к. некоторые ключевые слова из эталона не самые частотные)"
      ],
      "metadata": {
        "id": "0I975fL9WWQ2"
      },
      "execution_count": null,
      "outputs": []
    },
    {
      "cell_type": "code",
      "source": [
        "# сначала посмотрим только единичные ключевые слова (и сравним потом со списком единичных ключевых слов эталона)\n",
        "rake.run(normalize_text(text1), maxWords=1, minFrequency=2)"
      ],
      "metadata": {
        "colab": {
          "base_uri": "https://localhost:8080/"
        },
        "id": "TX2qcbfI4zIv",
        "outputId": "85c0f124-7c64-41d5-e812-c9dcee94cb35"
      },
      "execution_count": 15,
      "outputs": [
        {
          "output_type": "execute_result",
          "data": {
            "text/plain": [
              "[('отношение', 1.0),\n",
              " ('самоуважение', 1.0),\n",
              " ('самоинтерес', 1.0),\n",
              " ('аутосимпатия', 1.0),\n",
              " ('человек', 1.0),\n",
              " ('сравнение', 1.0),\n",
              " ('применяться', 1.0),\n",
              " ('кэттелла', 1.0),\n",
              " ('оод', 1.0),\n",
              " ('уверить', 1.0),\n",
              " ('способность', 1.0),\n",
              " ('достоинство', 1.0),\n",
              " ('замечать', 1.0),\n",
              " ('недостаток', 1.0),\n",
              " ('возможность', 1.0),\n",
              " ('тревожный', 1.0),\n",
              " ('иметь', 1.0),\n",
              " ('также', 1.0),\n",
              " ('рука', 1.0),\n",
              " ('стабильный', 1.0),\n",
              " ('нога', 1.0),\n",
              " ('»', 0)]"
            ]
          },
          "metadata": {},
          "execution_count": 15
        }
      ]
    },
    {
      "cell_type": "code",
      "source": [
        "# создаем словарь\n",
        "s = rake.run(normalize_text(text1), maxWords=1, minFrequency=2)\n",
        "dic = []\n",
        "for i in range(len(s)):\n",
        "    dic.append(s[i][0])\n",
        "\n",
        "# метрики\n",
        "\n",
        "true_pos, false_pos, false_neg = error_matr_counts(key_words1_mono, dic) \n",
        "\n",
        "# точность\n",
        "precision = true_pos / (true_pos + false_pos + 0.000001)\n",
        "print('точность: ', precision)\n",
        "\n",
        "# полнота\n",
        "recall = true_pos / (true_pos + false_neg + 0.000001)\n",
        "print('полнота: ', recall)\n",
        "\n",
        "# f1-мера\n",
        "f1 = 2 * (precision*recall) / (precision + recall + 0.000001)\n",
        "print('f1-мера: ', f1)"
      ],
      "metadata": {
        "colab": {
          "base_uri": "https://localhost:8080/"
        },
        "id": "vC8QbI0sXGcK",
        "outputId": "e37be6ae-3398-4333-dbc6-de74589558e0"
      },
      "execution_count": 151,
      "outputs": [
        {
          "output_type": "stream",
          "name": "stdout",
          "text": [
            "точность:  0.18181817355371938\n",
            "полнота:  0.6666665555555741\n",
            "f1-мера:  0.28571392857180355\n"
          ]
        }
      ]
    },
    {
      "cell_type": "code",
      "source": [
        "# затем все ключевые слова (и сравним потом со всеми ключевыми словами эталона),\n",
        "# maxword = 4, т. к. больше и не выдает в этих текстах\n",
        "rake.run(normalize_text(text1), maxWords=4, minFrequency=2)"
      ],
      "metadata": {
        "colab": {
          "base_uri": "https://localhost:8080/"
        },
        "id": "1GlNy_E0Vx5x",
        "outputId": "17eb5fa8-dea6-4d96-a9f1-432993f7e23b"
      },
      "execution_count": 132,
      "outputs": [
        {
          "output_type": "execute_result",
          "data": {
            "text/plain": [
              "[('социальный характеристика образ физический', 13.37142857142857),\n",
              " ('соотношение средний значение', 9.333333333333334),\n",
              " ('эмоциональный компонент самоотношение', 8.602564102564102),\n",
              " ('жизненный сфера различие', 7.416666666666666),\n",
              " ('образ физический', 6.571428571428571),\n",
              " ('методика исследование', 5.238095238095238),\n",
              " ('жизненный ценность', 4.875),\n",
              " ('эмоционально нестабильный', 4.75),\n",
              " ('жизненный сфера', 4.666666666666666),\n",
              " ('проявлять уверенность', 4.25),\n",
              " ('свой сила', 4.0),\n",
              " ('акцентировать внимание', 4.0),\n",
              " ('свой интересность', 4.0),\n",
              " ('ожидать отношение', 3.9871794871794872),\n",
              " ('свой достоинство', 3.5),\n",
              " ('иметь', 2.6),\n",
              " ('отношение', 2.1538461538461537),\n",
              " ('уверить', 1.6666666666666667),\n",
              " ('человек', 1.6),\n",
              " ('достоинство', 1.5),\n",
              " ('группа 1', 1.434782608695652),\n",
              " ('группа 2', 1.434782608695652),\n",
              " ('группа 3', 1.434782608695652),\n",
              " ('группа 4', 1.434782608695652),\n",
              " ('кэттелла', 1.4),\n",
              " ('самоуважение', 1.375),\n",
              " ('нога', 1.3333333333333333),\n",
              " ('способность', 1.25),\n",
              " ('замечать', 1.25),\n",
              " ('самоинтерес', 1.0),\n",
              " ('аутосимпатия', 1.0),\n",
              " ('сравнение', 1.0),\n",
              " ('« против »', 1.0),\n",
              " ('применяться', 1.0),\n",
              " ('оод', 1.0),\n",
              " ('недостаток', 1.0),\n",
              " ('возможность', 1.0),\n",
              " ('тревожный', 1.0),\n",
              " ('также', 1.0),\n",
              " ('рука', 1.0),\n",
              " ('стабильный', 1.0),\n",
              " ('»', 0)]"
            ]
          },
          "metadata": {},
          "execution_count": 132
        }
      ]
    },
    {
      "cell_type": "code",
      "source": [
        "# создаем словарь\n",
        "s = rake.run(normalize_text(text1), maxWords=4, minFrequency=2)\n",
        "dic = []\n",
        "for i in range(len(s)):\n",
        "    dic.append(s[i][0])\n",
        "\n",
        "# метрики\n",
        "\n",
        "true_pos, false_pos, false_neg = error_matr_counts(key_words1, dic) \n",
        "\n",
        "# точность\n",
        "precision = true_pos / (true_pos + false_pos + 0.000001)\n",
        "print('точность: ', precision)\n",
        "\n",
        "# полнота\n",
        "recall = true_pos / (true_pos + false_neg + 0.000001)\n",
        "print('полнота: ', recall)\n",
        "\n",
        "# f1-мера\n",
        "f1 = 2 * (precision*recall) / (precision + recall + 0.000001)\n",
        "print('f1-мера: ', f1)"
      ],
      "metadata": {
        "colab": {
          "base_uri": "https://localhost:8080/"
        },
        "id": "OSOq2DJXlzEt",
        "outputId": "2588f53e-8dce-415e-b8f0-92341302b42b"
      },
      "execution_count": 152,
      "outputs": [
        {
          "output_type": "stream",
          "name": "stdout",
          "text": [
            "точность:  0.0952380929705216\n",
            "полнота:  0.4999999375000079\n",
            "f1-мера:  0.15999972480043334\n"
          ]
        }
      ]
    },
    {
      "cell_type": "code",
      "source": [
        "# текст 2"
      ],
      "metadata": {
        "id": "XFvWtaQMXlYj"
      },
      "execution_count": null,
      "outputs": []
    },
    {
      "cell_type": "code",
      "source": [
        "# сначала посмотрим только единичные ключевые слова (и сравним потом с единичными ключевыми словами эталона)\n",
        "rake.run(normalize_text(text2), maxWords=1, minFrequency=2)"
      ],
      "metadata": {
        "colab": {
          "base_uri": "https://localhost:8080/"
        },
        "id": "Q5wfiWl1Xnhz",
        "outputId": "001f9a84-a028-46dc-a021-3b9167a54e63"
      },
      "execution_count": 46,
      "outputs": [
        {
          "output_type": "execute_result",
          "data": {
            "text/plain": [
              "[('текстовый', 1.3333333333333333),\n",
              " ('писатель', 1.0),\n",
              " ('безусловно', 1.0),\n",
              " ('книга', 1.0),\n",
              " ('услуга', 1.0),\n",
              " ('сторона', 1.0),\n",
              " ('п', 1.0),\n",
              " ('сюжет', 1.0),\n",
              " ('обложка', 1.0),\n",
              " ('c', 1.0),\n",
              " ('должный', 1.0),\n",
              " ('вопрос', 1.0),\n",
              " ('оставаться', 1.0),\n",
              " ('отношение', 1.0)]"
            ]
          },
          "metadata": {},
          "execution_count": 46
        }
      ]
    },
    {
      "cell_type": "code",
      "source": [
        "# создаем словарь\n",
        "s = rake.run(normalize_text(text2), maxWords=1, minFrequency=2)\n",
        "dic = []\n",
        "for i in range(len(s)):\n",
        "    dic.append(s[i][0])\n",
        "\n",
        "# метрики\n",
        "\n",
        "true_pos, false_pos, false_neg = error_matr_counts(key_words2_mono, dic) \n",
        "\n",
        "# точность\n",
        "precision = true_pos / (true_pos + false_pos + 0.000001)\n",
        "print('точность: ', precision)\n",
        "\n",
        "# полнота\n",
        "recall = true_pos / (true_pos + false_neg + 0.000001)\n",
        "print('полнота: ', recall)\n",
        "\n",
        "# f1-мера\n",
        "f1 = 2 * (precision*recall) / (precision + recall + 0.000001)\n",
        "print('f1-мера: ', f1)"
      ],
      "metadata": {
        "colab": {
          "base_uri": "https://localhost:8080/"
        },
        "id": "10o_7Bx7l7Vt",
        "outputId": "b4961b78-a0d2-489c-9617-5754ee6364a0"
      },
      "execution_count": 153,
      "outputs": [
        {
          "output_type": "stream",
          "name": "stdout",
          "text": [
            "точность:  0.0\n",
            "полнота:  0.0\n",
            "f1-мера:  0.0\n"
          ]
        }
      ]
    },
    {
      "cell_type": "code",
      "source": [
        "# затем все ключевые слова (и сравним потом со всеми ключевыми словами эталона)\n",
        "rake.run(normalize_text(text2), maxWords=4, minFrequency=2)"
      ],
      "metadata": {
        "colab": {
          "base_uri": "https://localhost:8080/"
        },
        "id": "0K-gZ6G3X5hm",
        "outputId": "500e5f57-d178-44e2-bb14-296b9ae7528a"
      },
      "execution_count": 47,
      "outputs": [
        {
          "output_type": "execute_result",
          "data": {
            "text/plain": [
              "[('оформление обложка литературный произведение', 11.525490196078433),\n",
              " ('построение литературный отрывок', 9.058823529411764),\n",
              " ('детский обучать книга', 8.1875),\n",
              " ('скрытый реклама', 6.20952380952381),\n",
              " ('массовый литература', 5.497326203208557),\n",
              " ('художественный литература', 5.421568627450981),\n",
              " ('название произведение', 4.933333333333334),\n",
              " ('женский роман', 4.5),\n",
              " ('название книга', 4.3875),\n",
              " ('обложка', 2.4),\n",
              " ('вопрос', 2.3333333333333335),\n",
              " ('книга', 2.1875),\n",
              " ('писатель', 2.0),\n",
              " ('текстовый', 1.75),\n",
              " ('отношение', 1.5),\n",
              " ('сюжет', 1.4),\n",
              " ('услуга', 1.25),\n",
              " ('безусловно', 1.0),\n",
              " ('сторона', 1.0),\n",
              " ('п', 1.0),\n",
              " ('c', 1.0),\n",
              " ('должный', 1.0),\n",
              " ('оставаться', 1.0)]"
            ]
          },
          "metadata": {},
          "execution_count": 47
        }
      ]
    },
    {
      "cell_type": "code",
      "source": [
        "# создаем словарь\n",
        "s = rake.run(normalize_text(text2), maxWords=4, minFrequency=2)\n",
        "dic = []\n",
        "for i in range(len(s)):\n",
        "    dic.append(s[i][0])\n",
        "\n",
        "# метрики\n",
        "\n",
        "true_pos, false_pos, false_neg = error_matr_counts(key_words2, dic) \n",
        "\n",
        "# точность\n",
        "precision = true_pos / (true_pos + false_pos + 0.000001)\n",
        "print('точность: ', precision)\n",
        "\n",
        "# полнота\n",
        "recall = true_pos / (true_pos + false_neg + 0.000001)\n",
        "print('полнота: ', recall)\n",
        "\n",
        "# f1-мера\n",
        "f1 = 2 * (precision*recall) / (precision + recall + 0.000001)\n",
        "print('f1-мера: ', f1)"
      ],
      "metadata": {
        "colab": {
          "base_uri": "https://localhost:8080/"
        },
        "id": "9a3HEZbHmFdU",
        "outputId": "65d18e24-689b-4ba9-bd6c-f16a011dffb3"
      },
      "execution_count": 154,
      "outputs": [
        {
          "output_type": "stream",
          "name": "stdout",
          "text": [
            "точность:  0.1304347769376184\n",
            "полнота:  0.299999970000003\n",
            "f1-мера:  0.18181774839399373\n"
          ]
        }
      ]
    },
    {
      "cell_type": "code",
      "source": [
        "# текст 3"
      ],
      "metadata": {
        "id": "1JDt5YcCYFPZ"
      },
      "execution_count": null,
      "outputs": []
    },
    {
      "cell_type": "code",
      "source": [
        "# сначала посмотрим только единичные ключевые слова (и сравним потом с единичными ключевыми словами эталона)\n",
        "rake.run(normalize_text(text3), maxWords=1, minFrequency=2)"
      ],
      "metadata": {
        "colab": {
          "base_uri": "https://localhost:8080/"
        },
        "id": "pUBlNRVrX-0i",
        "outputId": "1d8ba3bb-2917-4dca-e5d3-ebe67597ff9b"
      },
      "execution_count": 51,
      "outputs": [
        {
          "output_type": "execute_result",
          "data": {
            "text/plain": [
              "[('отказ', 1.0)]"
            ]
          },
          "metadata": {},
          "execution_count": 51
        }
      ]
    },
    {
      "cell_type": "code",
      "source": [
        "# создаем словарь\n",
        "s = rake.run(normalize_text(text3), maxWords=1, minFrequency=2)\n",
        "dic = []\n",
        "for i in range(len(s)):\n",
        "    dic.append(s[i][0])\n",
        "\n",
        "# метрики\n",
        "\n",
        "true_pos, false_pos, false_neg = error_matr_counts(key_words3_mono, dic) \n",
        "\n",
        "# точность\n",
        "precision = true_pos / (true_pos + false_pos + 0.000001)\n",
        "print('точность: ', precision)\n",
        "\n",
        "# полнота\n",
        "recall = true_pos / (true_pos + false_neg + 0.000001)\n",
        "print('полнота: ', recall)\n",
        "\n",
        "# f1-мера\n",
        "f1 = 2 * (precision*recall) / (precision + recall + 0.000001)\n",
        "print('f1-мера: ', f1)"
      ],
      "metadata": {
        "colab": {
          "base_uri": "https://localhost:8080/"
        },
        "id": "FH8OGN2imP9W",
        "outputId": "3e2c54ad-7699-42c9-e6b5-ffdbf409b9d6"
      },
      "execution_count": 158,
      "outputs": [
        {
          "output_type": "stream",
          "name": "stdout",
          "text": [
            "точность:  0.0\n",
            "полнота:  0.0\n",
            "f1-мера:  0.0\n"
          ]
        }
      ]
    },
    {
      "cell_type": "code",
      "source": [
        "# затем все ключевые слова (и сравним потом со всеми ключевыми словами эталона)\n",
        "rake.run(normalize_text(text3), maxWords=4, minFrequency=2)"
      ],
      "metadata": {
        "colab": {
          "base_uri": "https://localhost:8080/"
        },
        "id": "r_8jUGRSYCC-",
        "outputId": "709bd460-2017-4bdd-ad34-383f90fa7b28"
      },
      "execution_count": 49,
      "outputs": [
        {
          "output_type": "execute_result",
          "data": {
            "text/plain": [
              "[('противодействие распространение детский порнография', 13.649999999999999),\n",
              " ('распространение детский порнография', 9.9),\n",
              " ('сеть интернет', 4.4),\n",
              " ('отказ', 1.0)]"
            ]
          },
          "metadata": {},
          "execution_count": 49
        }
      ]
    },
    {
      "cell_type": "code",
      "source": [
        "# создаем словарь\n",
        "s = rake.run(normalize_text(text3), maxWords=4, minFrequency=2)\n",
        "dic = []\n",
        "for i in range(len(s)):\n",
        "    dic.append(s[i][0])\n",
        "\n",
        "# метрики\n",
        "\n",
        "true_pos, false_pos, false_neg = error_matr_counts(key_words3, dic) \n",
        "\n",
        "# точность\n",
        "precision = true_pos / (true_pos + false_pos + 0.000001)\n",
        "print('точность: ', precision)\n",
        "\n",
        "# полнота\n",
        "recall = true_pos / (true_pos + false_neg + 0.000001)\n",
        "print('полнота: ', recall)\n",
        "\n",
        "# f1-мера\n",
        "f1 = 2 * (precision*recall) / (precision + recall + 0.000001)\n",
        "print('f1-мера: ', f1)"
      ],
      "metadata": {
        "colab": {
          "base_uri": "https://localhost:8080/"
        },
        "id": "3zDcPjunmXFf",
        "outputId": "475e8fa4-045e-464d-ae3a-c072c2edc45a"
      },
      "execution_count": 159,
      "outputs": [
        {
          "output_type": "stream",
          "name": "stdout",
          "text": [
            "точность:  0.24999993750001562\n",
            "полнота:  0.12499998437500197\n",
            "f1-мера:  0.16666619444561576\n"
          ]
        }
      ]
    },
    {
      "cell_type": "code",
      "source": [
        "# текст 4"
      ],
      "metadata": {
        "id": "HBWOYyD9YG8c"
      },
      "execution_count": null,
      "outputs": []
    },
    {
      "cell_type": "code",
      "source": [
        "# сначала посмотрим только единичные ключевые слова (и сравним потом с единичными ключевыми словами эталона)\n",
        "rake.run(normalize_text(text4), maxWords=1, minFrequency=2)"
      ],
      "metadata": {
        "colab": {
          "base_uri": "https://localhost:8080/"
        },
        "id": "TWSNNWfVX_hB",
        "outputId": "671d822a-e3fd-4fd1-a332-bf41fa116b9c"
      },
      "execution_count": 52,
      "outputs": [
        {
          "output_type": "execute_result",
          "data": {
            "text/plain": [
              "[('организация', 1.0),\n",
              " ('ответ', 1.0),\n",
              " ('гпнтб', 1.0),\n",
              " ('ран', 1.0),\n",
              " ('работать', 1.0),\n",
              " ('который', 1.0)]"
            ]
          },
          "metadata": {},
          "execution_count": 52
        }
      ]
    },
    {
      "cell_type": "code",
      "source": [
        "# создаем словарь\n",
        "s = rake.run(normalize_text(text4), maxWords=1, minFrequency=2)\n",
        "dic = []\n",
        "for i in range(len(s)):\n",
        "    dic.append(s[i][0])\n",
        "\n",
        "# метрики\n",
        "\n",
        "true_pos, false_pos, false_neg = error_matr_counts(key_words4_mono, dic) \n",
        "\n",
        "# точность\n",
        "precision = true_pos / (true_pos + false_pos + 0.000001)\n",
        "print('точность: ', precision)\n",
        "\n",
        "# полнота\n",
        "recall = true_pos / (true_pos + false_neg + 0.000001)\n",
        "print('полнота: ', recall)\n",
        "\n",
        "# f1-мера\n",
        "f1 = 2 * (precision*recall) / (precision + recall + 0.000001)\n",
        "print('f1-мера: ', f1)"
      ],
      "metadata": {
        "colab": {
          "base_uri": "https://localhost:8080/"
        },
        "id": "uTRmkqd6m6i8",
        "outputId": "4edfaf52-4023-47e5-c3c9-0785cf674b7e"
      },
      "execution_count": 160,
      "outputs": [
        {
          "output_type": "stream",
          "name": "stdout",
          "text": [
            "точность:  0.0\n",
            "полнота:  0.0\n",
            "f1-мера:  0.0\n"
          ]
        }
      ]
    },
    {
      "cell_type": "code",
      "source": [
        "# затем все ключевые слова (и сравним потом со всеми ключевыми словами эталона)\n",
        "rake.run(normalize_text(text4), maxWords=4, minFrequency=2)"
      ],
      "metadata": {
        "colab": {
          "base_uri": "https://localhost:8080/"
        },
        "id": "ioUn_tAqYDE1",
        "outputId": "2c9b1af1-20eb-4374-b87b-954002ee2e13"
      },
      "execution_count": 53,
      "outputs": [
        {
          "output_type": "execute_result",
          "data": {
            "text/plain": [
              "[('стена наш библиотека', 8.266666666666666),\n",
              " ('применение правовой информация', 8.238095238095237),\n",
              " ('свой вопрос', 4.533333333333333),\n",
              " ('электронный носитель', 4.0),\n",
              " ('который', 2.1666666666666665),\n",
              " ('ответ', 1.3333333333333333),\n",
              " ('организация', 1.0),\n",
              " ('гпнтб', 1.0),\n",
              " ('ран', 1.0),\n",
              " ('работать', 1.0)]"
            ]
          },
          "metadata": {},
          "execution_count": 53
        }
      ]
    },
    {
      "cell_type": "code",
      "source": [
        "# создаем словарь\n",
        "s = rake.run(normalize_text(text4), maxWords=4, minFrequency=2)\n",
        "dic = []\n",
        "for i in range(len(s)):\n",
        "    dic.append(s[i][0])\n",
        "\n",
        "# метрики\n",
        "\n",
        "true_pos, false_pos, false_neg = error_matr_counts(key_words4, dic) \n",
        "\n",
        "# точность\n",
        "precision = true_pos / (true_pos + false_pos + 0.000001)\n",
        "print('точность: ', precision)\n",
        "\n",
        "# полнота\n",
        "recall = true_pos / (true_pos + false_neg + 0.000001)\n",
        "print('полнота: ', recall)\n",
        "\n",
        "# f1-мера\n",
        "f1 = 2 * (precision*recall) / (precision + recall + 0.000001)\n",
        "print('f1-мера: ', f1)"
      ],
      "metadata": {
        "colab": {
          "base_uri": "https://localhost:8080/"
        },
        "id": "nCK_WGXbnIGZ",
        "outputId": "99fd05b5-3125-4517-db82-9f52b2196fb4"
      },
      "execution_count": 161,
      "outputs": [
        {
          "output_type": "stream",
          "name": "stdout",
          "text": [
            "точность:  0.0\n",
            "полнота:  0.0\n",
            "f1-мера:  0.0\n"
          ]
        }
      ]
    },
    {
      "cell_type": "code",
      "source": [
        "# КЛЮЧЕВЫЕ СЛОВА С ИСПОЛЬЗОВАНИЕМ TEXTBANK"
      ],
      "metadata": {
        "id": "JHoj-zJZY8Nb"
      },
      "execution_count": null,
      "outputs": []
    },
    {
      "cell_type": "code",
      "source": [
        "!pip3 install summa"
      ],
      "metadata": {
        "colab": {
          "base_uri": "https://localhost:8080/"
        },
        "id": "h2M_bQow6mBu",
        "outputId": "a659d34b-fa1d-40d6-b461-da20dc54e84e"
      },
      "execution_count": 17,
      "outputs": [
        {
          "output_type": "stream",
          "name": "stdout",
          "text": [
            "Looking in indexes: https://pypi.org/simple, https://us-python.pkg.dev/colab-wheels/public/simple/\n",
            "Collecting summa\n",
            "  Downloading summa-1.2.0.tar.gz (54 kB)\n",
            "\u001b[K     |████████████████████████████████| 54 kB 3.1 MB/s \n",
            "\u001b[?25hRequirement already satisfied: scipy>=0.19 in /usr/local/lib/python3.7/dist-packages (from summa) (1.7.3)\n",
            "Requirement already satisfied: numpy<1.23.0,>=1.16.5 in /usr/local/lib/python3.7/dist-packages (from scipy>=0.19->summa) (1.21.6)\n",
            "Building wheels for collected packages: summa\n",
            "  Building wheel for summa (setup.py) ... \u001b[?25l\u001b[?25hdone\n",
            "  Created wheel for summa: filename=summa-1.2.0-py3-none-any.whl size=54410 sha256=bb2a586f7935fd44d09c4dfbe4f7a3c7b5f7c9d6db2e8a186097396e79a2072a\n",
            "  Stored in directory: /root/.cache/pip/wheels/29/64/ac/7b443477588d365ef37ada30d456bdf5f07dc5be9f6324cb6e\n",
            "Successfully built summa\n",
            "Installing collected packages: summa\n",
            "Successfully installed summa-1.2.0\n"
          ]
        }
      ]
    },
    {
      "cell_type": "code",
      "source": [
        "from summa import keywords"
      ],
      "metadata": {
        "id": "2Lv6JxA56wbo"
      },
      "execution_count": 18,
      "outputs": []
    },
    {
      "cell_type": "code",
      "source": [
        "# текст 1"
      ],
      "metadata": {
        "id": "mXrInXPpZN0v"
      },
      "execution_count": null,
      "outputs": []
    },
    {
      "cell_type": "code",
      "source": [
        "keywords.keywords(normalize_text(text1), language='russian', additional_stopwords=stop, scores=True)"
      ],
      "metadata": {
        "colab": {
          "base_uri": "https://localhost:8080/"
        },
        "id": "Gl5cDrVm60s8",
        "outputId": "65d2e465-b6ec-462a-f10c-b6de17306662"
      },
      "execution_count": 19,
      "outputs": [
        {
          "output_type": "execute_result",
          "data": {
            "text/plain": [
              "[('группа', 0.2925251560256731),\n",
              " ('влияние самоотношение', 0.19048466460239868),\n",
              " ('таблица', 0.18437101536215164),\n",
              " ('социально', 0.18256044906953361),\n",
              " ('эмоциональный', 0.16883727545975175),\n",
              " ('эмоционально', 0.16883727545975175),\n",
              " ('важный отношение социальный', 0.13918100695353997),\n",
              " ('часто', 0.1387716269741275),\n",
              " ('частый', 0.1387716269741275),\n",
              " ('личностный', 0.12713014456598198),\n",
              " ('собственный личность', 0.12679938995405723),\n",
              " ('иметь', 0.12616784714966972),\n",
              " ('поведение', 0.12531214281545233),\n",
              " ('наш исследование', 0.12205355536834256),\n",
              " ('человек', 0.12123175934969968),\n",
              " ('система самооценка', 0.10032348493684032),\n",
              " ('характеристика', 0.09883945246909091),\n",
              " ('значимость', 0.09762547811088948),\n",
              " ('значимый', 0.09762547811088948),\n",
              " ('самоуважение', 0.09577987515742158),\n",
              " ('свой', 0.09184824032220236),\n",
              " ('компонент', 0.09153154996591603),\n",
              " ('иерархия ведущий', 0.0893827041039045),\n",
              " ('который', 0.08759317052263782),\n",
              " ('ситуация', 0.08728609340587379),\n",
              " ('положительный', 0.08382355501133759),\n",
              " ('привлекательность нога', 0.08291773351852971),\n",
              " ('проявлять', 0.08270997621734022),\n",
              " ('самоинтерес', 0.0818370112301849),\n",
              " ('высокий', 0.08041720047556125),\n",
              " ('высоко', 0.08041720047556125),\n",
              " ('анатомический', 0.07972013152042064),\n",
              " ('уровень', 0.07809723898630762),\n",
              " ('ожидать', 0.07603113916837144),\n",
              " ('особенность', 0.07337857236477739),\n",
              " ('карпушина', 0.07305647261139994),\n",
              " ('сравнительный', 0.07305647261139994),\n",
              " ('мотив', 0.07107968735335884),\n",
              " ('чел', 0.07095982500299544),\n",
              " ('различие', 0.07077030301003476),\n",
              " ('достаточно', 0.06834165124275057),\n",
              " ('обобщённый', 0.06661868651015546),\n",
              " ('f', 0.06498611230557144),\n",
              " ('q', 0.06498611230557125),\n",
              " ('средне', 0.06459563083381822),\n",
              " ('результат', 0.06415123320314108),\n",
              " ('средний значение', 0.06405765558186836),\n",
              " ('весь', 0.06331152412359295),\n",
              " ('ценность', 0.0631100536978293)]"
            ]
          },
          "metadata": {},
          "execution_count": 19
        }
      ]
    },
    {
      "cell_type": "code",
      "source": [
        "# создаем словарь\n",
        "s = keywords.keywords(normalize_text(text1), language='russian', additional_stopwords=stop, scores=True)\n",
        "dic = []\n",
        "for i in range(len(s)):\n",
        "    dic.append(s[i][0])\n",
        "\n",
        "# метрики\n",
        "\n",
        "true_pos, false_pos, false_neg = error_matr_counts(key_words1, dic) \n",
        "\n",
        "# точность\n",
        "precision = true_pos / (true_pos + false_pos + 0.000001)\n",
        "print('точность: ', precision)\n",
        "\n",
        "# полнота\n",
        "recall = true_pos / (true_pos + false_neg + 0.000001)\n",
        "print('полнота: ', recall)\n",
        "\n",
        "# f1-мера\n",
        "f1 = 2 * (precision*recall) / (precision + recall + 0.000001)\n",
        "print('f1-мера: ', f1)"
      ],
      "metadata": {
        "colab": {
          "base_uri": "https://localhost:8080/"
        },
        "id": "E4CbGVBenVIK",
        "outputId": "f987b5ef-f1f8-46c4-a059-2158e14a2d35"
      },
      "execution_count": 162,
      "outputs": [
        {
          "output_type": "stream",
          "name": "stdout",
          "text": [
            "точность:  0.040816325697626006\n",
            "полнота:  0.24999996875000394\n",
            "f1-мера:  0.07017519482998989\n"
          ]
        }
      ]
    },
    {
      "cell_type": "code",
      "source": [
        "# текст 2"
      ],
      "metadata": {
        "id": "q8xLgzzDZRjO"
      },
      "execution_count": null,
      "outputs": []
    },
    {
      "cell_type": "code",
      "source": [
        "keywords.keywords(normalize_text(text2), language='russian', additional_stopwords=stop, scores=True)"
      ],
      "metadata": {
        "colab": {
          "base_uri": "https://localhost:8080/"
        },
        "id": "vUwBtZc9ZYiI",
        "outputId": "3d5ddf74-e049-4ee1-adba-06d8badae4f3"
      },
      "execution_count": 54,
      "outputs": [
        {
          "output_type": "execute_result",
          "data": {
            "text/plain": [
              "[('книга', 0.22543814761369035),\n",
              " ('который', 0.20804255303672595),\n",
              " ('литературный товар', 0.17488272248971343),\n",
              " ('это', 0.16614725839094527),\n",
              " ('размещение', 0.163285910749842),\n",
              " ('произведение писатель', 0.1559679773651373),\n",
              " ('свой', 0.13895747212551024),\n",
              " ('роман', 0.12507056333560596),\n",
              " ('современный художественный массовый литература', 0.12501374576132523),\n",
              " ('продвигать бренд', 0.12082573006409854),\n",
              " ('рекламный', 0.11781414642737),\n",
              " ('скрытый реклама', 0.10993419523610165),\n",
              " ('продукт заказчик', 0.10378324751216836),\n",
              " ('авторский стратегия', 0.10136525794152978),\n",
              " ('продвигаться', 0.097400706911584),\n",
              " ('автор статья рассматривать', 0.0895002892805243),\n",
              " ('вопрос', 0.0894379155941364),\n",
              " ('художественно', 0.08451422144258021),\n",
              " ('информация', 0.08203170060354334),\n",
              " ('считаться', 0.07340586255845323),\n",
              " ('считать', 0.07340586255845323),\n",
              " ('сюжет', 0.07327520651628718),\n",
              " ('стать', 0.07161799039763653),\n",
              " ('изображение', 0.06888002746980451),\n",
              " ('рассматриваться', 0.06576951468511741),\n",
              " ('читатель', 0.06541726715095174),\n",
              " ('использование логотип', 0.06387090751551654),\n",
              " ('текст', 0.06372949792268745),\n",
              " ('ребёнок', 0.06348378249143925),\n",
              " ('определение', 0.06308273471901303),\n",
              " ('развиваться', 0.062101957823360594),\n",
              " ('развивающийся', 0.062101957823360594),\n",
              " ('опросить', 0.06128557624422413),\n",
              " ('опрос', 0.06128557624422413),\n",
              " ('донцов', 0.060821271132224686),\n",
              " ('процесс', 0.06053501696687774),\n",
              " ('контекст развитие', 0.06034066828632839),\n",
              " ('марка', 0.05790749818350454),\n",
              " ('марк', 0.05790749818350454),\n",
              " ('возможность', 0.056889722480036806),\n",
              " ('возможно', 0.056889722480036806),\n",
              " ('являться', 0.05658007777139651),\n",
              " ('больший', 0.05648525994898563),\n",
              " ('большой', 0.05648525994898563),\n",
              " ('макароны определённый', 0.05599769516702276),\n",
              " ('компания', 0.05468905309781077),\n",
              " ('конкретный пример', 0.05410315105488547),\n",
              " ('группа', 0.05381585544998368),\n",
              " ('часть', 0.05367351556656586),\n",
              " ('текстовый', 0.053641876742113244),\n",
              " ('эмоциональный', 0.05314078393793395),\n",
              " ('основный', 0.05271678666446804),\n",
              " ('россия', 0.0519272364264598),\n",
              " ('российский', 0.051664333097445087),\n",
              " ('спрос', 0.05149669037003256),\n",
              " ('востребовать рынок', 0.05148386098157004),\n",
              " ('обложка', 0.051005350461074),\n",
              " ('точка', 0.050640528254888725),\n",
              " ('аморальный', 0.050640528254888725),\n",
              " ('редактор', 0.050640528254888406),\n",
              " ('главный герой', 0.05054881805381842),\n",
              " ('знание', 0.050092101826651865),\n",
              " ('маркетолог', 0.05006308445780185),\n",
              " ('безусловно', 0.04872056968552707),\n",
              " ('самый', 0.0487074976954417),\n",
              " ('очень', 0.04725814129583395),\n",
              " ('скорый', 0.046881107516323406),\n",
              " ('скорее', 0.046881107516323406),\n",
              " ('книжный', 0.045428825984166366),\n",
              " ('язык дословно', 0.045046370381708556),\n",
              " ('изменяться социокультурный', 0.04504637038170828),\n",
              " ('различный', 0.04439853444549691),\n",
              " ('аннотация', 0.04437959780784903),\n",
              " ('коммерциализация писательский деятельность', 0.04433928955067414),\n",
              " ('татьяна', 0.04373999695971518),\n",
              " ('персонаж', 0.04369374591772774),\n",
              " ('серийный', 0.04335801816040449),\n",
              " ('серийность', 0.04335801816040449),\n",
              " ('явление', 0.0433439734553398),\n",
              " ('отражать', 0.0430560574784534),\n",
              " ('маркетинговый', 0.04286819993226045),\n",
              " ('введение', 0.04277812621126741),\n",
              " ('тысяча', 0.042461381084189384),\n",
              " ('технология', 0.04191981697217847),\n",
              " ('иметь', 0.04186321460627193),\n",
              " ('популярный', 0.041061983968934276),\n",
              " ('издательство', 0.04093145078250353),\n",
              " ('провести', 0.04090552387798264),\n",
              " ('исследовательский', 0.040905523877982554),\n",
              " ('воздействие', 0.040789292876531616)]"
            ]
          },
          "metadata": {},
          "execution_count": 54
        }
      ]
    },
    {
      "cell_type": "code",
      "source": [
        "# создаем словарь\n",
        "s = keywords.keywords(normalize_text(text2), language='russian', additional_stopwords=stop, scores=True)\n",
        "dic = []\n",
        "for i in range(len(s)):\n",
        "    dic.append(s[i][0])\n",
        "\n",
        "# метрики\n",
        "\n",
        "true_pos, false_pos, false_neg = error_matr_counts(key_words2, dic) \n",
        "\n",
        "# точность\n",
        "precision = true_pos / (true_pos + false_pos + 0.000001)\n",
        "print('точность: ', precision)\n",
        "\n",
        "# полнота\n",
        "recall = true_pos / (true_pos + false_neg + 0.000001)\n",
        "print('полнота: ', recall)\n",
        "\n",
        "# f1-мера\n",
        "f1 = 2 * (precision*recall) / (precision + recall + 0.000001)\n",
        "print('f1-мера: ', f1)"
      ],
      "metadata": {
        "colab": {
          "base_uri": "https://localhost:8080/"
        },
        "id": "zmxIKXhfnj5N",
        "outputId": "85f823f4-5415-4589-846a-71862f31ae14"
      },
      "execution_count": 163,
      "outputs": [
        {
          "output_type": "stream",
          "name": "stdout",
          "text": [
            "точность:  0.03333333296296297\n",
            "полнота:  0.299999970000003\n",
            "f1-мера:  0.05999981880052723\n"
          ]
        }
      ]
    },
    {
      "cell_type": "code",
      "source": [
        "# текст 3"
      ],
      "metadata": {
        "id": "BD5EK2XBZSRq"
      },
      "execution_count": null,
      "outputs": []
    },
    {
      "cell_type": "code",
      "source": [
        "keywords.keywords(normalize_text(text3), language='russian', additional_stopwords=stop, scores=True)"
      ],
      "metadata": {
        "colab": {
          "base_uri": "https://localhost:8080/"
        },
        "id": "fSlfNIWOZZZ-",
        "outputId": "41702381-7a11-497d-a005-8647acfbb6e6"
      },
      "execution_count": 55,
      "outputs": [
        {
          "output_type": "execute_result",
          "data": {
            "text/plain": [
              "[('научный', 0.20997268233867974),\n",
              " ('метод', 0.2051116966457688),\n",
              " ('автор', 0.1971152362724496),\n",
              " ('международный', 0.19423905733533314),\n",
              " ('интернет', 0.17486914673678472),\n",
              " ('состояние это', 0.15090463036006835),\n",
              " ('детский', 0.14402792476519288),\n",
              " ('развитие', 0.1436257922344471),\n",
              " ('противодействие', 0.13747482780750422),\n",
              " ('отметить', 0.1331401936525119),\n",
              " ('различный', 0.13092649169732046),\n",
              " ('нормативный', 0.1278309072945982),\n",
              " ('день', 0.12783090729459756),\n",
              " ('технический', 0.12528861366893038),\n",
              " ('основной', 0.1179396762485528),\n",
              " ('признак', 0.11379206446792997),\n",
              " ('выступать активизация', 0.11371053416913862),\n",
              " ('констатировать', 0.11371053416913854),\n",
              " ('мир', 0.11371053416913843),\n",
              " ('сексуальный', 0.11207975015555112)]"
            ]
          },
          "metadata": {},
          "execution_count": 55
        }
      ]
    },
    {
      "cell_type": "code",
      "source": [
        "# создаем словарь\n",
        "s = keywords.keywords(normalize_text(text3), language='russian', additional_stopwords=stop, scores=True)\n",
        "dic = []\n",
        "for i in range(len(s)):\n",
        "    dic.append(s[i][0])\n",
        "\n",
        "# метрики\n",
        "\n",
        "true_pos, false_pos, false_neg = error_matr_counts(key_words3, dic) \n",
        "\n",
        "# точность\n",
        "precision = true_pos / (true_pos + false_pos + 0.000001)\n",
        "print('точность: ', precision)\n",
        "\n",
        "# полнота\n",
        "recall = true_pos / (true_pos + false_neg + 0.000001)\n",
        "print('полнота: ', recall)\n",
        "\n",
        "# f1-мера\n",
        "f1 = 2 * (precision*recall) / (precision + recall + 0.000001)\n",
        "print('f1-мера: ', f1)"
      ],
      "metadata": {
        "colab": {
          "base_uri": "https://localhost:8080/"
        },
        "id": "FRyIq0QLnpBs",
        "outputId": "deabfd63-92d6-4074-a3f3-9a5a20859081"
      },
      "execution_count": 164,
      "outputs": [
        {
          "output_type": "stream",
          "name": "stdout",
          "text": [
            "точность:  0.09999999500000024\n",
            "полнота:  0.24999996875000394\n",
            "f1-мера:  0.14285672449094972\n"
          ]
        }
      ]
    },
    {
      "cell_type": "code",
      "source": [
        "# текст 4"
      ],
      "metadata": {
        "id": "aFD4bo6JZS6e"
      },
      "execution_count": null,
      "outputs": []
    },
    {
      "cell_type": "code",
      "source": [
        "keywords.keywords(normalize_text(text4), language='russian', additional_stopwords=stop, scores=True)"
      ],
      "metadata": {
        "colab": {
          "base_uri": "https://localhost:8080/"
        },
        "id": "ESReDxXFZanX",
        "outputId": "28bd6f7f-a5c9-414a-a7e0-530b483164c9"
      },
      "execution_count": 56,
      "outputs": [
        {
          "output_type": "execute_result",
          "data": {
            "text/plain": [
              "[('который', 0.2077972045837111),\n",
              " ('юридический', 0.19105816762259095),\n",
              " ('библиотека часто', 0.1894983343215468),\n",
              " ('система', 0.1765096015291674),\n",
              " ('правовой культура', 0.1657889252289795),\n",
              " ('необходимый', 0.1375251242675822),\n",
              " ('необходимость', 0.1375251242675822),\n",
              " ('необходимо', 0.1375251242675822),\n",
              " ('информационно', 0.1359339714490374),\n",
              " ('деятельность государственный', 0.1344508986361878),\n",
              " ('право', 0.13261654630911257),\n",
              " ('информация', 0.11915336113112868),\n",
              " ('знание', 0.11636336848308061),\n",
              " ('время', 0.11164892467985747),\n",
              " ('гражданин', 0.11163019551451103),\n",
              " ('российский', 0.10662131833508949),\n",
              " ('структура', 0.10238836512989304),\n",
              " ('человек', 0.10220345320845335),\n",
              " ('информационный ресурс', 0.10094828106629591),\n",
              " ('вопрос', 0.09666034784729681),\n",
              " ('получить', 0.09645659736452518),\n",
              " ('помощь', 0.09346282790189726),\n",
              " ('это', 0.08998974798369115),\n",
              " ('наш', 0.0889087332687715),\n",
              " ('потребность', 0.08740788227574066),\n",
              " ('носитель', 0.08711452194738807),\n",
              " ('часть', 0.0861989818039433),\n",
              " ('возможность', 0.08614247325075094),\n",
              " ('библиографический', 0.08301051319150257),\n",
              " ('сотня', 0.07841971984584462),\n",
              " ('орган', 0.07765076062614082),\n",
              " ('фонд', 0.07410008152449261),\n",
              " ('специалист', 0.07357607979366476),\n",
              " ('помочь', 0.07268127149135505),\n",
              " ('получение', 0.07227554354861522),\n",
              " ('поиск', 0.07212995323030794),\n",
              " ('клиника', 0.0711878079699825),\n",
              " ('инстанция', 0.07116261274900483),\n",
              " ('плавание', 0.0711626127490042),\n",
              " ('работа', 0.07116261274900378),\n",
              " ('сотрудник', 0.07107831242243742),\n",
              " ('важный', 0.06974955172139416),\n",
              " ('иметься', 0.06964277268212919),\n",
              " ('читатель', 0.06957775106930209),\n",
              " ('иметь уникальный', 0.06753224700873481),\n",
              " ('реформа', 0.06712726182787537),\n",
              " ('студент', 0.0669580517014617),\n",
              " ('специальный', 0.0653584488219277),\n",
              " ('трудность', 0.06528131846368891),\n",
              " ('документ', 0.0646223553020745),\n",
              " ('доступный', 0.06380142582894816),\n",
              " ('й год', 0.06330189529134898),\n",
              " ('мочь', 0.06326647300648361),\n",
              " ('широкий слой население', 0.05940101425298807)]"
            ]
          },
          "metadata": {},
          "execution_count": 56
        }
      ]
    },
    {
      "cell_type": "code",
      "source": [
        "# создаем словарь\n",
        "s = keywords.keywords(normalize_text(text4), language='russian', additional_stopwords=stop, scores=True)\n",
        "dic = []\n",
        "for i in range(len(s)):\n",
        "    dic.append(s[i][0])\n",
        "\n",
        "# метрики\n",
        "\n",
        "true_pos, false_pos, false_neg = error_matr_counts(key_words4, dic) \n",
        "\n",
        "# точность\n",
        "precision = true_pos / (true_pos + false_pos + 0.000001)\n",
        "print('точность: ', precision)\n",
        "\n",
        "# полнота\n",
        "recall = true_pos / (true_pos + false_neg + 0.000001)\n",
        "print('полнота: ', recall)\n",
        "\n",
        "# f1-мера\n",
        "f1 = 2 * (precision*recall) / (precision + recall + 0.000001)\n",
        "print('f1-мера: ', f1)"
      ],
      "metadata": {
        "colab": {
          "base_uri": "https://localhost:8080/"
        },
        "id": "l3HqiCzfnwpM",
        "outputId": "ec757560-8cce-4af6-ec80-f1e133417c7c"
      },
      "execution_count": 165,
      "outputs": [
        {
          "output_type": "stream",
          "name": "stdout",
          "text": [
            "точность:  0.05555555452674899\n",
            "полнота:  0.4285713673469475\n",
            "f1-мера:  0.09836044934197516\n"
          ]
        }
      ]
    },
    {
      "cell_type": "code",
      "source": [
        "# КЛЮЧЕВЫЕ СЛОВА С ИСПОЛЬЗОВАНИЕМ KEYBERT"
      ],
      "metadata": {
        "id": "N_PhnJWAZyaI"
      },
      "execution_count": null,
      "outputs": []
    },
    {
      "cell_type": "code",
      "source": [
        "!pip3 install keybert"
      ],
      "metadata": {
        "colab": {
          "base_uri": "https://localhost:8080/"
        },
        "id": "DXvGYhgd7Tvp",
        "outputId": "4c246e5e-c5d0-4be8-e006-e31647cb67c5"
      },
      "execution_count": 20,
      "outputs": [
        {
          "output_type": "stream",
          "name": "stdout",
          "text": [
            "Looking in indexes: https://pypi.org/simple, https://us-python.pkg.dev/colab-wheels/public/simple/\n",
            "Collecting keybert\n",
            "  Downloading keybert-0.7.0.tar.gz (21 kB)\n",
            "Collecting sentence-transformers>=0.3.8\n",
            "  Downloading sentence-transformers-2.2.2.tar.gz (85 kB)\n",
            "\u001b[K     |████████████████████████████████| 85 kB 4.1 MB/s \n",
            "\u001b[?25hRequirement already satisfied: scikit-learn>=0.22.2 in /usr/local/lib/python3.7/dist-packages (from keybert) (1.0.2)\n",
            "Requirement already satisfied: numpy>=1.18.5 in /usr/local/lib/python3.7/dist-packages (from keybert) (1.21.6)\n",
            "Collecting rich>=10.4.0\n",
            "  Downloading rich-12.6.0-py3-none-any.whl (237 kB)\n",
            "\u001b[K     |████████████████████████████████| 237 kB 39.2 MB/s \n",
            "\u001b[?25hRequirement already satisfied: pygments<3.0.0,>=2.6.0 in /usr/local/lib/python3.7/dist-packages (from rich>=10.4.0->keybert) (2.6.1)\n",
            "Requirement already satisfied: typing-extensions<5.0,>=4.0.0 in /usr/local/lib/python3.7/dist-packages (from rich>=10.4.0->keybert) (4.1.1)\n",
            "Collecting commonmark<0.10.0,>=0.9.0\n",
            "  Downloading commonmark-0.9.1-py2.py3-none-any.whl (51 kB)\n",
            "\u001b[K     |████████████████████████████████| 51 kB 7.4 MB/s \n",
            "\u001b[?25hRequirement already satisfied: joblib>=0.11 in /usr/local/lib/python3.7/dist-packages (from scikit-learn>=0.22.2->keybert) (1.2.0)\n",
            "Requirement already satisfied: threadpoolctl>=2.0.0 in /usr/local/lib/python3.7/dist-packages (from scikit-learn>=0.22.2->keybert) (3.1.0)\n",
            "Requirement already satisfied: scipy>=1.1.0 in /usr/local/lib/python3.7/dist-packages (from scikit-learn>=0.22.2->keybert) (1.7.3)\n",
            "Collecting transformers<5.0.0,>=4.6.0\n",
            "  Downloading transformers-4.24.0-py3-none-any.whl (5.5 MB)\n",
            "\u001b[K     |████████████████████████████████| 5.5 MB 53.2 MB/s \n",
            "\u001b[?25hRequirement already satisfied: tqdm in /usr/local/lib/python3.7/dist-packages (from sentence-transformers>=0.3.8->keybert) (4.64.1)\n",
            "Requirement already satisfied: torch>=1.6.0 in /usr/local/lib/python3.7/dist-packages (from sentence-transformers>=0.3.8->keybert) (1.12.1+cu113)\n",
            "Requirement already satisfied: torchvision in /usr/local/lib/python3.7/dist-packages (from sentence-transformers>=0.3.8->keybert) (0.13.1+cu113)\n",
            "Requirement already satisfied: nltk in /usr/local/lib/python3.7/dist-packages (from sentence-transformers>=0.3.8->keybert) (3.7)\n",
            "Collecting sentencepiece\n",
            "  Downloading sentencepiece-0.1.97-cp37-cp37m-manylinux_2_17_x86_64.manylinux2014_x86_64.whl (1.3 MB)\n",
            "\u001b[K     |████████████████████████████████| 1.3 MB 69.3 MB/s \n",
            "\u001b[?25hCollecting huggingface-hub>=0.4.0\n",
            "  Downloading huggingface_hub-0.11.0-py3-none-any.whl (182 kB)\n",
            "\u001b[K     |████████████████████████████████| 182 kB 55.3 MB/s \n",
            "\u001b[?25hRequirement already satisfied: packaging>=20.9 in /usr/local/lib/python3.7/dist-packages (from huggingface-hub>=0.4.0->sentence-transformers>=0.3.8->keybert) (21.3)\n",
            "Requirement already satisfied: filelock in /usr/local/lib/python3.7/dist-packages (from huggingface-hub>=0.4.0->sentence-transformers>=0.3.8->keybert) (3.8.0)\n",
            "Requirement already satisfied: importlib-metadata in /usr/local/lib/python3.7/dist-packages (from huggingface-hub>=0.4.0->sentence-transformers>=0.3.8->keybert) (4.13.0)\n",
            "Requirement already satisfied: pyyaml>=5.1 in /usr/local/lib/python3.7/dist-packages (from huggingface-hub>=0.4.0->sentence-transformers>=0.3.8->keybert) (6.0)\n",
            "Requirement already satisfied: requests in /usr/local/lib/python3.7/dist-packages (from huggingface-hub>=0.4.0->sentence-transformers>=0.3.8->keybert) (2.23.0)\n",
            "Requirement already satisfied: pyparsing!=3.0.5,>=2.0.2 in /usr/local/lib/python3.7/dist-packages (from packaging>=20.9->huggingface-hub>=0.4.0->sentence-transformers>=0.3.8->keybert) (3.0.9)\n",
            "Collecting tokenizers!=0.11.3,<0.14,>=0.11.1\n",
            "  Downloading tokenizers-0.13.2-cp37-cp37m-manylinux_2_17_x86_64.manylinux2014_x86_64.whl (7.6 MB)\n",
            "\u001b[K     |████████████████████████████████| 7.6 MB 54.2 MB/s \n",
            "\u001b[?25hRequirement already satisfied: regex!=2019.12.17 in /usr/local/lib/python3.7/dist-packages (from transformers<5.0.0,>=4.6.0->sentence-transformers>=0.3.8->keybert) (2022.6.2)\n",
            "Requirement already satisfied: zipp>=0.5 in /usr/local/lib/python3.7/dist-packages (from importlib-metadata->huggingface-hub>=0.4.0->sentence-transformers>=0.3.8->keybert) (3.10.0)\n",
            "Requirement already satisfied: click in /usr/local/lib/python3.7/dist-packages (from nltk->sentence-transformers>=0.3.8->keybert) (7.1.2)\n",
            "Requirement already satisfied: idna<3,>=2.5 in /usr/local/lib/python3.7/dist-packages (from requests->huggingface-hub>=0.4.0->sentence-transformers>=0.3.8->keybert) (2.10)\n",
            "Requirement already satisfied: certifi>=2017.4.17 in /usr/local/lib/python3.7/dist-packages (from requests->huggingface-hub>=0.4.0->sentence-transformers>=0.3.8->keybert) (2022.9.24)\n",
            "Requirement already satisfied: chardet<4,>=3.0.2 in /usr/local/lib/python3.7/dist-packages (from requests->huggingface-hub>=0.4.0->sentence-transformers>=0.3.8->keybert) (3.0.4)\n",
            "Requirement already satisfied: urllib3!=1.25.0,!=1.25.1,<1.26,>=1.21.1 in /usr/local/lib/python3.7/dist-packages (from requests->huggingface-hub>=0.4.0->sentence-transformers>=0.3.8->keybert) (1.24.3)\n",
            "Requirement already satisfied: pillow!=8.3.*,>=5.3.0 in /usr/local/lib/python3.7/dist-packages (from torchvision->sentence-transformers>=0.3.8->keybert) (7.1.2)\n",
            "Building wheels for collected packages: keybert, sentence-transformers\n",
            "  Building wheel for keybert (setup.py) ... \u001b[?25l\u001b[?25hdone\n",
            "  Created wheel for keybert: filename=keybert-0.7.0-py3-none-any.whl size=23799 sha256=603deda85dbdf2d62213c3a3b0a72ac7033e03022665085fd18d8bbbd13a37fe\n",
            "  Stored in directory: /root/.cache/pip/wheels/85/0d/12/77d219f3ebbb22dc22234b4d665886c0eace86a26eca0aa72b\n",
            "  Building wheel for sentence-transformers (setup.py) ... \u001b[?25l\u001b[?25hdone\n",
            "  Created wheel for sentence-transformers: filename=sentence_transformers-2.2.2-py3-none-any.whl size=125938 sha256=2cace938fa34b3fc6bf3b53ded558c4b79aa9c84a90f6f8f5c4a406ceee14ab9\n",
            "  Stored in directory: /root/.cache/pip/wheels/bf/06/fb/d59c1e5bd1dac7f6cf61ec0036cc3a10ab8fecaa6b2c3d3ee9\n",
            "Successfully built keybert sentence-transformers\n",
            "Installing collected packages: tokenizers, huggingface-hub, transformers, sentencepiece, commonmark, sentence-transformers, rich, keybert\n",
            "Successfully installed commonmark-0.9.1 huggingface-hub-0.11.0 keybert-0.7.0 rich-12.6.0 sentence-transformers-2.2.2 sentencepiece-0.1.97 tokenizers-0.13.2 transformers-4.24.0\n"
          ]
        }
      ]
    },
    {
      "cell_type": "code",
      "source": [
        "from keybert import KeyBERT"
      ],
      "metadata": {
        "id": "BPyYvmbg7U3u"
      },
      "execution_count": 21,
      "outputs": []
    },
    {
      "cell_type": "code",
      "source": [
        "# загрузим мультиязычную модельку для sentence-transformers\n",
        "kw_model = KeyBERT('clips/mfaq')"
      ],
      "metadata": {
        "colab": {
          "base_uri": "https://localhost:8080/",
          "height": 488,
          "referenced_widgets": [
            "b54430b805f9424c8488ee80551b6ab4",
            "b77a46796f184a1c9d618446915b7317",
            "05cc3261761647bc9fd35bf14f072f88",
            "9c6daff0b0ef43d5b3f733d56a4c4b91",
            "39be57603e7a4ea4a8634fa6c4a8271d",
            "be3a02a16f424289b9b8e0604da9dfcd",
            "8bf1cc83a66d442ebabbb05157078f72",
            "90ce644b39a54c339ac8963a56b9f9d5",
            "013919bc55e14e2dbe4aa5e6e1b86a2d",
            "e21f50ebecb848678151ad35a992f2ec",
            "0698984114224fd2a1669dd0d0e548b5",
            "05b3ccf8049c462d9ccd3b6725738143",
            "277a883976f74ea0931b492e03333180",
            "804bdef939994165afa88962b9f796e5",
            "0946b0d11e614da797af0189bad15eb0",
            "fcece20736624922965f288f154bd78c",
            "fbef2798a6154821bcebb4dd1ae64c3a",
            "46e73fae7e0c4a88bb4cbed6bfc99e27",
            "d112b72b24b8486ca30c8267766e57c9",
            "ab31d6718bbc47a183c764756edfcf07",
            "4e119f0975e04e0a9c4d5bdbab2e7fcb",
            "a55674af72894822973d751f29d95056",
            "4ca3c14302374560a166bb969a2f962a",
            "8b9454b54c66484a806cda0570cedb56",
            "caee0271586f441d893ca29711d75d13",
            "9225ca364b504d5da8faf9641b94144c",
            "fe7d4dc928b14f488ec1ba91271e5434",
            "c4ca992e73e14a75b3012bf7d82559cf",
            "248b268e0fa94fb38b3ff4a458ef8f8b",
            "32018de784854dac91ff72cc729d744c",
            "b23a3a033a9248fa8e90683b6f70a293",
            "02e5471a1f6a49969e7073585addf21c",
            "46251a871fc342ddb84483522c92ad97",
            "86c8c4818e484a11b3b318546082032c",
            "1ed7c0eb2ca24d658d4934c22158db3a",
            "38937651829f4437b5fd39c914514bd2",
            "8bcd536997d14e1aae8f2df23000570d",
            "ac509f2bac61409cb91527e5b32b27ef",
            "cba1ea9546e74ad0a7f6c51599bff050",
            "fad46896a98a40beb5c641d7337f5336",
            "09d3e2d4d99547f3bf4990d2be523ff2",
            "ff5f20c166114545aed12b3cba99e3c4",
            "573d774500e74d54a44a71cb0b483c71",
            "59d16343e7854c3bb9e68c5c1d1e4282",
            "9cfba1bcb4b1498490049e9a6e13a465",
            "9df2c910243c4670b218660379de70dd",
            "96dcf2fefa31485f9da2fd41c93e957f",
            "1f5851e7088f4118a71186f7dec9eeb1",
            "1e6b1986d0674ab58184809d7c1c87ae",
            "86519204effd4cba99b2be759e2db492",
            "ea28acc65ba8495c8eb13ea5b147a42d",
            "3cdf26a5573c451793ad25ab6b122dd5",
            "3ae7b623d00b44509958ba1764963ad1",
            "0dd5d298843a4a898c315ad7e8f08bea",
            "b867a30233fb42439aabd11a7bff6628",
            "089dbd1ff4064d40a34fa27c9a9891f7",
            "8e5f33d8fba24a46b9a0b5202abd64a5",
            "17f404297c3641d28401bb122cdc88af",
            "c513478671b24281a3fa9246e6779351",
            "fb086a07b4f04eac9ae37a0df61fe96d",
            "a45bce80d6084d8a9dd410b051827413",
            "c3f88521a21e44f4ba13bd7519b9fe2a",
            "c8b2bcc1b9e446808a23eec0091d1844",
            "db59e27131fe4e2ebb600eacaabe9b69",
            "f1f294138b4048c79f1d41d1b52b9d28",
            "78ad1d263dd443579014a84240b83b77",
            "d138e6fb6d5040158731c01b19c88026",
            "49a14d207ab647e58f2c832a45ef1418",
            "0966a4168e434a0097c9e56298167c7f",
            "4e80f6a7105f46f59095254ec3265ceb",
            "d77d903df2d047cb8aaebdbc3b008af3",
            "a1ff55e7808441e9b1fd0358cba0c6c0",
            "0f3d786741104b449e973ad9c426c1ce",
            "c5b11474df5f4f2db02a16f44a9dfd21",
            "891b9ca9f97a48299ddec211a15637f2",
            "3a8bf7b501994100bdcef9290646cda7",
            "7e61e49e194b43068ea222c5d2760bc2",
            "17f4a99c7e5c42c1851d4d84a50d9ac9",
            "91c83717e703453c8741322d85de8797",
            "13b7cd36c8b84996a4649baf279efbc8",
            "ad9cbdbb5c7047fe98fadcf27b97a6c1",
            "7d900fd323d44542a4db3a8ee75a7c41",
            "5e03ea0f00874996b10e8e5571db758c",
            "8411a90f49c1464087021739372ac1d8",
            "c7ec377d01494bababd9d2bdb868b949",
            "762cfed2331b48fcbeb4fab1ca6382a5",
            "d35efa798f9d47f8a053095f5ce1cea4",
            "5b32df862955469fb3dc89a87b348e87",
            "bedaef59ba834849ba109e9a79f929c9",
            "a84aa389caab4ee9a564cb4619b34a3c",
            "0a9bdd9752df4b049501e6e1e107ec65",
            "8c6b088788b741b2abca0baee227ab9a",
            "9a66808c7bf148609a5139fb5af39dcd",
            "eb86c16b30bd4f4caad49f303460a446",
            "c253b116e91e43929c08f59dd0ba0344",
            "a8710108974149d8843d87b91b0b1123",
            "abca1b60781e412c9768b9d1d578bfb8",
            "c1e5c28adbc1443a8bb31e98e624e2ce",
            "20dc28b4ffcf49efa0b80c31749c0241",
            "69b4700decf84980a4c02b710bf0e8ae",
            "40a713e8af334c4b8d57ff62d2bfe18a",
            "ba585916809d4126ad6f51a34bcf8813",
            "25bc100ba511465fbac6c32a53ea8676",
            "0e08b59638cc4f579850c61562676a58",
            "a2388bc7858e4bac9c96cffa36abae79",
            "17bee8b8b77f4d3ca7e8ba47424930fb",
            "7184f36a10c54966b1f71d9ff025ac13",
            "63959bb727214febb9ee308fe3cdc6d6",
            "6737c10fe1a943a799432a202d1f2aef",
            "ba8314bc2bf043d2badb413b26e3b655",
            "95efff2cc3fa435bb398913ff740ff64",
            "2e436dd52e9e4f71a2a56bf12c19a110",
            "d007cd047abd4282af642b0dccdbbee1",
            "0e7d2431aa0947f19b2d7d3b3746c664",
            "55786b0782794afab2005111bea2ad5f",
            "37664acdb1c84510b1861d6a7274279d",
            "cce7383af7f244b699538636099faa43",
            "478c08412bc2485b88cb780dd355c4bc",
            "f5508f14573e479ba690e572f20dd518",
            "e7d15e130ec74ee3bf59390ad568e58f",
            "795a75751d4d44b48b5aee7f50b6eef8",
            "c4d978fbd77246668d86836bf64ef249",
            "189a3ebceebe4d03b94506755705f00d",
            "96d6f99b526142d58fb712b67d5dd23c",
            "d663d323440f463b81850422a827b585",
            "351dc09367cb4704a96363aaee217b3f",
            "aa573a372d014318ba6ea10cb146b548",
            "18ed460a5a5347c585bd61bd9610b492",
            "c39091385656461ba7aa6e3d56e7fbad",
            "521ac403840a4d2eb3a305c3245de871",
            "0a7eceb0b24c42a399460921ed5792c0",
            "aee9f2a883174c15ab53729a74bb2d43",
            "4580669ad03c41e2b3e3d1bdb8e4cfb0",
            "393e7457e81e407790959f04b3a0aa94",
            "43735e6e1de4496cbcf89eb2e3c1772c",
            "06263b984e48434b8be588b655cd90e8",
            "79fa7181e6e54152b45e0263d8763900",
            "aa10d1eddaa04feeb0d35f87d5659d96",
            "d849bd964c304e72943d753bb8ea2cdd",
            "dd6cf92aaaee4495acb7da3be1918062",
            "d4ba967773a140c08663ace85184a4b1",
            "b267cbcada0a41119e05e15de28248b2",
            "3d4ae6f2d8e14c39bddc19745b8782f7"
          ]
        },
        "id": "EcKjypdT7a3e",
        "outputId": "66d617f0-a54d-45b9-89ec-3718bc26aa3a"
      },
      "execution_count": 22,
      "outputs": [
        {
          "output_type": "display_data",
          "data": {
            "text/plain": [
              "Downloading:   0%|          | 0.00/1.65k [00:00<?, ?B/s]"
            ],
            "application/vnd.jupyter.widget-view+json": {
              "version_major": 2,
              "version_minor": 0,
              "model_id": "b54430b805f9424c8488ee80551b6ab4"
            }
          },
          "metadata": {}
        },
        {
          "output_type": "display_data",
          "data": {
            "text/plain": [
              "Downloading:   0%|          | 0.00/190 [00:00<?, ?B/s]"
            ],
            "application/vnd.jupyter.widget-view+json": {
              "version_major": 2,
              "version_minor": 0,
              "model_id": "05b3ccf8049c462d9ccd3b6725738143"
            }
          },
          "metadata": {}
        },
        {
          "output_type": "display_data",
          "data": {
            "text/plain": [
              "Downloading:   0%|          | 0.00/3.74k [00:00<?, ?B/s]"
            ],
            "application/vnd.jupyter.widget-view+json": {
              "version_major": 2,
              "version_minor": 0,
              "model_id": "4ca3c14302374560a166bb969a2f962a"
            }
          },
          "metadata": {}
        },
        {
          "output_type": "display_data",
          "data": {
            "text/plain": [
              "Downloading:   0%|          | 0.00/48.0 [00:00<?, ?B/s]"
            ],
            "application/vnd.jupyter.widget-view+json": {
              "version_major": 2,
              "version_minor": 0,
              "model_id": "86c8c4818e484a11b3b318546082032c"
            }
          },
          "metadata": {}
        },
        {
          "output_type": "display_data",
          "data": {
            "text/plain": [
              "Downloading:   0%|          | 0.00/778 [00:00<?, ?B/s]"
            ],
            "application/vnd.jupyter.widget-view+json": {
              "version_major": 2,
              "version_minor": 0,
              "model_id": "9cfba1bcb4b1498490049e9a6e13a465"
            }
          },
          "metadata": {}
        },
        {
          "output_type": "display_data",
          "data": {
            "text/plain": [
              "Downloading:   0%|          | 0.00/117 [00:00<?, ?B/s]"
            ],
            "application/vnd.jupyter.widget-view+json": {
              "version_major": 2,
              "version_minor": 0,
              "model_id": "089dbd1ff4064d40a34fa27c9a9891f7"
            }
          },
          "metadata": {}
        },
        {
          "output_type": "display_data",
          "data": {
            "text/plain": [
              "Downloading:   0%|          | 0.00/1.11G [00:00<?, ?B/s]"
            ],
            "application/vnd.jupyter.widget-view+json": {
              "version_major": 2,
              "version_minor": 0,
              "model_id": "d138e6fb6d5040158731c01b19c88026"
            }
          },
          "metadata": {}
        },
        {
          "output_type": "display_data",
          "data": {
            "text/plain": [
              "Downloading:   0%|          | 0.00/53.0 [00:00<?, ?B/s]"
            ],
            "application/vnd.jupyter.widget-view+json": {
              "version_major": 2,
              "version_minor": 0,
              "model_id": "17f4a99c7e5c42c1851d4d84a50d9ac9"
            }
          },
          "metadata": {}
        },
        {
          "output_type": "display_data",
          "data": {
            "text/plain": [
              "Downloading:   0%|          | 0.00/5.07M [00:00<?, ?B/s]"
            ],
            "application/vnd.jupyter.widget-view+json": {
              "version_major": 2,
              "version_minor": 0,
              "model_id": "bedaef59ba834849ba109e9a79f929c9"
            }
          },
          "metadata": {}
        },
        {
          "output_type": "display_data",
          "data": {
            "text/plain": [
              "Downloading:   0%|          | 0.00/294 [00:00<?, ?B/s]"
            ],
            "application/vnd.jupyter.widget-view+json": {
              "version_major": 2,
              "version_minor": 0,
              "model_id": "69b4700decf84980a4c02b710bf0e8ae"
            }
          },
          "metadata": {}
        },
        {
          "output_type": "display_data",
          "data": {
            "text/plain": [
              "Downloading:   0%|          | 0.00/9.08M [00:00<?, ?B/s]"
            ],
            "application/vnd.jupyter.widget-view+json": {
              "version_major": 2,
              "version_minor": 0,
              "model_id": "95efff2cc3fa435bb398913ff740ff64"
            }
          },
          "metadata": {}
        },
        {
          "output_type": "display_data",
          "data": {
            "text/plain": [
              "Downloading:   0%|          | 0.00/464 [00:00<?, ?B/s]"
            ],
            "application/vnd.jupyter.widget-view+json": {
              "version_major": 2,
              "version_minor": 0,
              "model_id": "c4d978fbd77246668d86836bf64ef249"
            }
          },
          "metadata": {}
        },
        {
          "output_type": "display_data",
          "data": {
            "text/plain": [
              "Downloading:   0%|          | 0.00/229 [00:00<?, ?B/s]"
            ],
            "application/vnd.jupyter.widget-view+json": {
              "version_major": 2,
              "version_minor": 0,
              "model_id": "4580669ad03c41e2b3e3d1bdb8e4cfb0"
            }
          },
          "metadata": {}
        },
        {
          "output_type": "stream",
          "name": "stderr",
          "text": [
            "/usr/local/lib/python3.7/dist-packages/transformers/configuration_utils.py:370: UserWarning: Passing `gradient_checkpointing` to a config initialization is deprecated and will be removed in v5 Transformers. Using `model.gradient_checkpointing_enable()` instead, or if you are using the `Trainer` API, pass `gradient_checkpointing=True` in your `TrainingArguments`.\n",
            "  \"Passing `gradient_checkpointing` to a config initialization is deprecated and will be removed in v5 \"\n"
          ]
        }
      ]
    },
    {
      "cell_type": "code",
      "source": [
        "# сначала монограммы, потом биграммы, потом триграммы, а затем объединить это все\n",
        "# для каждого текста как общий список извлеченных ключевых слов"
      ],
      "metadata": {
        "id": "uKvj702Z40p2"
      },
      "execution_count": null,
      "outputs": []
    },
    {
      "cell_type": "code",
      "source": [
        "# текст 1"
      ],
      "metadata": {
        "id": "bm4cyrjEaF6B"
      },
      "execution_count": null,
      "outputs": []
    },
    {
      "cell_type": "code",
      "source": [
        "# Словосочетания / n-граммы + лемматизация\n",
        "# сначала только единичные слова\n",
        "kw_model.extract_keywords(normalize_text(text1), keyphrase_ngram_range=(1, 1), stop_words=stop)"
      ],
      "metadata": {
        "colab": {
          "base_uri": "https://localhost:8080/"
        },
        "id": "G6JGC2VDaDWL",
        "outputId": "d0b38c0e-543b-4877-a8aa-8de234912583"
      },
      "execution_count": 57,
      "outputs": [
        {
          "output_type": "execute_result",
          "data": {
            "text/plain": [
              "[('самоотношение', 0.9691),\n",
              " ('поведение', 0.9683),\n",
              " ('влиять', 0.966),\n",
              " ('влияние', 0.9657),\n",
              " ('личностный', 0.9642)]"
            ]
          },
          "metadata": {},
          "execution_count": 57
        }
      ]
    },
    {
      "cell_type": "code",
      "source": [
        "# Словосочетания / n-граммы + лемматизация\n",
        "# затем биграммы\n",
        "kw_model.extract_keywords(normalize_text(text1), keyphrase_ngram_range=(1, 2), stop_words=stop)"
      ],
      "metadata": {
        "colab": {
          "base_uri": "https://localhost:8080/"
        },
        "id": "fnSHtZfJ8aCv",
        "outputId": "5c89038d-01c2-4c47-f2bf-84c0a983a72f"
      },
      "execution_count": 58,
      "outputs": [
        {
          "output_type": "execute_result",
          "data": {
            "text/plain": [
              "[('влияние самоотношение', 0.9751),\n",
              " ('влиять отношение', 0.9731),\n",
              " ('поведение человек', 0.9731),\n",
              " ('личность поведение', 0.9728),\n",
              " ('самоотношение личность', 0.9722)]"
            ]
          },
          "metadata": {},
          "execution_count": 58
        }
      ]
    },
    {
      "cell_type": "code",
      "source": [
        "# Словосочетания / n-граммы + лемматизация\n",
        "# затем триграммы\n",
        "kw_model.extract_keywords(normalize_text(text1), keyphrase_ngram_range=(1, 3), stop_words=stop)"
      ],
      "metadata": {
        "colab": {
          "base_uri": "https://localhost:8080/"
        },
        "id": "yw90QY_SbVMS",
        "outputId": "7d6135c7-7f6d-4d84-82d7-cb635e009c4a"
      },
      "execution_count": 59,
      "outputs": [
        {
          "output_type": "execute_result",
          "data": {
            "text/plain": [
              "[('личность оказывать влияние', 0.9774),\n",
              " ('влияние самоотношение определяться', 0.9768),\n",
              " ('личность поведение человек', 0.9763),\n",
              " ('регуляторный влияние самоотношение', 0.9758),\n",
              " ('влияние самоотношение', 0.9751)]"
            ]
          },
          "metadata": {},
          "execution_count": 59
        }
      ]
    },
    {
      "cell_type": "code",
      "source": [
        "# создаем словарь\n",
        "s1 = kw_model.extract_keywords(normalize_text(text1), keyphrase_ngram_range=(1, 1), stop_words=stop)\n",
        "dic = []\n",
        "for i in range(len(s1)):\n",
        "    dic.append(s1[i][0])\n",
        "\n",
        "s2 = kw_model.extract_keywords(normalize_text(text1), keyphrase_ngram_range=(1, 2), stop_words=stop)\n",
        "for i in range(len(s2)):\n",
        "    if s2[i][0] not in dic:\n",
        "        dic.append(s2[i][0])\n",
        "\n",
        "s3 = kw_model.extract_keywords(normalize_text(text1), keyphrase_ngram_range=(1, 3), stop_words=stop)\n",
        "for i in range(len(s3)):\n",
        "    if s3[i][0] not in dic:\n",
        "        dic.append(s3[i][0])\n",
        "\n",
        "# метрики\n",
        "\n",
        "true_pos, false_pos, false_neg = error_matr_counts(key_words1, dic) \n",
        "\n",
        "# точность\n",
        "precision = true_pos / (true_pos + false_pos + 0.000001)\n",
        "print('точность: ', precision)\n",
        "\n",
        "# полнота\n",
        "recall = true_pos / (true_pos + false_neg + 0.000001)\n",
        "print('полнота: ', recall)\n",
        "\n",
        "# f1-мера\n",
        "f1 = 2 * (precision*recall) / (precision + recall + 0.000001)\n",
        "print('f1-мера: ', f1)"
      ],
      "metadata": {
        "colab": {
          "base_uri": "https://localhost:8080/"
        },
        "id": "mv3Ac_i4oHBS",
        "outputId": "bb7731fb-e0e6-424a-9cdd-9d1101883c0e"
      },
      "execution_count": 166,
      "outputs": [
        {
          "output_type": "stream",
          "name": "stdout",
          "text": [
            "точность:  0.07142856632653098\n",
            "полнота:  0.12499998437500197\n",
            "f1-мера:  0.09090861983706086\n"
          ]
        }
      ]
    },
    {
      "cell_type": "code",
      "source": [
        "# текст 2"
      ],
      "metadata": {
        "id": "vgP0n9wM-ozy"
      },
      "execution_count": null,
      "outputs": []
    },
    {
      "cell_type": "code",
      "source": [
        "# Словосочетания / n-граммы + лемматизация\n",
        "# сначала только единичные слова\n",
        "kw_model.extract_keywords(normalize_text(text2), keyphrase_ngram_range=(1, 1), stop_words=stop)"
      ],
      "metadata": {
        "colab": {
          "base_uri": "https://localhost:8080/"
        },
        "id": "jVrNFZlPcvHI",
        "outputId": "3edde40f-5b41-4c7f-fe01-3d1d8506557f"
      },
      "execution_count": 63,
      "outputs": [
        {
          "output_type": "execute_result",
          "data": {
            "text/plain": [
              "[('литература', 0.9672),\n",
              " ('концепция', 0.9665),\n",
              " ('психологический', 0.9661),\n",
              " ('описательный', 0.966),\n",
              " ('сюжет', 0.966)]"
            ]
          },
          "metadata": {},
          "execution_count": 63
        }
      ]
    },
    {
      "cell_type": "code",
      "source": [
        "# Словосочетания / n-граммы + лемматизация\n",
        "# затем биграммы\n",
        "kw_model.extract_keywords(normalize_text(text2), keyphrase_ngram_range=(1, 2), stop_words=stop)"
      ],
      "metadata": {
        "colab": {
          "base_uri": "https://localhost:8080/"
        },
        "id": "hac_4R2Ec1Zs",
        "outputId": "d65fba46-0d13-41b5-dbde-c8e7e71ec23f"
      },
      "execution_count": 64,
      "outputs": [
        {
          "output_type": "execute_result",
          "data": {
            "text/plain": [
              "[('литература контекст', 0.9714),\n",
              " ('писатель подход', 0.9701),\n",
              " ('писательский поведение', 0.9696),\n",
              " ('текстовый аспект', 0.9692),\n",
              " ('текст книга', 0.9692)]"
            ]
          },
          "metadata": {},
          "execution_count": 64
        }
      ]
    },
    {
      "cell_type": "code",
      "source": [
        "# Словосочетания / n-граммы + лемматизация\n",
        "# затем триграммы\n",
        "kw_model.extract_keywords(normalize_text(text2), keyphrase_ngram_range=(1, 3), stop_words=stop)"
      ],
      "metadata": {
        "colab": {
          "base_uri": "https://localhost:8080/"
        },
        "id": "8N7cTr9fc7N-",
        "outputId": "5689484c-c7d4-4805-cc2a-d108e010d2fa"
      },
      "execution_count": 65,
      "outputs": [
        {
          "output_type": "execute_result",
          "data": {
            "text/plain": [
              "[('литература контекст развитие', 0.9732),\n",
              " ('литература рассматривать контекст', 0.972),\n",
              " ('писатель подход понимание', 0.972),\n",
              " ('литература авторский стратегия', 0.9717),\n",
              " ('литература контекст', 0.9714)]"
            ]
          },
          "metadata": {},
          "execution_count": 65
        }
      ]
    },
    {
      "cell_type": "code",
      "source": [
        "# создаем словарь\n",
        "s1 = kw_model.extract_keywords(normalize_text(text2), keyphrase_ngram_range=(1, 1), stop_words=stop)\n",
        "dic = []\n",
        "for i in range(len(s1)):\n",
        "    dic.append(s1[i][0])\n",
        "\n",
        "s2 = kw_model.extract_keywords(normalize_text(text2), keyphrase_ngram_range=(1, 2), stop_words=stop)\n",
        "for i in range(len(s2)):\n",
        "    if s2[i][0] not in dic:\n",
        "        dic.append(s2[i][0])\n",
        "\n",
        "s3 = kw_model.extract_keywords(normalize_text(text2), keyphrase_ngram_range=(1, 3), stop_words=stop)\n",
        "for i in range(len(s3)):\n",
        "    if s3[i][0] not in dic:\n",
        "        dic.append(s3[i][0])\n",
        "\n",
        "# метрики\n",
        "\n",
        "true_pos, false_pos, false_neg = error_matr_counts(key_words2, dic) \n",
        "\n",
        "# точность\n",
        "precision = true_pos / (true_pos + false_pos + 0.000001)\n",
        "print('точность: ', precision)\n",
        "\n",
        "# полнота\n",
        "recall = true_pos / (true_pos + false_neg + 0.000001)\n",
        "print('полнота: ', recall)\n",
        "\n",
        "# f1-мера\n",
        "f1 = 2 * (precision*recall) / (precision + recall + 0.000001)\n",
        "print('f1-мера: ', f1)"
      ],
      "metadata": {
        "colab": {
          "base_uri": "https://localhost:8080/"
        },
        "id": "1Jpu6iauparD",
        "outputId": "f370f31f-607f-4717-d030-eb591b2585f5"
      },
      "execution_count": 167,
      "outputs": [
        {
          "output_type": "stream",
          "name": "stdout",
          "text": [
            "точность:  0.07142856632653098\n",
            "полнота:  0.09999999000000101\n",
            "f1-мера:  0.08333284028061169\n"
          ]
        }
      ]
    },
    {
      "cell_type": "code",
      "source": [
        "# текст 3"
      ],
      "metadata": {
        "id": "j09ir5o9coSU"
      },
      "execution_count": null,
      "outputs": []
    },
    {
      "cell_type": "code",
      "source": [
        "# Словосочетания / n-граммы + лемматизация\n",
        "# сначала только единичные слова\n",
        "kw_model.extract_keywords(normalize_text(text3), keyphrase_ngram_range=(1, 1), stop_words=stop)"
      ],
      "metadata": {
        "colab": {
          "base_uri": "https://localhost:8080/"
        },
        "id": "Wkw-6o7OcwHc",
        "outputId": "90725e16-c44a-412e-8adc-02e81cbb072f"
      },
      "execution_count": 66,
      "outputs": [
        {
          "output_type": "execute_result",
          "data": {
            "text/plain": [
              "[('исследование', 0.9687),\n",
              " ('статья', 0.968),\n",
              " ('рассматривать', 0.9674),\n",
              " ('наука', 0.9671),\n",
              " ('криминология', 0.9663)]"
            ]
          },
          "metadata": {},
          "execution_count": 66
        }
      ]
    },
    {
      "cell_type": "code",
      "source": [
        "# Словосочетания / n-граммы + лемматизация\n",
        "# затем биграммы\n",
        "kw_model.extract_keywords(normalize_text(text3), keyphrase_ngram_range=(1, 2), stop_words=stop)"
      ],
      "metadata": {
        "colab": {
          "base_uri": "https://localhost:8080/"
        },
        "id": "wXiSIfpBc2Wa",
        "outputId": "cbd4ac31-511e-495f-c7e2-0bb7a3e9c43b"
      },
      "execution_count": 67,
      "outputs": [
        {
          "output_type": "execute_result",
          "data": {
            "text/plain": [
              "[('исследование', 0.9687),\n",
              " ('статья', 0.968),\n",
              " ('интернет криминализация', 0.968),\n",
              " ('научный исследование', 0.9678),\n",
              " ('статья предложный', 0.9676)]"
            ]
          },
          "metadata": {},
          "execution_count": 67
        }
      ]
    },
    {
      "cell_type": "code",
      "source": [
        "# Словосочетания / n-граммы + лемматизация\n",
        "# затем триграммы\n",
        "kw_model.extract_keywords(normalize_text(text3), keyphrase_ngram_range=(1, 3), stop_words=stop)"
      ],
      "metadata": {
        "colab": {
          "base_uri": "https://localhost:8080/"
        },
        "id": "k0VRbeOpc8SJ",
        "outputId": "c5c3763a-cb43-434c-869b-b17c859f098c"
      },
      "execution_count": 68,
      "outputs": [
        {
          "output_type": "execute_result",
          "data": {
            "text/plain": [
              "[('распространение детский порнография', 0.9733),\n",
              " ('понятие детский порнография', 0.9688),\n",
              " ('исследование', 0.9687),\n",
              " ('интернет автор проанализировать', 0.9685),\n",
              " ('сеть интернет криминализация', 0.9684)]"
            ]
          },
          "metadata": {},
          "execution_count": 68
        }
      ]
    },
    {
      "cell_type": "code",
      "source": [
        "# создаем словарь\n",
        "s1 = kw_model.extract_keywords(normalize_text(text3), keyphrase_ngram_range=(1, 1), stop_words=stop)\n",
        "dic = []\n",
        "for i in range(len(s1)):\n",
        "    dic.append(s1[i][0])\n",
        "\n",
        "s2 = kw_model.extract_keywords(normalize_text(text3), keyphrase_ngram_range=(1, 2), stop_words=stop)\n",
        "for i in range(len(s2)):\n",
        "    if s2[i][0] not in dic:\n",
        "        dic.append(s2[i][0])\n",
        "\n",
        "s3 = kw_model.extract_keywords(normalize_text(text3), keyphrase_ngram_range=(1, 3), stop_words=stop)\n",
        "for i in range(len(s3)):\n",
        "    if s3[i][0] not in dic:\n",
        "        dic.append(s3[i][0])\n",
        "\n",
        "# метрики\n",
        "\n",
        "true_pos, false_pos, false_neg = error_matr_counts(key_words3, dic) \n",
        "\n",
        "# точность\n",
        "precision = true_pos / (true_pos + false_pos + 0.000001)\n",
        "print('точность: ', precision)\n",
        "\n",
        "# полнота\n",
        "recall = true_pos / (true_pos + false_neg + 0.000001)\n",
        "print('полнота: ', recall)\n",
        "\n",
        "# f1-мера\n",
        "f1 = 2 * (precision*recall) / (precision + recall + 0.000001)\n",
        "print('f1-мера: ', f1)"
      ],
      "metadata": {
        "colab": {
          "base_uri": "https://localhost:8080/"
        },
        "id": "n3_in9AMphnd",
        "outputId": "294dfac0-bbb2-4860-feea-dbbbbee9e2b4"
      },
      "execution_count": 168,
      "outputs": [
        {
          "output_type": "stream",
          "name": "stdout",
          "text": [
            "точность:  0.08333332638888948\n",
            "полнота:  0.12499998437500197\n",
            "f1-мера:  0.09999951000230099\n"
          ]
        }
      ]
    },
    {
      "cell_type": "code",
      "source": [
        "# текст 4"
      ],
      "metadata": {
        "id": "fUZj4RkWcpKC"
      },
      "execution_count": null,
      "outputs": []
    },
    {
      "cell_type": "code",
      "source": [
        "# Словосочетания / n-граммы + лемматизация\n",
        "# сначала только единичные слова\n",
        "kw_model.extract_keywords(normalize_text(text4), keyphrase_ngram_range=(1, 1), stop_words=stop)"
      ],
      "metadata": {
        "colab": {
          "base_uri": "https://localhost:8080/"
        },
        "id": "nZJOdtYWcxSK",
        "outputId": "33ac24c2-bae5-4a1d-822a-49fae6e0a729"
      },
      "execution_count": 69,
      "outputs": [
        {
          "output_type": "execute_result",
          "data": {
            "text/plain": [
              "[('наука', 0.968),\n",
              " ('культура', 0.9674),\n",
              " ('научно', 0.9671),\n",
              " ('законодательство', 0.9668),\n",
              " ('экономический', 0.9667)]"
            ]
          },
          "metadata": {},
          "execution_count": 69
        }
      ]
    },
    {
      "cell_type": "code",
      "source": [
        "# Словосочетания / n-граммы + лемматизация\n",
        "# затем биграммы\n",
        "kw_model.extract_keywords(normalize_text(text4), keyphrase_ngram_range=(1, 2), stop_words=stop)"
      ],
      "metadata": {
        "colab": {
          "base_uri": "https://localhost:8080/"
        },
        "id": "OAw5TA0vc3b2",
        "outputId": "56622026-a1a4-40a5-aa38-2f79c3da8996"
      },
      "execution_count": 70,
      "outputs": [
        {
          "output_type": "execute_result",
          "data": {
            "text/plain": [
              "[('правовой культура', 0.9747),\n",
              " ('правовой знание', 0.9704),\n",
              " ('информационно правовой', 0.9703),\n",
              " ('знание библиотека', 0.97),\n",
              " ('информационный культура', 0.97)]"
            ]
          },
          "metadata": {},
          "execution_count": 70
        }
      ]
    },
    {
      "cell_type": "code",
      "source": [
        "# Словосочетания / n-граммы + лемматизация\n",
        "# затем триграммы\n",
        "kw_model.extract_keywords(normalize_text(text4), keyphrase_ngram_range=(1, 3), stop_words=stop)"
      ],
      "metadata": {
        "colab": {
          "base_uri": "https://localhost:8080/"
        },
        "id": "bqdAKljwc9YZ",
        "outputId": "2c732b3b-3b9b-4fa1-93ba-35e273151dea"
      },
      "execution_count": 71,
      "outputs": [
        {
          "output_type": "execute_result",
          "data": {
            "text/plain": [
              "[('правовой культура неотъемлемый', 0.9759),\n",
              " ('информационно правовой культура', 0.975),\n",
              " ('правовой культура', 0.9747),\n",
              " ('правовой знание библиотека', 0.974),\n",
              " ('правовой культура резко', 0.9728)]"
            ]
          },
          "metadata": {},
          "execution_count": 71
        }
      ]
    },
    {
      "cell_type": "code",
      "source": [
        "# создаем словарь\n",
        "s1 = kw_model.extract_keywords(normalize_text(text4), keyphrase_ngram_range=(1, 1), stop_words=stop)\n",
        "dic = []\n",
        "for i in range(len(s1)):\n",
        "    dic.append(s1[i][0])\n",
        "\n",
        "s2 = kw_model.extract_keywords(normalize_text(text4), keyphrase_ngram_range=(1, 2), stop_words=stop)\n",
        "for i in range(len(s2)):\n",
        "    if s2[i][0] not in dic:\n",
        "        dic.append(s2[i][0])\n",
        "\n",
        "s3 = kw_model.extract_keywords(normalize_text(text4), keyphrase_ngram_range=(1, 3), stop_words=stop)\n",
        "for i in range(len(s3)):\n",
        "    if s3[i][0] not in dic:\n",
        "        dic.append(s3[i][0])\n",
        "\n",
        "# метрики\n",
        "\n",
        "true_pos, false_pos, false_neg = error_matr_counts(key_words4, dic) \n",
        "\n",
        "# точность\n",
        "precision = true_pos / (true_pos + false_pos + 0.000001)\n",
        "print('точность: ', precision)\n",
        "\n",
        "# полнота\n",
        "recall = true_pos / (true_pos + false_neg + 0.000001)\n",
        "print('полнота: ', recall)\n",
        "\n",
        "# f1-мера\n",
        "f1 = 2 * (precision*recall) / (precision + recall + 0.000001)\n",
        "print('f1-мера: ', f1)"
      ],
      "metadata": {
        "colab": {
          "base_uri": "https://localhost:8080/"
        },
        "id": "ewDfEhlEpl8D",
        "outputId": "29febb77-2f7b-4a2a-b1c1-6af36c6747ee"
      },
      "execution_count": 169,
      "outputs": [
        {
          "output_type": "stream",
          "name": "stdout",
          "text": [
            "точность:  0.14285713265306196\n",
            "полнота:  0.285714244897965\n",
            "f1-мера:  0.19047572789218467\n"
          ]
        }
      ]
    },
    {
      "cell_type": "code",
      "source": [],
      "metadata": {
        "id": "WboHMafzcjjk"
      },
      "execution_count": null,
      "outputs": []
    },
    {
      "cell_type": "code",
      "source": [
        "# морфологические/синтаксические шаблоны для ключевых слов и фраз"
      ],
      "metadata": {
        "id": "ZN1bxmTvp0XA"
      },
      "execution_count": null,
      "outputs": []
    },
    {
      "cell_type": "code",
      "source": [
        "# стратегия 1\n",
        "# для каждого текста оставляем только шаблоны (текст состоит из шаблонов)\n",
        "# затем применяем выделение соответствующих ключевых шаблонов и сравниваем\n",
        "# ===> работала очень плохо или вообще не работала\n",
        "\n",
        "# стратегия 2 (ее и будем применять)\n",
        "# выделить из готовых списков ключевых слов только те, которые соответствуют нужным шаблонам"
      ],
      "metadata": {
        "id": "OYVTC8bfq9ax"
      },
      "execution_count": null,
      "outputs": []
    },
    {
      "cell_type": "code",
      "source": [
        "!pip install spacy-udpipe"
      ],
      "metadata": {
        "colab": {
          "base_uri": "https://localhost:8080/"
        },
        "id": "M5BL_TkL-pL1",
        "outputId": "3a9c188b-ab76-4482-b964-5f29a5c81eb9"
      },
      "execution_count": 26,
      "outputs": [
        {
          "output_type": "stream",
          "name": "stdout",
          "text": [
            "Looking in indexes: https://pypi.org/simple, https://us-python.pkg.dev/colab-wheels/public/simple/\n",
            "Collecting spacy-udpipe\n",
            "  Downloading spacy_udpipe-1.0.0-py3-none-any.whl (11 kB)\n",
            "Requirement already satisfied: spacy<4.0.0,>=3.0.0 in /usr/local/lib/python3.7/dist-packages (from spacy-udpipe) (3.4.2)\n",
            "Collecting ufal.udpipe>=1.2.0\n",
            "  Downloading ufal.udpipe-1.2.0.3.tar.gz (304 kB)\n",
            "\u001b[K     |████████████████████████████████| 304 kB 15.0 MB/s \n",
            "\u001b[?25hRequirement already satisfied: pathy>=0.3.5 in /usr/local/lib/python3.7/dist-packages (from spacy<4.0.0,>=3.0.0->spacy-udpipe) (0.6.2)\n",
            "Requirement already satisfied: langcodes<4.0.0,>=3.2.0 in /usr/local/lib/python3.7/dist-packages (from spacy<4.0.0,>=3.0.0->spacy-udpipe) (3.3.0)\n",
            "Requirement already satisfied: pydantic!=1.8,!=1.8.1,<1.11.0,>=1.7.4 in /usr/local/lib/python3.7/dist-packages (from spacy<4.0.0,>=3.0.0->spacy-udpipe) (1.10.2)\n",
            "Requirement already satisfied: preshed<3.1.0,>=3.0.2 in /usr/local/lib/python3.7/dist-packages (from spacy<4.0.0,>=3.0.0->spacy-udpipe) (3.0.8)\n",
            "Requirement already satisfied: packaging>=20.0 in /usr/local/lib/python3.7/dist-packages (from spacy<4.0.0,>=3.0.0->spacy-udpipe) (21.3)\n",
            "Requirement already satisfied: typing-extensions<4.2.0,>=3.7.4 in /usr/local/lib/python3.7/dist-packages (from spacy<4.0.0,>=3.0.0->spacy-udpipe) (4.1.1)\n",
            "Requirement already satisfied: wasabi<1.1.0,>=0.9.1 in /usr/local/lib/python3.7/dist-packages (from spacy<4.0.0,>=3.0.0->spacy-udpipe) (0.10.1)\n",
            "Requirement already satisfied: tqdm<5.0.0,>=4.38.0 in /usr/local/lib/python3.7/dist-packages (from spacy<4.0.0,>=3.0.0->spacy-udpipe) (4.64.1)\n",
            "Requirement already satisfied: thinc<8.2.0,>=8.1.0 in /usr/local/lib/python3.7/dist-packages (from spacy<4.0.0,>=3.0.0->spacy-udpipe) (8.1.5)\n",
            "Requirement already satisfied: murmurhash<1.1.0,>=0.28.0 in /usr/local/lib/python3.7/dist-packages (from spacy<4.0.0,>=3.0.0->spacy-udpipe) (1.0.9)\n",
            "Requirement already satisfied: jinja2 in /usr/local/lib/python3.7/dist-packages (from spacy<4.0.0,>=3.0.0->spacy-udpipe) (2.11.3)\n",
            "Requirement already satisfied: catalogue<2.1.0,>=2.0.6 in /usr/local/lib/python3.7/dist-packages (from spacy<4.0.0,>=3.0.0->spacy-udpipe) (2.0.8)\n",
            "Requirement already satisfied: spacy-loggers<2.0.0,>=1.0.0 in /usr/local/lib/python3.7/dist-packages (from spacy<4.0.0,>=3.0.0->spacy-udpipe) (1.0.3)\n",
            "Requirement already satisfied: requests<3.0.0,>=2.13.0 in /usr/local/lib/python3.7/dist-packages (from spacy<4.0.0,>=3.0.0->spacy-udpipe) (2.23.0)\n",
            "Requirement already satisfied: spacy-legacy<3.1.0,>=3.0.10 in /usr/local/lib/python3.7/dist-packages (from spacy<4.0.0,>=3.0.0->spacy-udpipe) (3.0.10)\n",
            "Requirement already satisfied: srsly<3.0.0,>=2.4.3 in /usr/local/lib/python3.7/dist-packages (from spacy<4.0.0,>=3.0.0->spacy-udpipe) (2.4.5)\n",
            "Requirement already satisfied: cymem<2.1.0,>=2.0.2 in /usr/local/lib/python3.7/dist-packages (from spacy<4.0.0,>=3.0.0->spacy-udpipe) (2.0.7)\n",
            "Requirement already satisfied: typer<0.5.0,>=0.3.0 in /usr/local/lib/python3.7/dist-packages (from spacy<4.0.0,>=3.0.0->spacy-udpipe) (0.4.2)\n",
            "Requirement already satisfied: numpy>=1.15.0 in /usr/local/lib/python3.7/dist-packages (from spacy<4.0.0,>=3.0.0->spacy-udpipe) (1.21.6)\n",
            "Requirement already satisfied: setuptools in /usr/local/lib/python3.7/dist-packages (from spacy<4.0.0,>=3.0.0->spacy-udpipe) (57.4.0)\n",
            "Requirement already satisfied: zipp>=0.5 in /usr/local/lib/python3.7/dist-packages (from catalogue<2.1.0,>=2.0.6->spacy<4.0.0,>=3.0.0->spacy-udpipe) (3.10.0)\n",
            "Requirement already satisfied: pyparsing!=3.0.5,>=2.0.2 in /usr/local/lib/python3.7/dist-packages (from packaging>=20.0->spacy<4.0.0,>=3.0.0->spacy-udpipe) (3.0.9)\n",
            "Requirement already satisfied: smart-open<6.0.0,>=5.2.1 in /usr/local/lib/python3.7/dist-packages (from pathy>=0.3.5->spacy<4.0.0,>=3.0.0->spacy-udpipe) (5.2.1)\n",
            "Requirement already satisfied: certifi>=2017.4.17 in /usr/local/lib/python3.7/dist-packages (from requests<3.0.0,>=2.13.0->spacy<4.0.0,>=3.0.0->spacy-udpipe) (2022.9.24)\n",
            "Requirement already satisfied: urllib3!=1.25.0,!=1.25.1,<1.26,>=1.21.1 in /usr/local/lib/python3.7/dist-packages (from requests<3.0.0,>=2.13.0->spacy<4.0.0,>=3.0.0->spacy-udpipe) (1.24.3)\n",
            "Requirement already satisfied: chardet<4,>=3.0.2 in /usr/local/lib/python3.7/dist-packages (from requests<3.0.0,>=2.13.0->spacy<4.0.0,>=3.0.0->spacy-udpipe) (3.0.4)\n",
            "Requirement already satisfied: idna<3,>=2.5 in /usr/local/lib/python3.7/dist-packages (from requests<3.0.0,>=2.13.0->spacy<4.0.0,>=3.0.0->spacy-udpipe) (2.10)\n",
            "Requirement already satisfied: blis<0.8.0,>=0.7.8 in /usr/local/lib/python3.7/dist-packages (from thinc<8.2.0,>=8.1.0->spacy<4.0.0,>=3.0.0->spacy-udpipe) (0.7.9)\n",
            "Requirement already satisfied: confection<1.0.0,>=0.0.1 in /usr/local/lib/python3.7/dist-packages (from thinc<8.2.0,>=8.1.0->spacy<4.0.0,>=3.0.0->spacy-udpipe) (0.0.3)\n",
            "Requirement already satisfied: click<9.0.0,>=7.1.1 in /usr/local/lib/python3.7/dist-packages (from typer<0.5.0,>=0.3.0->spacy<4.0.0,>=3.0.0->spacy-udpipe) (7.1.2)\n",
            "Requirement already satisfied: MarkupSafe>=0.23 in /usr/local/lib/python3.7/dist-packages (from jinja2->spacy<4.0.0,>=3.0.0->spacy-udpipe) (2.0.1)\n",
            "Building wheels for collected packages: ufal.udpipe\n",
            "  Building wheel for ufal.udpipe (setup.py) ... \u001b[?25l\u001b[?25hdone\n",
            "  Created wheel for ufal.udpipe: filename=ufal.udpipe-1.2.0.3-cp37-cp37m-linux_x86_64.whl size=5626632 sha256=d4bf3e2be3271348fec8824136692011d2cc37b567c2984eb7d09d885b585eb6\n",
            "  Stored in directory: /root/.cache/pip/wheels/b8/b5/8e/3da091629a21ce2d10bf90759d0cb034ba10a5cf7a01e83d64\n",
            "Successfully built ufal.udpipe\n",
            "Installing collected packages: ufal.udpipe, spacy-udpipe\n",
            "Successfully installed spacy-udpipe-1.0.0 ufal.udpipe-1.2.0.3\n"
          ]
        }
      ]
    },
    {
      "cell_type": "code",
      "source": [
        "import spacy_udpipe"
      ],
      "metadata": {
        "id": "1TgSI3Fg-rz4"
      },
      "execution_count": 27,
      "outputs": []
    },
    {
      "cell_type": "code",
      "source": [
        "spacy_udpipe.download(\"ru\")"
      ],
      "metadata": {
        "colab": {
          "base_uri": "https://localhost:8080/"
        },
        "id": "SMUt-civ-zF_",
        "outputId": "ff15d00f-1cc7-4a3c-87f3-b8acee1d95c7"
      },
      "execution_count": 28,
      "outputs": [
        {
          "output_type": "stream",
          "name": "stdout",
          "text": [
            "Downloaded pre-trained UDPipe model for 'ru' language\n"
          ]
        }
      ]
    },
    {
      "cell_type": "code",
      "source": [
        "nlp = spacy_udpipe.load(\"ru\")"
      ],
      "metadata": {
        "id": "gs-zXiZ8-13m"
      },
      "execution_count": 170,
      "outputs": []
    },
    {
      "cell_type": "code",
      "source": [],
      "metadata": {
        "id": "mo6xyCrGvg3d"
      },
      "execution_count": null,
      "outputs": []
    },
    {
      "cell_type": "code",
      "source": [
        "# текст 1"
      ],
      "metadata": {
        "id": "3nwoGmXAvh00"
      },
      "execution_count": null,
      "outputs": []
    },
    {
      "cell_type": "code",
      "source": [
        "# шаблоны: только сущ, только прил, прил+сущ, гл+сущ, гл+сущ+прил"
      ],
      "metadata": {
        "id": "ug8J5dW96k9l"
      },
      "execution_count": null,
      "outputs": []
    },
    {
      "cell_type": "code",
      "source": [
        "key_words1"
      ],
      "metadata": {
        "colab": {
          "base_uri": "https://localhost:8080/"
        },
        "id": "lS6_vEfg7EWi",
        "outputId": "77071ca7-7235-45d4-8da6-6ce456c0be9a"
      },
      "execution_count": 208,
      "outputs": [
        {
          "output_type": "execute_result",
          "data": {
            "text/plain": [
              "['самоотношение',\n",
              " 'самоуважение',\n",
              " 'аутосимпатия',\n",
              " 'самоинтерес',\n",
              " 'ожидаемый отношение другой',\n",
              " 'отношение',\n",
              " 'самооценка',\n",
              " 'ожидаемый отношение']"
            ]
          },
          "metadata": {},
          "execution_count": 208
        }
      ]
    },
    {
      "cell_type": "code",
      "source": [
        "# rake"
      ],
      "metadata": {
        "id": "gaMFYYxL7WW6"
      },
      "execution_count": null,
      "outputs": []
    },
    {
      "cell_type": "code",
      "source": [
        "# создаем словарь\n",
        "s = rake.run(normalize_text(text1), maxWords=4, minFrequency=2)\n",
        "dic = []\n",
        "for i in range(len(s)):\n",
        "    dic.append(s[i][0])\n",
        "\n",
        "# фильтруем\n",
        "\n",
        "filtered_dic = []\n",
        "\n",
        "for i in range(len(dic)):\n",
        "    doc = nlp(dic[i])\n",
        "    if len(doc) == 1:\n",
        "        if doc[0].pos_ == 'NOUN' or doc[0].pos_ == 'ADJ':\n",
        "            filtered_dic.append(dic[i])\n",
        "    elif len(doc) == 2:\n",
        "        if doc[0].pos_ == 'ADJ' and doc[1].pos_ == 'NOUN':\n",
        "            filtered_dic.append(dic[i])\n",
        "    elif len(doc) == 2:\n",
        "        if doc[0].pos_ == 'VERB' and doc[1].pos_ == 'NOUN':\n",
        "            filtered_dic.append(dic[i])\n",
        "    elif len(doc) == 3:\n",
        "        if doc[0].pos_ == 'VERB' and doc[1].pos_ == 'NOUN' and doc[2].pos_ == 'ADJ':\n",
        "            filtered_dic.append(dic[i])\n",
        "\n",
        "\n",
        "# метрики\n",
        "\n",
        "true_pos, false_pos, false_neg = error_matr_counts(key_words1, filtered_dic) \n",
        "\n",
        "# точность\n",
        "precision = true_pos / (true_pos + false_pos + 0.000001)\n",
        "print('точность: ', precision)\n",
        "\n",
        "# полнота\n",
        "recall = true_pos / (true_pos + false_neg + 0.000001)\n",
        "print('полнота: ', recall)\n",
        "\n",
        "# f1-мера\n",
        "f1 = 2 * (precision*recall) / (precision + recall + 0.000001)\n",
        "print('f1-мера: ', f1)"
      ],
      "metadata": {
        "colab": {
          "base_uri": "https://localhost:8080/"
        },
        "id": "eCkuO91a73eD",
        "outputId": "e629883f-641d-4f58-92bd-2aa985be92af"
      },
      "execution_count": 212,
      "outputs": [
        {
          "output_type": "stream",
          "name": "stdout",
          "text": [
            "точность:  0.2222222098765439\n",
            "полнота:  0.4999999375000079\n",
            "f1-мера:  0.307691857988746\n"
          ]
        }
      ]
    },
    {
      "cell_type": "code",
      "source": [
        "# text bank"
      ],
      "metadata": {
        "id": "5cWXzaQq-c_e"
      },
      "execution_count": null,
      "outputs": []
    },
    {
      "cell_type": "code",
      "source": [
        "# создаем словарь\n",
        "s = keywords.keywords(normalize_text(text1), language='russian', additional_stopwords=stop, scores=True)\n",
        "dic = []\n",
        "for i in range(len(s)):\n",
        "    dic.append(s[i][0])\n",
        "\n",
        "# фильтруем\n",
        "\n",
        "filtered_dic = []\n",
        "\n",
        "for i in range(len(dic)):\n",
        "    doc = nlp(dic[i])\n",
        "    if len(doc) == 1:\n",
        "        if doc[0].pos_ == 'NOUN' or doc[0].pos_ == 'ADJ':\n",
        "            filtered_dic.append(dic[i])\n",
        "    elif len(doc) == 2:\n",
        "        if doc[0].pos_ == 'ADJ' and doc[1].pos_ == 'NOUN':\n",
        "            filtered_dic.append(dic[i])\n",
        "    elif len(doc) == 2:\n",
        "        if doc[0].pos_ == 'VERB' and doc[1].pos_ == 'NOUN':\n",
        "            filtered_dic.append(dic[i])\n",
        "    elif len(doc) == 3:\n",
        "        if doc[0].pos_ == 'VERB' and doc[1].pos_ == 'NOUN' and doc[2].pos_ == 'ADJ':\n",
        "            filtered_dic.append(dic[i])\n",
        "\n",
        "\n",
        "# метрики\n",
        "\n",
        "true_pos, false_pos, false_neg = error_matr_counts(key_words1, filtered_dic) \n",
        "\n",
        "# точность\n",
        "precision = true_pos / (true_pos + false_pos + 0.000001)\n",
        "print('точность: ', precision)\n",
        "\n",
        "# полнота\n",
        "recall = true_pos / (true_pos + false_neg + 0.000001)\n",
        "print('полнота: ', recall)\n",
        "\n",
        "# f1-мера\n",
        "f1 = 2 * (precision*recall) / (precision + recall + 0.000001)\n",
        "print('f1-мера: ', f1)"
      ],
      "metadata": {
        "colab": {
          "base_uri": "https://localhost:8080/"
        },
        "id": "jq-Ihqgn-fp4",
        "outputId": "c79ed8b9-5bc3-41e8-bcb5-96a72136d0cc"
      },
      "execution_count": 213,
      "outputs": [
        {
          "output_type": "stream",
          "name": "stdout",
          "text": [
            "точность:  0.06896551486325811\n",
            "полнота:  0.24999996875000394\n",
            "f1-мера:  0.10810776333194398\n"
          ]
        }
      ]
    },
    {
      "cell_type": "code",
      "source": [
        "# bert"
      ],
      "metadata": {
        "id": "E9cXpmBf-3QC"
      },
      "execution_count": null,
      "outputs": []
    },
    {
      "cell_type": "code",
      "source": [
        "# создаем словарь\n",
        "s1 = kw_model.extract_keywords(normalize_text(text1), keyphrase_ngram_range=(1, 1), stop_words=stop)\n",
        "dic = []\n",
        "for i in range(len(s1)):\n",
        "    dic.append(s1[i][0])\n",
        "\n",
        "s2 = kw_model.extract_keywords(normalize_text(text1), keyphrase_ngram_range=(1, 2), stop_words=stop)\n",
        "for i in range(len(s2)):\n",
        "    if s2[i][0] not in dic:\n",
        "        dic.append(s2[i][0])\n",
        "\n",
        "s3 = kw_model.extract_keywords(normalize_text(text1), keyphrase_ngram_range=(1, 3), stop_words=stop)\n",
        "for i in range(len(s3)):\n",
        "    if s3[i][0] not in dic:\n",
        "        dic.append(s3[i][0])\n",
        "\n",
        "# фильтруем\n",
        "\n",
        "filtered_dic = []\n",
        "\n",
        "for i in range(len(dic)):\n",
        "    doc = nlp(dic[i])\n",
        "    if len(doc) == 1:\n",
        "        if doc[0].pos_ == 'NOUN' or doc[0].pos_ == 'ADJ':\n",
        "            filtered_dic.append(dic[i])\n",
        "    elif len(doc) == 2:\n",
        "        if doc[0].pos_ == 'ADJ' and doc[1].pos_ == 'NOUN':\n",
        "            filtered_dic.append(dic[i])\n",
        "    elif len(doc) == 2:\n",
        "        if doc[0].pos_ == 'VERB' and doc[1].pos_ == 'NOUN':\n",
        "            filtered_dic.append(dic[i])\n",
        "    elif len(doc) == 3:\n",
        "        if doc[0].pos_ == 'VERB' and doc[1].pos_ == 'NOUN' and doc[2].pos_ == 'ADJ':\n",
        "            filtered_dic.append(dic[i])\n",
        "\n",
        "# метрики\n",
        "\n",
        "true_pos, false_pos, false_neg = error_matr_counts(key_words1, filtered_dic) \n",
        "\n",
        "# точность\n",
        "precision = true_pos / (true_pos + false_pos + 0.000001)\n",
        "print('точность: ', precision)\n",
        "\n",
        "# полнота\n",
        "recall = true_pos / (true_pos + false_neg + 0.000001)\n",
        "print('полнота: ', recall)\n",
        "\n",
        "# f1-мера\n",
        "f1 = 2 * (precision*recall) / (precision + recall + 0.000001)\n",
        "print('f1-мера: ', f1)"
      ],
      "metadata": {
        "colab": {
          "base_uri": "https://localhost:8080/"
        },
        "id": "dzRdQC-c--h0",
        "outputId": "5982524c-36ae-493e-a327-28dd09432b83"
      },
      "execution_count": 229,
      "outputs": [
        {
          "output_type": "stream",
          "name": "stdout",
          "text": [
            "точность:  0.24999993750001562\n",
            "полнота:  0.12499998437500197\n",
            "f1-мера:  0.16666619444561576\n"
          ]
        }
      ]
    },
    {
      "cell_type": "code",
      "source": [
        "# текст 2"
      ],
      "metadata": {
        "id": "vhvhmXnR_UE1"
      },
      "execution_count": null,
      "outputs": []
    },
    {
      "cell_type": "code",
      "source": [
        "# шаблоны: только сущ, только прил, прил+сущ, сущ+сущ, прил+прил+прил+сущ"
      ],
      "metadata": {
        "id": "7u90a0nj_WqT"
      },
      "execution_count": null,
      "outputs": []
    },
    {
      "cell_type": "code",
      "source": [
        "key_words2"
      ],
      "metadata": {
        "colab": {
          "base_uri": "https://localhost:8080/"
        },
        "id": "Ou5maf56_f5I",
        "outputId": "89e341e6-2208-4660-d652-4892a02c4787"
      },
      "execution_count": 215,
      "outputs": [
        {
          "output_type": "execute_result",
          "data": {
            "text/plain": [
              "['скрытый реклама',\n",
              " 'реклама',\n",
              " 'литературный',\n",
              " 'массовый литература',\n",
              " 'художественный литература',\n",
              " 'литература',\n",
              " 'современный художественный массовый литература',\n",
              " 'авторский стратегия',\n",
              " 'авторский',\n",
              " 'коммерциализация литература']"
            ]
          },
          "metadata": {},
          "execution_count": 215
        }
      ]
    },
    {
      "cell_type": "code",
      "source": [
        "# rake"
      ],
      "metadata": {
        "id": "lfmzf0c5_5Qq"
      },
      "execution_count": null,
      "outputs": []
    },
    {
      "cell_type": "code",
      "source": [
        "# создаем словарь\n",
        "s = rake.run(normalize_text(text2), maxWords=4, minFrequency=2)\n",
        "dic = []\n",
        "for i in range(len(s)):\n",
        "    dic.append(s[i][0])\n",
        "\n",
        "# фильтруем\n",
        "\n",
        "filtered_dic = []\n",
        "\n",
        "for i in range(len(dic)):\n",
        "    doc = nlp(dic[i])\n",
        "    if len(doc) == 1:\n",
        "        if doc[0].pos_ == 'NOUN' or doc[0].pos_ == 'ADJ':\n",
        "            filtered_dic.append(dic[i])\n",
        "    elif len(doc) == 2:\n",
        "        if doc[0].pos_ == 'ADJ' and doc[1].pos_ == 'NOUN':\n",
        "            filtered_dic.append(dic[i])\n",
        "    elif len(doc) == 2:\n",
        "        if doc[0].pos_ == 'NOUN' and doc[1].pos_ == 'NOUN':\n",
        "            filtered_dic.append(dic[i])\n",
        "    elif len(doc) == 4:\n",
        "        if doc[0].pos_ == 'ADJ' and doc[1].pos_ == 'ADJ' and doc[2].pos_ == 'ADJ' and doc[3].pos_ == 'NOUN':\n",
        "            filtered_dic.append(dic[i])\n",
        "\n",
        "\n",
        "# метрики\n",
        "\n",
        "true_pos, false_pos, false_neg = error_matr_counts(key_words2, filtered_dic) \n",
        "\n",
        "# точность\n",
        "precision = true_pos / (true_pos + false_pos + 0.000001)\n",
        "print('точность: ', precision)\n",
        "\n",
        "# полнота\n",
        "recall = true_pos / (true_pos + false_neg + 0.000001)\n",
        "print('полнота: ', recall)\n",
        "\n",
        "# f1-мера\n",
        "f1 = 2 * (precision*recall) / (precision + recall + 0.000001)\n",
        "print('f1-мера: ', f1)"
      ],
      "metadata": {
        "colab": {
          "base_uri": "https://localhost:8080/"
        },
        "id": "4iP8JNWC_8FV",
        "outputId": "d99fef52-7e78-4c4a-ba33-e87e8dfc412a"
      },
      "execution_count": 216,
      "outputs": [
        {
          "output_type": "stream",
          "name": "stdout",
          "text": [
            "точность:  0.14285713265306196\n",
            "полнота:  0.19999998000000202\n",
            "f1-мера:  0.16666616666808337\n"
          ]
        }
      ]
    },
    {
      "cell_type": "code",
      "source": [
        "# text bank"
      ],
      "metadata": {
        "id": "xy5cFo1A-n9n"
      },
      "execution_count": null,
      "outputs": []
    },
    {
      "cell_type": "code",
      "source": [
        "# создаем словарь\n",
        "s = keywords.keywords(normalize_text(text2), language='russian', additional_stopwords=stop, scores=True)\n",
        "dic = []\n",
        "for i in range(len(s)):\n",
        "    dic.append(s[i][0])\n",
        "\n",
        "# фильтруем\n",
        "\n",
        "filtered_dic = []\n",
        "\n",
        "for i in range(len(dic)):\n",
        "    doc = nlp(dic[i])\n",
        "    if len(doc) == 1:\n",
        "        if doc[0].pos_ == 'NOUN' or doc[0].pos_ == 'ADJ':\n",
        "            filtered_dic.append(dic[i])\n",
        "    elif len(doc) == 2:\n",
        "        if doc[0].pos_ == 'ADJ' and doc[1].pos_ == 'NOUN':\n",
        "            filtered_dic.append(dic[i])\n",
        "    elif len(doc) == 2:\n",
        "        if doc[0].pos_ == 'NOUN' and doc[1].pos_ == 'NOUN':\n",
        "            filtered_dic.append(dic[i])\n",
        "    elif len(doc) == 4:\n",
        "        if doc[0].pos_ == 'ADJ' and doc[1].pos_ == 'ADJ' and doc[2].pos_ == 'ADJ' and doc[3].pos_ == 'NOUN':\n",
        "            filtered_dic.append(dic[i])\n",
        "\n",
        "\n",
        "# метрики\n",
        "\n",
        "true_pos, false_pos, false_neg = error_matr_counts(key_words2, filtered_dic) \n",
        "\n",
        "# точность\n",
        "precision = true_pos / (true_pos + false_pos + 0.000001)\n",
        "print('точность: ', precision)\n",
        "\n",
        "# полнота\n",
        "recall = true_pos / (true_pos + false_neg + 0.000001)\n",
        "print('полнота: ', recall)\n",
        "\n",
        "# f1-мера\n",
        "f1 = 2 * (precision*recall) / (precision + recall + 0.000001)\n",
        "print('f1-мера: ', f1)"
      ],
      "metadata": {
        "colab": {
          "base_uri": "https://localhost:8080/"
        },
        "id": "LNwBgvy4ABfE",
        "outputId": "e8aa1109-fbee-43d3-938f-df2eeb6b40b0"
      },
      "execution_count": 217,
      "outputs": [
        {
          "output_type": "stream",
          "name": "stdout",
          "text": [
            "точность:  0.03389830451019823\n",
            "полнота:  0.19999998000000202\n",
            "f1-мера:  0.05797076496638848\n"
          ]
        }
      ]
    },
    {
      "cell_type": "code",
      "source": [
        "# bert"
      ],
      "metadata": {
        "id": "0G0G8_XCABry"
      },
      "execution_count": null,
      "outputs": []
    },
    {
      "cell_type": "code",
      "source": [
        "# создаем словарь\n",
        "s1 = kw_model.extract_keywords(normalize_text(text2), keyphrase_ngram_range=(1, 1), stop_words=stop)\n",
        "dic = []\n",
        "for i in range(len(s1)):\n",
        "    dic.append(s1[i][0])\n",
        "\n",
        "s2 = kw_model.extract_keywords(normalize_text(text2), keyphrase_ngram_range=(1, 2), stop_words=stop)\n",
        "for i in range(len(s2)):\n",
        "    if s2[i][0] not in dic:\n",
        "        dic.append(s2[i][0])\n",
        "\n",
        "s3 = kw_model.extract_keywords(normalize_text(text2), keyphrase_ngram_range=(1, 3), stop_words=stop)\n",
        "for i in range(len(s3)):\n",
        "    if s3[i][0] not in dic:\n",
        "        dic.append(s3[i][0])\n",
        "\n",
        "# фильтруем\n",
        "\n",
        "filtered_dic = []\n",
        "\n",
        "for i in range(len(dic)):\n",
        "    doc = nlp(dic[i])\n",
        "    if len(doc) == 1:\n",
        "        if doc[0].pos_ == 'NOUN' or doc[0].pos_ == 'ADJ':\n",
        "            filtered_dic.append(dic[i])\n",
        "    elif len(doc) == 2:\n",
        "        if doc[0].pos_ == 'ADJ' and doc[1].pos_ == 'NOUN':\n",
        "            filtered_dic.append(dic[i])\n",
        "    elif len(doc) == 2:\n",
        "        if doc[0].pos_ == 'NOUN' and doc[1].pos_ == 'NOUN':\n",
        "            filtered_dic.append(dic[i])\n",
        "    elif len(doc) == 4:\n",
        "        if doc[0].pos_ == 'ADJ' and doc[1].pos_ == 'ADJ' and doc[2].pos_ == 'ADJ' and doc[3].pos_ == 'NOUN':\n",
        "            filtered_dic.append(dic[i])\n",
        "\n",
        "# метрики\n",
        "\n",
        "true_pos, false_pos, false_neg = error_matr_counts(key_words2, filtered_dic) \n",
        "\n",
        "# точность\n",
        "precision = true_pos / (true_pos + false_pos + 0.000001)\n",
        "print('точность: ', precision)\n",
        "\n",
        "# полнота\n",
        "recall = true_pos / (true_pos + false_neg + 0.000001)\n",
        "print('полнота: ', recall)\n",
        "\n",
        "# f1-мера\n",
        "f1 = 2 * (precision*recall) / (precision + recall + 0.000001)\n",
        "print('f1-мера: ', f1)"
      ],
      "metadata": {
        "colab": {
          "base_uri": "https://localhost:8080/"
        },
        "id": "x1XFrZs5AFfp",
        "outputId": "ef9677eb-7c7d-4ba2-e53e-b4d983d32b4b"
      },
      "execution_count": 230,
      "outputs": [
        {
          "output_type": "stream",
          "name": "stdout",
          "text": [
            "точность:  0.1428571224489825\n",
            "полнота:  0.09999999000000101\n",
            "f1-мера:  0.11764656055562589\n"
          ]
        }
      ]
    },
    {
      "cell_type": "code",
      "source": [
        "# текст 3"
      ],
      "metadata": {
        "id": "H9mo7NqYBh4l"
      },
      "execution_count": null,
      "outputs": []
    },
    {
      "cell_type": "code",
      "source": [
        "# шаблоны: сущ, прил, прил+сущ, сущ+прил+сущ, прил+сущ+сущ"
      ],
      "metadata": {
        "id": "iA8_q7_WBkC1"
      },
      "execution_count": null,
      "outputs": []
    },
    {
      "cell_type": "code",
      "source": [
        "key_words3"
      ],
      "metadata": {
        "colab": {
          "base_uri": "https://localhost:8080/"
        },
        "id": "EYVVUdnyBld7",
        "outputId": "e8d0b525-eb0b-4e61-ec80-74dcdbf7a094"
      },
      "execution_count": 220,
      "outputs": [
        {
          "output_type": "execute_result",
          "data": {
            "text/plain": [
              "['детский порнография',\n",
              " 'распространение детский порнография',\n",
              " 'сексуальный насилие дети',\n",
              " 'сексуальный насилие',\n",
              " 'преступление',\n",
              " 'интернет',\n",
              " 'защита',\n",
              " 'противодействие']"
            ]
          },
          "metadata": {},
          "execution_count": 220
        }
      ]
    },
    {
      "cell_type": "code",
      "source": [
        "# rake"
      ],
      "metadata": {
        "id": "falOZXazAFi_"
      },
      "execution_count": null,
      "outputs": []
    },
    {
      "cell_type": "code",
      "source": [
        "# создаем словарь\n",
        "s = rake.run(normalize_text(text3), maxWords=4, minFrequency=2)\n",
        "dic = []\n",
        "for i in range(len(s)):\n",
        "    dic.append(s[i][0])\n",
        "\n",
        "# фильтруем\n",
        "\n",
        "filtered_dic = []\n",
        "\n",
        "for i in range(len(dic)):\n",
        "    doc = nlp(dic[i])\n",
        "    if len(doc) == 1:\n",
        "        if doc[0].pos_ == 'NOUN' or doc[0].pos_ == 'ADJ':\n",
        "            filtered_dic.append(dic[i])\n",
        "    elif len(doc) == 2:\n",
        "        if doc[0].pos_ == 'ADJ' and doc[1].pos_ == 'NOUN':\n",
        "            filtered_dic.append(dic[i])\n",
        "    elif len(doc) == 3:\n",
        "        if doc[0].pos_ == 'NOUN' and doc[1].pos_ == 'ADJ' and doc[2].pos_ == 'NOUN':\n",
        "            filtered_dic.append(dic[i])\n",
        "    elif len(doc) == 3:\n",
        "        if doc[0].pos_ == 'ADJ' and doc[1].pos_ == 'NOUN' and doc[2].pos_ == 'NOUN':\n",
        "            filtered_dic.append(dic[i])\n",
        "\n",
        "\n",
        "# метрики\n",
        "\n",
        "true_pos, false_pos, false_neg = error_matr_counts(key_words3, filtered_dic) \n",
        "\n",
        "# точность\n",
        "precision = true_pos / (true_pos + false_pos + 0.000001)\n",
        "print('точность: ', precision)\n",
        "\n",
        "# полнота\n",
        "recall = true_pos / (true_pos + false_neg + 0.000001)\n",
        "print('полнота: ', recall)\n",
        "\n",
        "# f1-мера\n",
        "f1 = 2 * (precision*recall) / (precision + recall + 0.000001)\n",
        "print('f1-мера: ', f1)"
      ],
      "metadata": {
        "colab": {
          "base_uri": "https://localhost:8080/"
        },
        "id": "dljR8b43Bvla",
        "outputId": "80eec9f6-e074-40a0-9f36-3511264dc13c"
      },
      "execution_count": 221,
      "outputs": [
        {
          "output_type": "stream",
          "name": "stdout",
          "text": [
            "точность:  0.499999750000125\n",
            "полнота:  0.12499998437500197\n",
            "f1-мера:  0.199999640000448\n"
          ]
        }
      ]
    },
    {
      "cell_type": "code",
      "source": [
        "# text bank"
      ],
      "metadata": {
        "id": "R6D2dZl8BwM8"
      },
      "execution_count": null,
      "outputs": []
    },
    {
      "cell_type": "code",
      "source": [
        "# создаем словарь\n",
        "s = keywords.keywords(normalize_text(text3), language='russian', additional_stopwords=stop, scores=True)\n",
        "dic = []\n",
        "for i in range(len(s)):\n",
        "    dic.append(s[i][0])\n",
        "\n",
        "# фильтруем\n",
        "\n",
        "filtered_dic = []\n",
        "\n",
        "for i in range(len(dic)):\n",
        "    doc = nlp(dic[i])\n",
        "    if len(doc) == 1:\n",
        "        if doc[0].pos_ == 'NOUN' or doc[0].pos_ == 'ADJ':\n",
        "            filtered_dic.append(dic[i])\n",
        "    elif len(doc) == 2:\n",
        "        if doc[0].pos_ == 'ADJ' and doc[1].pos_ == 'NOUN':\n",
        "            filtered_dic.append(dic[i])\n",
        "    elif len(doc) == 3:\n",
        "        if doc[0].pos_ == 'NOUN' and doc[1].pos_ == 'ADJ' and doc[2].pos_ == 'NOUN':\n",
        "            filtered_dic.append(dic[i])\n",
        "    elif len(doc) == 3:\n",
        "        if doc[0].pos_ == 'ADJ' and doc[1].pos_ == 'NOUN' and doc[2].pos_ == 'NOUN':\n",
        "            filtered_dic.append(dic[i])\n",
        "\n",
        "\n",
        "# метрики\n",
        "\n",
        "true_pos, false_pos, false_neg = error_matr_counts(key_words3, filtered_dic) \n",
        "\n",
        "# точность\n",
        "precision = true_pos / (true_pos + false_pos + 0.000001)\n",
        "print('точность: ', precision)\n",
        "\n",
        "# полнота\n",
        "recall = true_pos / (true_pos + false_neg + 0.000001)\n",
        "print('полнота: ', recall)\n",
        "\n",
        "# f1-мера\n",
        "f1 = 2 * (precision*recall) / (precision + recall + 0.000001)\n",
        "print('f1-мера: ', f1)"
      ],
      "metadata": {
        "colab": {
          "base_uri": "https://localhost:8080/"
        },
        "id": "hKroLsuyBzEQ",
        "outputId": "f7eaee5c-997e-4e2b-bae7-01d60e898b9b"
      },
      "execution_count": 223,
      "outputs": [
        {
          "output_type": "stream",
          "name": "stdout",
          "text": [
            "точность:  0.12499999218750048\n",
            "полнота:  0.24999996875000394\n",
            "f1-мера:  0.1666662083345104\n"
          ]
        }
      ]
    },
    {
      "cell_type": "code",
      "source": [
        "# bert"
      ],
      "metadata": {
        "id": "gt73YF8XBzPt"
      },
      "execution_count": null,
      "outputs": []
    },
    {
      "cell_type": "code",
      "source": [
        "# создаем словарь\n",
        "s1 = kw_model.extract_keywords(normalize_text(text3), keyphrase_ngram_range=(1, 1), stop_words=stop)\n",
        "dic = []\n",
        "for i in range(len(s1)):\n",
        "    dic.append(s1[i][0])\n",
        "\n",
        "s2 = kw_model.extract_keywords(normalize_text(text3), keyphrase_ngram_range=(1, 2), stop_words=stop)\n",
        "for i in range(len(s2)):\n",
        "    if s2[i][0] not in dic:\n",
        "        dic.append(s2[i][0])\n",
        "\n",
        "s3 = kw_model.extract_keywords(normalize_text(text3), keyphrase_ngram_range=(1, 3), stop_words=stop)\n",
        "for i in range(len(s3)):\n",
        "    if s3[i][0] not in dic:\n",
        "        dic.append(s3[i][0])\n",
        "\n",
        "# фильтруем\n",
        "\n",
        "filtered_dic = []\n",
        "\n",
        "for i in range(len(dic)):\n",
        "    doc = nlp(dic[i])\n",
        "    if len(doc) == 1:\n",
        "        if doc[0].pos_ == 'NOUN' or doc[0].pos_ == 'ADJ':\n",
        "            filtered_dic.append(dic[i])\n",
        "    elif len(doc) == 2:\n",
        "        if doc[0].pos_ == 'ADJ' and doc[1].pos_ == 'NOUN':\n",
        "            filtered_dic.append(dic[i])\n",
        "    elif len(doc) == 3:\n",
        "        if doc[0].pos_ == 'NOUN' and doc[1].pos_ == 'ADJ' and doc[2].pos_ == 'NOUN':\n",
        "            filtered_dic.append(dic[i])\n",
        "    elif len(doc) == 3:\n",
        "        if doc[0].pos_ == 'ADJ' and doc[1].pos_ == 'NOUN' and doc[2].pos_ == 'NOUN':\n",
        "            filtered_dic.append(dic[i])\n",
        "\n",
        "# метрики\n",
        "\n",
        "true_pos, false_pos, false_neg = error_matr_counts(key_words3, filtered_dic) \n",
        "\n",
        "# точность\n",
        "precision = true_pos / (true_pos + false_pos + 0.000001)\n",
        "print('точность: ', precision)\n",
        "\n",
        "# полнота\n",
        "recall = true_pos / (true_pos + false_neg + 0.000001)\n",
        "print('полнота: ', recall)\n",
        "\n",
        "# f1-мера\n",
        "f1 = 2 * (precision*recall) / (precision + recall + 0.000001)\n",
        "print('f1-мера: ', f1)"
      ],
      "metadata": {
        "colab": {
          "base_uri": "https://localhost:8080/"
        },
        "id": "eKMK9laJB1Ya",
        "outputId": "0b8e3089-180b-4245-ea2a-210dc525313a"
      },
      "execution_count": 228,
      "outputs": [
        {
          "output_type": "stream",
          "name": "stdout",
          "text": [
            "точность:  0.1428571224489825\n",
            "полнота:  0.12499998437500197\n",
            "f1-мера:  0.13333281777963796\n"
          ]
        }
      ]
    },
    {
      "cell_type": "code",
      "source": [
        "# текст4"
      ],
      "metadata": {
        "id": "Z5lWxhexB10G"
      },
      "execution_count": null,
      "outputs": []
    },
    {
      "cell_type": "code",
      "source": [
        "# шаблоны: сущ, прил, прил+сущ"
      ],
      "metadata": {
        "id": "ZuPwQBdmB4OB"
      },
      "execution_count": null,
      "outputs": []
    },
    {
      "cell_type": "code",
      "source": [
        "key_words4"
      ],
      "metadata": {
        "colab": {
          "base_uri": "https://localhost:8080/"
        },
        "id": "qIMYD6JaB6v0",
        "outputId": "1906b39f-bd99-4f57-9a96-a6e961edabaa"
      },
      "execution_count": 224,
      "outputs": [
        {
          "output_type": "execute_result",
          "data": {
            "text/plain": [
              "['правовой',\n",
              " 'право',\n",
              " 'законодательный',\n",
              " 'правовой информация',\n",
              " 'правовой культура',\n",
              " 'законодательство',\n",
              " 'юридический']"
            ]
          },
          "metadata": {},
          "execution_count": 224
        }
      ]
    },
    {
      "cell_type": "code",
      "source": [
        "# rake"
      ],
      "metadata": {
        "id": "2OGQXZJUB-GA"
      },
      "execution_count": null,
      "outputs": []
    },
    {
      "cell_type": "code",
      "source": [
        "# создаем словарь\n",
        "s = rake.run(normalize_text(text4), maxWords=4, minFrequency=2)\n",
        "dic = []\n",
        "for i in range(len(s)):\n",
        "    dic.append(s[i][0])\n",
        "\n",
        "# фильтруем\n",
        "\n",
        "filtered_dic = []\n",
        "\n",
        "for i in range(len(dic)):\n",
        "    doc = nlp(dic[i])\n",
        "    if len(doc) == 1:\n",
        "        if doc[0].pos_ == 'NOUN' or doc[0].pos_ == 'ADJ':\n",
        "            filtered_dic.append(dic[i])\n",
        "    elif len(doc) == 2:\n",
        "        if doc[0].pos_ == 'ADJ' and doc[1].pos_ == 'NOUN':\n",
        "            filtered_dic.append(dic[i])\n",
        "\n",
        "\n",
        "# метрики\n",
        "\n",
        "true_pos, false_pos, false_neg = error_matr_counts(key_words4, filtered_dic) \n",
        "\n",
        "# точность\n",
        "precision = true_pos / (true_pos + false_pos + 0.000001)\n",
        "print('точность: ', precision)\n",
        "\n",
        "# полнота\n",
        "recall = true_pos / (true_pos + false_neg + 0.000001)\n",
        "print('полнота: ', recall)\n",
        "\n",
        "# f1-мера\n",
        "f1 = 2 * (precision*recall) / (precision + recall + 0.000001)\n",
        "print('f1-мера: ', f1)"
      ],
      "metadata": {
        "colab": {
          "base_uri": "https://localhost:8080/"
        },
        "id": "DYu07rHnB_s4",
        "outputId": "76161dc2-7195-432f-c49c-ebae703bb055"
      },
      "execution_count": 226,
      "outputs": [
        {
          "output_type": "stream",
          "name": "stdout",
          "text": [
            "точность:  0.0\n",
            "полнота:  0.0\n",
            "f1-мера:  0.0\n"
          ]
        }
      ]
    },
    {
      "cell_type": "code",
      "source": [
        "# text bank"
      ],
      "metadata": {
        "id": "P975jWuAB_-p"
      },
      "execution_count": null,
      "outputs": []
    },
    {
      "cell_type": "code",
      "source": [
        "# создаем словарь\n",
        "s = keywords.keywords(normalize_text(text4), language='russian', additional_stopwords=stop, scores=True)\n",
        "dic = []\n",
        "for i in range(len(s)):\n",
        "    dic.append(s[i][0])\n",
        "\n",
        "# фильтруем\n",
        "\n",
        "filtered_dic = []\n",
        "\n",
        "for i in range(len(dic)):\n",
        "    doc = nlp(dic[i])\n",
        "    if len(doc) == 1:\n",
        "        if doc[0].pos_ == 'NOUN' or doc[0].pos_ == 'ADJ':\n",
        "            filtered_dic.append(dic[i])\n",
        "    elif len(doc) == 2:\n",
        "        if doc[0].pos_ == 'ADJ' and doc[1].pos_ == 'NOUN':\n",
        "            filtered_dic.append(dic[i])\n",
        "    \n",
        "\n",
        "# метрики\n",
        "\n",
        "true_pos, false_pos, false_neg = error_matr_counts(key_words4, filtered_dic) \n",
        "\n",
        "# точность\n",
        "precision = true_pos / (true_pos + false_pos + 0.000001)\n",
        "print('точность: ', precision)\n",
        "\n",
        "# полнота\n",
        "recall = true_pos / (true_pos + false_neg + 0.000001)\n",
        "print('полнота: ', recall)\n",
        "\n",
        "# f1-мера\n",
        "f1 = 2 * (precision*recall) / (precision + recall + 0.000001)\n",
        "print('f1-мера: ', f1)"
      ],
      "metadata": {
        "colab": {
          "base_uri": "https://localhost:8080/"
        },
        "id": "VPyophBaCCVw",
        "outputId": "5450820f-7952-4981-cdba-c5a11344cecf"
      },
      "execution_count": 227,
      "outputs": [
        {
          "output_type": "stream",
          "name": "stdout",
          "text": [
            "точность:  0.06976744023796651\n",
            "полнота:  0.4285713673469475\n",
            "f1-мера:  0.11999975440046266\n"
          ]
        }
      ]
    },
    {
      "cell_type": "code",
      "source": [
        "# bert"
      ],
      "metadata": {
        "id": "qFYo7bO3CCdn"
      },
      "execution_count": null,
      "outputs": []
    },
    {
      "cell_type": "code",
      "source": [
        "# создаем словарь\n",
        "s1 = kw_model.extract_keywords(normalize_text(text4), keyphrase_ngram_range=(1, 1), stop_words=stop)\n",
        "dic = []\n",
        "for i in range(len(s1)):\n",
        "    dic.append(s1[i][0])\n",
        "\n",
        "s2 = kw_model.extract_keywords(normalize_text(text4), keyphrase_ngram_range=(1, 2), stop_words=stop)\n",
        "for i in range(len(s2)):\n",
        "    if s2[i][0] not in dic:\n",
        "        dic.append(s2[i][0])\n",
        "\n",
        "s3 = kw_model.extract_keywords(normalize_text(text4), keyphrase_ngram_range=(1, 3), stop_words=stop)\n",
        "for i in range(len(s3)):\n",
        "    if s3[i][0] not in dic:\n",
        "        dic.append(s3[i][0])\n",
        "\n",
        "# фильтруем\n",
        "\n",
        "filtered_dic = []\n",
        "\n",
        "for i in range(len(dic)):\n",
        "    doc = nlp(dic[i])\n",
        "    if len(doc) == 1:\n",
        "        if doc[0].pos_ == 'NOUN' or doc[0].pos_ == 'ADJ':\n",
        "            filtered_dic.append(dic[i])\n",
        "    elif len(doc) == 2:\n",
        "        if doc[0].pos_ == 'ADJ' and doc[1].pos_ == 'NOUN':\n",
        "            filtered_dic.append(dic[i])\n",
        "\n",
        "# метрики\n",
        "\n",
        "true_pos, false_pos, false_neg = error_matr_counts(key_words4, filtered_dic) \n",
        "\n",
        "# точность\n",
        "precision = true_pos / (true_pos + false_pos + 0.000001)\n",
        "print('точность: ', precision)\n",
        "\n",
        "# полнота\n",
        "recall = true_pos / (true_pos + false_neg + 0.000001)\n",
        "print('полнота: ', recall)\n",
        "\n",
        "# f1-мера\n",
        "f1 = 2 * (precision*recall) / (precision + recall + 0.000001)\n",
        "print('f1-мера: ', f1)"
      ],
      "metadata": {
        "colab": {
          "base_uri": "https://localhost:8080/"
        },
        "id": "D5CLqTGDCEii",
        "outputId": "db745f0d-5f7b-474d-e6e0-343a19b82555"
      },
      "execution_count": 231,
      "outputs": [
        {
          "output_type": "stream",
          "name": "stdout",
          "text": [
            "точность:  0.285714244897965\n",
            "полнота:  0.285714244897965\n",
            "f1-мера:  0.28571374489884\n"
          ]
        }
      ]
    },
    {
      "cell_type": "markdown",
      "source": [
        "ОШИБКИ АВТОМАТИЧЕСКОГО ВЫДЕЛЕНИЯ КЛЮЧЕВЫХ СЛОВ: основная ошибка - выделение просто частотных слов в принципе (напр, \"человек\"), не несущих ключевого смысла для данного текста. Аналогично со словосочетаниями, выделяются частотные сочетания слов, входящие в частотные формулировки в конкретном тексте, но не несущие в себе иногда даже синтаксического смысла, или же логического (к примеру, \"группа 1\" в исследовании в 1 тексте) (однако ошибок со словосочетаниями стало меньше с применением фильтрации). \n",
        "\n",
        "Возможно, эту проблему можно уменьшить, указывая контекст (рядом стоящие слова и/или их морфологические тэги: например, чтобы вероятнее попадалось слово \"отношение\", а не \"человек\", указать характерных для этого слова соседей (предварительно их выделив). Кроме того, можно попытаться \"уловить общую идею текста\", например, применяя нейросети, и выделять контекстуально и по смыслу наиболее близкие к этой \"идее\" слова и словосочетания. Также можно включить в стоп-слова часто встречаемые в принципе слова (такие, как \"человек\"). Для словосочетаний можно применять морфо-синтаксические шаблоны, чтобы выделялось что-то наиболее синтаксически и не только осмысленное.\n"
      ],
      "metadata": {
        "id": "lGhJ1xiAGm3h"
      }
    }
  ]
}